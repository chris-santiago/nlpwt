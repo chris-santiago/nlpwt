{
 "cells": [
  {
   "cell_type": "code",
   "execution_count": 9,
   "id": "039329c4-08fb-4f1e-91af-8c7db4bae753",
   "metadata": {},
   "outputs": [],
   "source": [
    "import pandas as pd\n",
    "from transformers import pipeline"
   ]
  },
  {
   "cell_type": "code",
   "execution_count": 4,
   "id": "ded432a5-0954-4d3b-bea0-fcd109f1b358",
   "metadata": {},
   "outputs": [
    {
     "name": "stderr",
     "output_type": "stream",
     "text": [
      "No model was supplied, defaulted to distilbert-base-uncased-finetuned-sst-2-english (https://huggingface.co/distilbert-base-uncased-finetuned-sst-2-english)\n"
     ]
    },
    {
     "data": {
      "application/vnd.jupyter.widget-view+json": {
       "model_id": "f5a4050e21e843499a4d142021cf41d7",
       "version_major": 2,
       "version_minor": 0
      },
      "text/plain": [
       "Downloading:   0%|          | 0.00/629 [00:00<?, ?B/s]"
      ]
     },
     "metadata": {},
     "output_type": "display_data"
    },
    {
     "data": {
      "application/vnd.jupyter.widget-view+json": {
       "model_id": "b7f8431cc2fe4a00803fa9c36eb8f9a5",
       "version_major": 2,
       "version_minor": 0
      },
      "text/plain": [
       "Downloading:   0%|          | 0.00/255M [00:00<?, ?B/s]"
      ]
     },
     "metadata": {},
     "output_type": "display_data"
    },
    {
     "data": {
      "application/vnd.jupyter.widget-view+json": {
       "model_id": "f4285d967ec94aa28771880561f0f374",
       "version_major": 2,
       "version_minor": 0
      },
      "text/plain": [
       "Downloading:   0%|          | 0.00/48.0 [00:00<?, ?B/s]"
      ]
     },
     "metadata": {},
     "output_type": "display_data"
    },
    {
     "data": {
      "application/vnd.jupyter.widget-view+json": {
       "model_id": "6793b530cb9c4d7989b8d48890cb4074",
       "version_major": 2,
       "version_minor": 0
      },
      "text/plain": [
       "Downloading:   0%|          | 0.00/226k [00:00<?, ?B/s]"
      ]
     },
     "metadata": {},
     "output_type": "display_data"
    }
   ],
   "source": [
    "cls = pipeline(\"text-classification\")"
   ]
  },
  {
   "cell_type": "code",
   "execution_count": 12,
   "id": "afb381fc-b5b6-43d0-9424-cf818e5c72da",
   "metadata": {},
   "outputs": [
    {
     "name": "stderr",
     "output_type": "stream",
     "text": [
      "No model was supplied, defaulted to dbmdz/bert-large-cased-finetuned-conll03-english (https://huggingface.co/dbmdz/bert-large-cased-finetuned-conll03-english)\n"
     ]
    },
    {
     "data": {
      "application/vnd.jupyter.widget-view+json": {
       "model_id": "8ae77f0ab55d4ed4be6daba76eff45b4",
       "version_major": 2,
       "version_minor": 0
      },
      "text/plain": [
       "Downloading:   0%|          | 0.00/998 [00:00<?, ?B/s]"
      ]
     },
     "metadata": {},
     "output_type": "display_data"
    },
    {
     "data": {
      "application/vnd.jupyter.widget-view+json": {
       "model_id": "775b208cd2f04ae2a3ddf190e3f0d630",
       "version_major": 2,
       "version_minor": 0
      },
      "text/plain": [
       "Downloading:   0%|          | 0.00/1.24G [00:00<?, ?B/s]"
      ]
     },
     "metadata": {},
     "output_type": "display_data"
    },
    {
     "data": {
      "application/vnd.jupyter.widget-view+json": {
       "model_id": "bea11217a381442ba5f783e7843ea409",
       "version_major": 2,
       "version_minor": 0
      },
      "text/plain": [
       "Downloading:   0%|          | 0.00/60.0 [00:00<?, ?B/s]"
      ]
     },
     "metadata": {},
     "output_type": "display_data"
    },
    {
     "data": {
      "application/vnd.jupyter.widget-view+json": {
       "model_id": "d0fb401c29ee47c68696a1b0af68bbac",
       "version_major": 2,
       "version_minor": 0
      },
      "text/plain": [
       "Downloading:   0%|          | 0.00/208k [00:00<?, ?B/s]"
      ]
     },
     "metadata": {},
     "output_type": "display_data"
    }
   ],
   "source": [
    "ner_tagger = pipeline(\"ner\", aggregation_strategy=\"simple\")"
   ]
  },
  {
   "cell_type": "code",
   "execution_count": 14,
   "id": "d2476f45-d063-406a-91f1-f2de5a3f55df",
   "metadata": {},
   "outputs": [
    {
     "name": "stderr",
     "output_type": "stream",
     "text": [
      "No model was supplied, defaulted to distilbert-base-cased-distilled-squad (https://huggingface.co/distilbert-base-cased-distilled-squad)\n"
     ]
    },
    {
     "data": {
      "application/vnd.jupyter.widget-view+json": {
       "model_id": "c6507bd7c5b545ec82689e9ab27d3871",
       "version_major": 2,
       "version_minor": 0
      },
      "text/plain": [
       "Downloading:   0%|          | 0.00/473 [00:00<?, ?B/s]"
      ]
     },
     "metadata": {},
     "output_type": "display_data"
    },
    {
     "data": {
      "application/vnd.jupyter.widget-view+json": {
       "model_id": "1c72e6f9b5d8475596b69b369787911f",
       "version_major": 2,
       "version_minor": 0
      },
      "text/plain": [
       "Downloading:   0%|          | 0.00/249M [00:00<?, ?B/s]"
      ]
     },
     "metadata": {},
     "output_type": "display_data"
    },
    {
     "data": {
      "application/vnd.jupyter.widget-view+json": {
       "model_id": "7729e3f0d1924e55b5ff114e420ee4b9",
       "version_major": 2,
       "version_minor": 0
      },
      "text/plain": [
       "Downloading:   0%|          | 0.00/29.0 [00:00<?, ?B/s]"
      ]
     },
     "metadata": {},
     "output_type": "display_data"
    },
    {
     "data": {
      "application/vnd.jupyter.widget-view+json": {
       "model_id": "89b199c479574032864c32ea9c1ab51b",
       "version_major": 2,
       "version_minor": 0
      },
      "text/plain": [
       "Downloading:   0%|          | 0.00/208k [00:00<?, ?B/s]"
      ]
     },
     "metadata": {},
     "output_type": "display_data"
    },
    {
     "data": {
      "application/vnd.jupyter.widget-view+json": {
       "model_id": "6cd32cf085794092acc9ef1ae4a14127",
       "version_major": 2,
       "version_minor": 0
      },
      "text/plain": [
       "Downloading:   0%|          | 0.00/426k [00:00<?, ?B/s]"
      ]
     },
     "metadata": {},
     "output_type": "display_data"
    }
   ],
   "source": [
    "reader = pipeline(\"question-answering\")"
   ]
  },
  {
   "cell_type": "code",
   "execution_count": 15,
   "id": "ca0c3dcf-561b-48c3-9279-a34b92903d44",
   "metadata": {},
   "outputs": [
    {
     "name": "stderr",
     "output_type": "stream",
     "text": [
      "No model was supplied, defaulted to sshleifer/distilbart-cnn-12-6 (https://huggingface.co/sshleifer/distilbart-cnn-12-6)\n"
     ]
    },
    {
     "data": {
      "application/vnd.jupyter.widget-view+json": {
       "model_id": "28e9957d2f954e0ca059e0da606a3270",
       "version_major": 2,
       "version_minor": 0
      },
      "text/plain": [
       "Downloading:   0%|          | 0.00/1.76k [00:00<?, ?B/s]"
      ]
     },
     "metadata": {},
     "output_type": "display_data"
    },
    {
     "data": {
      "application/vnd.jupyter.widget-view+json": {
       "model_id": "0df221e52dbd4a319cdefbae3d26749f",
       "version_major": 2,
       "version_minor": 0
      },
      "text/plain": [
       "Downloading:   0%|          | 0.00/1.14G [00:00<?, ?B/s]"
      ]
     },
     "metadata": {},
     "output_type": "display_data"
    },
    {
     "data": {
      "application/vnd.jupyter.widget-view+json": {
       "model_id": "514f37877b614b0c85e62f0422baae80",
       "version_major": 2,
       "version_minor": 0
      },
      "text/plain": [
       "Downloading:   0%|          | 0.00/26.0 [00:00<?, ?B/s]"
      ]
     },
     "metadata": {},
     "output_type": "display_data"
    },
    {
     "data": {
      "application/vnd.jupyter.widget-view+json": {
       "model_id": "da3ec1da3ce1493ba18f3afd33fd6c72",
       "version_major": 2,
       "version_minor": 0
      },
      "text/plain": [
       "Downloading:   0%|          | 0.00/878k [00:00<?, ?B/s]"
      ]
     },
     "metadata": {},
     "output_type": "display_data"
    },
    {
     "data": {
      "application/vnd.jupyter.widget-view+json": {
       "model_id": "0c241cffa69344f98cafe4e1bb201561",
       "version_major": 2,
       "version_minor": 0
      },
      "text/plain": [
       "Downloading:   0%|          | 0.00/446k [00:00<?, ?B/s]"
      ]
     },
     "metadata": {},
     "output_type": "display_data"
    }
   ],
   "source": [
    "summarizer = pipeline(\"summarization\")"
   ]
  },
  {
   "cell_type": "markdown",
   "id": "7d6f0f35-9075-41a7-a44c-393523525f6b",
   "metadata": {},
   "source": [
    "<hr>"
   ]
  },
  {
   "cell_type": "code",
   "execution_count": 7,
   "id": "91f063e7-1612-4abc-afa1-587db8625c46",
   "metadata": {},
   "outputs": [],
   "source": [
    "text = \"U.S. stock futures soared Wednesday morning following the release of July inflation data which showed price pressures easing by a wider margin than economists had anticipated. S&P 500 futures were up 66 points, or 1.6%, to 4,188, while futures for the Dow Jones Industrial Average DJIA, 1.57% were up 407 points, or 1.2%, to 33,144. Nasdaq 100 futures were up 304 points, or 2.4%, to 13,340. The data also spurred a drop in Treasury yields, with the 2-year yield dropping 18 points to 3.075, while the 10-year yield was down 10 points at 2.695. While the two-year yield remained higher than the 10-year yield after the data, the depth of the inversion narrowed somewhat. The ICE U.S. Dollar Index DXY, -1.48% was down 0.4% after the data, while gold prices were also down 0.3%. The headline CPI number for July came in at 8.5%, compared with 8.7% expected by economists polled by FactSet, and the 9.1% reading from June, which had marked the highest pace of inflation in four decades. Traders of interest-rate derivatives now see a 50 basis point rate hike as the most likely outcome during the Federal Reserve's September policy meeting, according to the CME's FedWatch tool. As of yesterday, odds had been slanted in favor of a 75 basis point hike following Friday's surprisingly hot jobs report.\""
   ]
  },
  {
   "cell_type": "code",
   "execution_count": 8,
   "id": "59b46894-9885-4c9f-98ff-77e2d4c16c67",
   "metadata": {},
   "outputs": [
    {
     "data": {
      "text/plain": [
       "\"U.S. stock futures soared Wednesday morning following the release of July inflation data which showed price pressures easing by a wider margin than economists had anticipated. S&P 500 futures were up 66 points, or 1.6%, to 4,188, while futures for the Dow Jones Industrial Average DJIA, 1.57% were up 407 points, or 1.2%, to 33,144. Nasdaq 100 futures were up 304 points, or 2.4%, to 13,340. The data also spurred a drop in Treasury yields, with the 2-year yield dropping 18 points to 3.075, while the 10-year yield was down 10 points at 2.695. While the two-year yield remained higher than the 10-year yield after the data, the depth of the inversion narrowed somewhat. The ICE U.S. Dollar Index DXY, -1.48% was down 0.4% after the data, while gold prices were also down 0.3%. The headline CPI number for July came in at 8.5%, compared with 8.7% expected by economists polled by FactSet, and the 9.1% reading from June, which had marked the highest pace of inflation in four decades. Traders of interest-rate derivatives now see a 50 basis point rate hike as the most likely outcome during the Federal Reserve's September policy meeting, according to the CME's FedWatch tool. As of yesterday, odds had been slanted in favor of a 75 basis point hike following Friday's surprisingly hot jobs report.\""
      ]
     },
     "execution_count": 8,
     "metadata": {},
     "output_type": "execute_result"
    }
   ],
   "source": [
    "text"
   ]
  },
  {
   "cell_type": "markdown",
   "id": "6a2de8a4-2525-45f4-b8a6-9bf46774e24b",
   "metadata": {},
   "source": [
    "## Simple Pos/Neg Classification"
   ]
  },
  {
   "cell_type": "code",
   "execution_count": 11,
   "id": "3a891119-27bb-4f89-a7ef-ecf2672ac68b",
   "metadata": {},
   "outputs": [
    {
     "data": {
      "text/html": [
       "<div>\n",
       "<style scoped>\n",
       "    .dataframe tbody tr th:only-of-type {\n",
       "        vertical-align: middle;\n",
       "    }\n",
       "\n",
       "    .dataframe tbody tr th {\n",
       "        vertical-align: top;\n",
       "    }\n",
       "\n",
       "    .dataframe thead th {\n",
       "        text-align: right;\n",
       "    }\n",
       "</style>\n",
       "<table border=\"1\" class=\"dataframe\">\n",
       "  <thead>\n",
       "    <tr style=\"text-align: right;\">\n",
       "      <th></th>\n",
       "      <th>label</th>\n",
       "      <th>score</th>\n",
       "    </tr>\n",
       "  </thead>\n",
       "  <tbody>\n",
       "    <tr>\n",
       "      <th>0</th>\n",
       "      <td>NEGATIVE</td>\n",
       "      <td>0.996106</td>\n",
       "    </tr>\n",
       "  </tbody>\n",
       "</table>\n",
       "</div>"
      ],
      "text/plain": [
       "      label     score\n",
       "0  NEGATIVE  0.996106"
      ]
     },
     "execution_count": 11,
     "metadata": {},
     "output_type": "execute_result"
    }
   ],
   "source": [
    "outputs = cls(text)\n",
    "pd.DataFrame(outputs)"
   ]
  },
  {
   "cell_type": "markdown",
   "id": "879e1d0c-6b90-43e0-9445-4c1cad052130",
   "metadata": {
    "tags": []
   },
   "source": [
    "## Named Entity Recognition"
   ]
  },
  {
   "cell_type": "code",
   "execution_count": 13,
   "id": "983e272e-1f27-4ac8-9a48-bcfb3d9ae669",
   "metadata": {},
   "outputs": [
    {
     "data": {
      "text/html": [
       "<div>\n",
       "<style scoped>\n",
       "    .dataframe tbody tr th:only-of-type {\n",
       "        vertical-align: middle;\n",
       "    }\n",
       "\n",
       "    .dataframe tbody tr th {\n",
       "        vertical-align: top;\n",
       "    }\n",
       "\n",
       "    .dataframe thead th {\n",
       "        text-align: right;\n",
       "    }\n",
       "</style>\n",
       "<table border=\"1\" class=\"dataframe\">\n",
       "  <thead>\n",
       "    <tr style=\"text-align: right;\">\n",
       "      <th></th>\n",
       "      <th>entity_group</th>\n",
       "      <th>score</th>\n",
       "      <th>word</th>\n",
       "      <th>start</th>\n",
       "      <th>end</th>\n",
       "    </tr>\n",
       "  </thead>\n",
       "  <tbody>\n",
       "    <tr>\n",
       "      <th>0</th>\n",
       "      <td>LOC</td>\n",
       "      <td>0.997794</td>\n",
       "      <td>U</td>\n",
       "      <td>0</td>\n",
       "      <td>1</td>\n",
       "    </tr>\n",
       "    <tr>\n",
       "      <th>1</th>\n",
       "      <td>LOC</td>\n",
       "      <td>0.954981</td>\n",
       "      <td>S.</td>\n",
       "      <td>2</td>\n",
       "      <td>4</td>\n",
       "    </tr>\n",
       "    <tr>\n",
       "      <th>2</th>\n",
       "      <td>ORG</td>\n",
       "      <td>0.754481</td>\n",
       "      <td>S &amp; P</td>\n",
       "      <td>176</td>\n",
       "      <td>179</td>\n",
       "    </tr>\n",
       "    <tr>\n",
       "      <th>3</th>\n",
       "      <td>MISC</td>\n",
       "      <td>0.982876</td>\n",
       "      <td>500</td>\n",
       "      <td>180</td>\n",
       "      <td>183</td>\n",
       "    </tr>\n",
       "    <tr>\n",
       "      <th>4</th>\n",
       "      <td>MISC</td>\n",
       "      <td>0.983103</td>\n",
       "      <td>Dow Jones Industrial Average DJIA</td>\n",
       "      <td>252</td>\n",
       "      <td>285</td>\n",
       "    </tr>\n",
       "    <tr>\n",
       "      <th>5</th>\n",
       "      <td>MISC</td>\n",
       "      <td>0.908341</td>\n",
       "      <td>Nasdaq 100</td>\n",
       "      <td>333</td>\n",
       "      <td>343</td>\n",
       "    </tr>\n",
       "    <tr>\n",
       "      <th>6</th>\n",
       "      <td>ORG</td>\n",
       "      <td>0.997558</td>\n",
       "      <td>Treasury</td>\n",
       "      <td>424</td>\n",
       "      <td>432</td>\n",
       "    </tr>\n",
       "    <tr>\n",
       "      <th>7</th>\n",
       "      <td>MISC</td>\n",
       "      <td>0.937049</td>\n",
       "      <td>I</td>\n",
       "      <td>675</td>\n",
       "      <td>676</td>\n",
       "    </tr>\n",
       "    <tr>\n",
       "      <th>8</th>\n",
       "      <td>ORG</td>\n",
       "      <td>0.824871</td>\n",
       "      <td>##CE</td>\n",
       "      <td>676</td>\n",
       "      <td>678</td>\n",
       "    </tr>\n",
       "    <tr>\n",
       "      <th>9</th>\n",
       "      <td>MISC</td>\n",
       "      <td>0.996530</td>\n",
       "      <td>U</td>\n",
       "      <td>679</td>\n",
       "      <td>680</td>\n",
       "    </tr>\n",
       "    <tr>\n",
       "      <th>10</th>\n",
       "      <td>MISC</td>\n",
       "      <td>0.965671</td>\n",
       "      <td>S. Dollar Index D</td>\n",
       "      <td>681</td>\n",
       "      <td>698</td>\n",
       "    </tr>\n",
       "    <tr>\n",
       "      <th>11</th>\n",
       "      <td>MISC</td>\n",
       "      <td>0.813633</td>\n",
       "      <td>CP</td>\n",
       "      <td>791</td>\n",
       "      <td>793</td>\n",
       "    </tr>\n",
       "    <tr>\n",
       "      <th>12</th>\n",
       "      <td>ORG</td>\n",
       "      <td>0.970709</td>\n",
       "      <td>FactSet</td>\n",
       "      <td>880</td>\n",
       "      <td>887</td>\n",
       "    </tr>\n",
       "    <tr>\n",
       "      <th>13</th>\n",
       "      <td>ORG</td>\n",
       "      <td>0.998644</td>\n",
       "      <td>Federal Reserve</td>\n",
       "      <td>1095</td>\n",
       "      <td>1110</td>\n",
       "    </tr>\n",
       "    <tr>\n",
       "      <th>14</th>\n",
       "      <td>ORG</td>\n",
       "      <td>0.996845</td>\n",
       "      <td>CME</td>\n",
       "      <td>1156</td>\n",
       "      <td>1159</td>\n",
       "    </tr>\n",
       "    <tr>\n",
       "      <th>15</th>\n",
       "      <td>MISC</td>\n",
       "      <td>0.709254</td>\n",
       "      <td>FedW</td>\n",
       "      <td>1162</td>\n",
       "      <td>1166</td>\n",
       "    </tr>\n",
       "  </tbody>\n",
       "</table>\n",
       "</div>"
      ],
      "text/plain": [
       "   entity_group     score                               word  start   end\n",
       "0           LOC  0.997794                                  U      0     1\n",
       "1           LOC  0.954981                                 S.      2     4\n",
       "2           ORG  0.754481                              S & P    176   179\n",
       "3          MISC  0.982876                                500    180   183\n",
       "4          MISC  0.983103  Dow Jones Industrial Average DJIA    252   285\n",
       "5          MISC  0.908341                         Nasdaq 100    333   343\n",
       "6           ORG  0.997558                           Treasury    424   432\n",
       "7          MISC  0.937049                                  I    675   676\n",
       "8           ORG  0.824871                               ##CE    676   678\n",
       "9          MISC  0.996530                                  U    679   680\n",
       "10         MISC  0.965671                  S. Dollar Index D    681   698\n",
       "11         MISC  0.813633                                 CP    791   793\n",
       "12          ORG  0.970709                            FactSet    880   887\n",
       "13          ORG  0.998644                    Federal Reserve   1095  1110\n",
       "14          ORG  0.996845                                CME   1156  1159\n",
       "15         MISC  0.709254                               FedW   1162  1166"
      ]
     },
     "execution_count": 13,
     "metadata": {},
     "output_type": "execute_result"
    }
   ],
   "source": [
    "outputs = ner_tagger(text)\n",
    "pd.DataFrame(outputs)"
   ]
  },
  {
   "cell_type": "markdown",
   "id": "f52670b4-eb1f-46b1-be61-a112436dd3e7",
   "metadata": {
    "tags": []
   },
   "source": [
    "## Question Answering"
   ]
  },
  {
   "cell_type": "code",
   "execution_count": 20,
   "id": "e4168654-4f59-45a1-b2ab-b76893942e01",
   "metadata": {},
   "outputs": [
    {
     "data": {
      "text/html": [
       "<div>\n",
       "<style scoped>\n",
       "    .dataframe tbody tr th:only-of-type {\n",
       "        vertical-align: middle;\n",
       "    }\n",
       "\n",
       "    .dataframe tbody tr th {\n",
       "        vertical-align: top;\n",
       "    }\n",
       "\n",
       "    .dataframe thead th {\n",
       "        text-align: right;\n",
       "    }\n",
       "</style>\n",
       "<table border=\"1\" class=\"dataframe\">\n",
       "  <thead>\n",
       "    <tr style=\"text-align: right;\">\n",
       "      <th></th>\n",
       "      <th>score</th>\n",
       "      <th>start</th>\n",
       "      <th>end</th>\n",
       "      <th>answer</th>\n",
       "    </tr>\n",
       "  </thead>\n",
       "  <tbody>\n",
       "    <tr>\n",
       "      <th>0</th>\n",
       "      <td>0.00009</td>\n",
       "      <td>19</td>\n",
       "      <td>25</td>\n",
       "      <td>soared</td>\n",
       "    </tr>\n",
       "  </tbody>\n",
       "</table>\n",
       "</div>"
      ],
      "text/plain": [
       "     score  start  end  answer\n",
       "0  0.00009     19   25  soared"
      ]
     },
     "execution_count": 20,
     "metadata": {},
     "output_type": "execute_result"
    }
   ],
   "source": [
    "question = \"What happened to the Dow\"\n",
    "outputs = reader(question=question, context=text)\n",
    "pd.DataFrame([outputs])"
   ]
  },
  {
   "cell_type": "markdown",
   "id": "807e62d9-bd2f-4664-b204-8da307fa220f",
   "metadata": {
    "tags": []
   },
   "source": [
    "## Summarization"
   ]
  },
  {
   "cell_type": "code",
   "execution_count": 23,
   "id": "ed131df3-682f-405c-839a-e2bc220ec3a6",
   "metadata": {},
   "outputs": [
    {
     "data": {
      "text/plain": [
       "{'summary_text': ' S&P 500 futures were up 66 points, or 1.6%, to 4,188; Dow Jones Industrial Average up 407 points . Nasdaq 100 futures were also up 2.4%, or 304 points, to 13,340 . The headline CPI number for July came in at 8.5%, compared with 8.7% expected by economists .'}"
      ]
     },
     "execution_count": 23,
     "metadata": {},
     "output_type": "execute_result"
    }
   ],
   "source": [
    "outputs = summarizer(text)\n",
    "outputs[0]"
   ]
  }
 ],
 "metadata": {
  "kernelspec": {
   "display_name": "Python 3 (ipykernel)",
   "language": "python",
   "name": "python3"
  },
  "language_info": {
   "codemirror_mode": {
    "name": "ipython",
    "version": 3
   },
   "file_extension": ".py",
   "mimetype": "text/x-python",
   "name": "python",
   "nbconvert_exporter": "python",
   "pygments_lexer": "ipython3",
   "version": "3.9.13"
  }
 },
 "nbformat": 4,
 "nbformat_minor": 5
}
