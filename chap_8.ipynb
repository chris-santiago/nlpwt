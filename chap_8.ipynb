{
 "cells": [
  {
   "cell_type": "markdown",
   "metadata": {},
   "source": [
    "# Making Transformers Efficient"
   ]
  },
  {
   "cell_type": "code",
   "execution_count": 1,
   "metadata": {
    "collapsed": false,
    "jupyter": {
     "outputs_hidden": false
    },
    "pycharm": {
     "name": "#%%\n"
    }
   },
   "outputs": [],
   "source": [
    "import pathlib\n",
    "from time import perf_counter\n",
    "\n",
    "import matplotlib.pyplot as plt\n",
    "import numpy as np\n",
    "import pandas as pd\n",
    "from tqdm import tqdm\n",
    "\n",
    "import torch\n",
    "from torch.quantization import quantize_dynamic\n",
    "import torch.nn as nn\n",
    "import torch.nn.functional as F\n",
    "\n",
    "import optuna\n",
    "from datasets import load_metric, load_dataset\n",
    "from transformers import (\n",
    "    pipeline, TrainingArguments, Trainer, AutoTokenizer, AutoConfig,\n",
    "    AutoModelForSequenceClassification\n",
    ")\n",
    "from huggingface_hub import notebook_login"
   ]
  },
  {
   "cell_type": "code",
   "execution_count": 2,
   "metadata": {},
   "outputs": [],
   "source": [
    "import os\n",
    "os.environ[\"TOKENIZERS_PARALLELISM\"] = \"false\""
   ]
  },
  {
   "cell_type": "code",
   "execution_count": 3,
   "metadata": {},
   "outputs": [],
   "source": [
    "import pickle\n",
    "\n",
    "def dump_metrics(metrics):\n",
    "    with open('performance-metrics.p', 'wb') as fp:\n",
    "        pickle.dump(metrics, fp)\n",
    "        \n",
    "\n",
    "def load_metrics(file='performance-metrics.p'):\n",
    "    with open(file, 'rb') as fp:\n",
    "        return pickle.load(fp)"
   ]
  },
  {
   "cell_type": "code",
   "execution_count": 4,
   "metadata": {},
   "outputs": [],
   "source": [
    "try:\n",
    "    perf = load_metrics()\n",
    "except FileNotFoundError:\n",
    "    pass"
   ]
  },
  {
   "cell_type": "code",
   "execution_count": 5,
   "metadata": {},
   "outputs": [
    {
     "data": {
      "application/vnd.jupyter.widget-view+json": {
       "model_id": "74264dfb59714b999fb97eac6f8f1a55",
       "version_major": 2,
       "version_minor": 0
      },
      "text/plain": [
       "VBox(children=(HTML(value='<center> <img\\nsrc=https://huggingface.co/front/assets/huggingface_logo-noborder.sv…"
      ]
     },
     "metadata": {},
     "output_type": "display_data"
    }
   ],
   "source": [
    "notebook_login()"
   ]
  },
  {
   "cell_type": "code",
   "execution_count": 6,
   "metadata": {
    "collapsed": false,
    "jupyter": {
     "outputs_hidden": false
    },
    "pycharm": {
     "name": "#%%\n"
    },
    "scrolled": true,
    "tags": []
   },
   "outputs": [
    {
     "data": {
      "application/vnd.jupyter.widget-view+json": {
       "model_id": "2a9905e3d2384d36a50cf4d3991b7168",
       "version_major": 2,
       "version_minor": 0
      },
      "text/plain": [
       "Downloading:   0%|          | 0.00/7.98k [00:00<?, ?B/s]"
      ]
     },
     "metadata": {},
     "output_type": "display_data"
    },
    {
     "data": {
      "application/vnd.jupyter.widget-view+json": {
       "model_id": "b3713f4a6e8941a6b1ef9cbed5a98790",
       "version_major": 2,
       "version_minor": 0
      },
      "text/plain": [
       "Downloading:   0%|          | 0.00/418M [00:00<?, ?B/s]"
      ]
     },
     "metadata": {},
     "output_type": "display_data"
    },
    {
     "data": {
      "application/vnd.jupyter.widget-view+json": {
       "model_id": "c5e5e280d52541af96fd16314d527793",
       "version_major": 2,
       "version_minor": 0
      },
      "text/plain": [
       "Downloading:   0%|          | 0.00/252 [00:00<?, ?B/s]"
      ]
     },
     "metadata": {},
     "output_type": "display_data"
    },
    {
     "data": {
      "application/vnd.jupyter.widget-view+json": {
       "model_id": "bd5c00f3e47b474581fc674b61260071",
       "version_major": 2,
       "version_minor": 0
      },
      "text/plain": [
       "Downloading:   0%|          | 0.00/226k [00:00<?, ?B/s]"
      ]
     },
     "metadata": {},
     "output_type": "display_data"
    },
    {
     "data": {
      "application/vnd.jupyter.widget-view+json": {
       "model_id": "66f91f9d1b634eafa31a142bc65bbd09",
       "version_major": 2,
       "version_minor": 0
      },
      "text/plain": [
       "Downloading:   0%|          | 0.00/112 [00:00<?, ?B/s]"
      ]
     },
     "metadata": {},
     "output_type": "display_data"
    }
   ],
   "source": [
    "ckpt = 'transformersbook/bert-base-uncased-finetuned-clinc'\n",
    "pipe = pipeline('text-classification', model=ckpt)"
   ]
  },
  {
   "cell_type": "code",
   "execution_count": 7,
   "metadata": {},
   "outputs": [
    {
     "data": {
      "text/plain": [
       "[{'label': 'car_rental', 'score': 0.5302357077598572}]"
      ]
     },
     "execution_count": 7,
     "metadata": {},
     "output_type": "execute_result"
    }
   ],
   "source": [
    "query = \"I'd like to rent a vehicle in Parise and I need a 15 passenger van\"\n",
    "pipe(query)"
   ]
  },
  {
   "cell_type": "code",
   "execution_count": 8,
   "metadata": {
    "collapsed": false,
    "jupyter": {
     "outputs_hidden": false
    },
    "pycharm": {
     "name": "#%%\n"
    }
   },
   "outputs": [
    {
     "data": {
      "application/vnd.jupyter.widget-view+json": {
       "model_id": "0d824ce204704ff192d9a69a731ae771",
       "version_major": 2,
       "version_minor": 0
      },
      "text/plain": [
       "Downloading builder script:   0%|          | 0.00/2.75k [00:00<?, ?B/s]"
      ]
     },
     "metadata": {},
     "output_type": "display_data"
    },
    {
     "data": {
      "application/vnd.jupyter.widget-view+json": {
       "model_id": "333a4fb79f834ab0879701077ac6b94d",
       "version_major": 2,
       "version_minor": 0
      },
      "text/plain": [
       "Downloading metadata:   0%|          | 0.00/2.52k [00:00<?, ?B/s]"
      ]
     },
     "metadata": {},
     "output_type": "display_data"
    },
    {
     "name": "stdout",
     "output_type": "stream",
     "text": [
      "Downloading and preparing dataset clinc_oos/plus (download: 2.39 MiB, generated: 1.18 MiB, post-processed: Unknown size, total: 3.57 MiB) to /root/.cache/huggingface/datasets/clinc_oos/plus/1.0.0/abcc41d382f8137f039adc747af44714941e8196e845dfbdd8ae7a7e020e6ba1...\n"
     ]
    },
    {
     "data": {
      "application/vnd.jupyter.widget-view+json": {
       "model_id": "2fed578ce98f4977a8efff969101a151",
       "version_major": 2,
       "version_minor": 0
      },
      "text/plain": [
       "Downloading data:   0%|          | 0.00/291k [00:00<?, ?B/s]"
      ]
     },
     "metadata": {},
     "output_type": "display_data"
    },
    {
     "data": {
      "application/vnd.jupyter.widget-view+json": {
       "model_id": "",
       "version_major": 2,
       "version_minor": 0
      },
      "text/plain": [
       "Generating train split:   0%|          | 0/15250 [00:00<?, ? examples/s]"
      ]
     },
     "metadata": {},
     "output_type": "display_data"
    },
    {
     "data": {
      "application/vnd.jupyter.widget-view+json": {
       "model_id": "",
       "version_major": 2,
       "version_minor": 0
      },
      "text/plain": [
       "Generating validation split:   0%|          | 0/3100 [00:00<?, ? examples/s]"
      ]
     },
     "metadata": {},
     "output_type": "display_data"
    },
    {
     "data": {
      "application/vnd.jupyter.widget-view+json": {
       "model_id": "",
       "version_major": 2,
       "version_minor": 0
      },
      "text/plain": [
       "Generating test split:   0%|          | 0/5500 [00:00<?, ? examples/s]"
      ]
     },
     "metadata": {},
     "output_type": "display_data"
    },
    {
     "name": "stdout",
     "output_type": "stream",
     "text": [
      "Dataset clinc_oos downloaded and prepared to /root/.cache/huggingface/datasets/clinc_oos/plus/1.0.0/abcc41d382f8137f039adc747af44714941e8196e845dfbdd8ae7a7e020e6ba1. Subsequent calls will reuse this data.\n"
     ]
    },
    {
     "data": {
      "application/vnd.jupyter.widget-view+json": {
       "model_id": "bd272a1197fc4a2ea37fa751aa62bc33",
       "version_major": 2,
       "version_minor": 0
      },
      "text/plain": [
       "  0%|          | 0/3 [00:00<?, ?it/s]"
      ]
     },
     "metadata": {},
     "output_type": "display_data"
    },
    {
     "data": {
      "text/plain": [
       "{'text': 'transfer $100 from my checking to saving account', 'intent': 133}"
      ]
     },
     "execution_count": 8,
     "metadata": {},
     "output_type": "execute_result"
    }
   ],
   "source": [
    "data = load_dataset('clinc_oos', 'plus')\n",
    "data['test'][42]"
   ]
  },
  {
   "cell_type": "code",
   "execution_count": 9,
   "metadata": {
    "collapsed": false,
    "jupyter": {
     "outputs_hidden": false
    },
    "pycharm": {
     "name": "#%%\n"
    }
   },
   "outputs": [],
   "source": [
    "intents = data['test'].features['intent']\n",
    "get_intents = lambda x: intents.str2int(x)  # mapper func"
   ]
  },
  {
   "cell_type": "code",
   "execution_count": 10,
   "metadata": {},
   "outputs": [
    {
     "data": {
      "text/plain": [
       "'transfer'"
      ]
     },
     "execution_count": 10,
     "metadata": {},
     "output_type": "execute_result"
    }
   ],
   "source": [
    "intents.int2str(data['test'][42]['intent'])"
   ]
  },
  {
   "cell_type": "markdown",
   "metadata": {},
   "source": [
    "<hr>\n",
    "\n",
    "## Baseline Benchmark"
   ]
  },
  {
   "cell_type": "code",
   "execution_count": 11,
   "metadata": {
    "collapsed": false,
    "jupyter": {
     "outputs_hidden": false
    },
    "pycharm": {
     "name": "#%%\n"
    }
   },
   "outputs": [],
   "source": [
    "class PerformanceBenchmark:\n",
    "\n",
    "    def __init__(self, pipeline, dataset, optim_type='BERT baseline'):\n",
    "        self.pipeline = pipeline\n",
    "        self.dataset = dataset\n",
    "        self.optim_type = optim_type\n",
    "        self.score = load_metric('accuracy')\n",
    "\n",
    "    def compute_accuracy(self, mapper):\n",
    "        preds, labels = [], []\n",
    "        for example in tqdm(self.dataset):\n",
    "            pred = self.pipeline(example['text'])[0]['label']\n",
    "            label = example['intent']\n",
    "            if mapper:\n",
    "                preds.append(mapper(pred))\n",
    "            else:\n",
    "                preds.append(pred)\n",
    "            labels.append(label)\n",
    "        results = self.score.compute(predictions=preds, references=labels)\n",
    "        print(f'Accuracy on test set: {results[\"accuracy\"]:.3f}')\n",
    "        return results\n",
    "\n",
    "    def compute_size(self):\n",
    "        state = self.pipeline.model.state_dict()\n",
    "        fp = pathlib.Path('model.pt')\n",
    "        torch.save(state, fp)\n",
    "        mb = pathlib.Path(fp).stat().st_size / (1024**2)\n",
    "        fp.unlink(missing_ok=True)\n",
    "        print(f'Model size (MB): {mb:.2f}')\n",
    "        return {'size_mb': mb}\n",
    "\n",
    "    def time_pipeline(self, query='What is the pin number for my account?'):\n",
    "        latencies = []\n",
    "        for _ in range(100):\n",
    "            start = perf_counter()\n",
    "            _ = self.pipeline(query)\n",
    "            latencies.append(perf_counter() - start)\n",
    "        avg_ms = np.mean(latencies) * 1000\n",
    "        std_ms = np.std(latencies) * 1000\n",
    "        print(f'Average latency (ms): {avg_ms:.2f} +/- {std_ms:.2f}')\n",
    "        return {'avg_ms': avg_ms, 'std_ms': std_ms}\n",
    "\n",
    "    def run(self, query=None, mapper=None):\n",
    "        if query is None:\n",
    "            query='What is the pin number for my account?'\n",
    "        metrics = {\n",
    "            self.optim_type: self.compute_size()\n",
    "        }\n",
    "        metrics[self.optim_type].update(self.time_pipeline(query))\n",
    "        metrics[self.optim_type].update(self.compute_accuracy(mapper))\n",
    "        return metrics"
   ]
  },
  {
   "cell_type": "code",
   "execution_count": 9,
   "metadata": {
    "collapsed": false,
    "jupyter": {
     "outputs_hidden": false
    },
    "pycharm": {
     "name": "#%%\n"
    }
   },
   "outputs": [
    {
     "data": {
      "application/vnd.jupyter.widget-view+json": {
       "model_id": "fe12f26cf73e47f2a0b375d3c87b7cc2",
       "version_major": 2,
       "version_minor": 0
      },
      "text/plain": [
       "Downloading builder script:   0%|          | 0.00/1.65k [00:00<?, ?B/s]"
      ]
     },
     "metadata": {},
     "output_type": "display_data"
    },
    {
     "name": "stdout",
     "output_type": "stream",
     "text": [
      "Model size (MB): 418.16\n",
      "Average latency (ms): 51.95 +/- 37.02\n"
     ]
    },
    {
     "name": "stderr",
     "output_type": "stream",
     "text": [
      "100%|██████████| 5500/5500 [05:02<00:00, 18.18it/s]"
     ]
    },
    {
     "name": "stdout",
     "output_type": "stream",
     "text": [
      "Accuracy on test set: 0.867\n"
     ]
    },
    {
     "name": "stderr",
     "output_type": "stream",
     "text": [
      "\n"
     ]
    }
   ],
   "source": [
    "pb = PerformanceBenchmark(pipe, data['test'])\n",
    "perf = pb.run(mapper=get_intents)"
   ]
  },
  {
   "cell_type": "markdown",
   "metadata": {
    "jupyter": {
     "outputs_hidden": false
    },
    "pycharm": {
     "name": "#%% md\n"
    }
   },
   "source": [
    "## Knowledge Distillation"
   ]
  },
  {
   "cell_type": "code",
   "execution_count": 12,
   "metadata": {},
   "outputs": [],
   "source": [
    "class DistillationTrainArgs(TrainingArguments):\n",
    "    def __init__(self, *args, alpha=0.5, temp=2.0, **kwargs):\n",
    "        super().__init__(*args, **kwargs)\n",
    "        self.alpha = alpha\n",
    "        self.temp = temp"
   ]
  },
  {
   "cell_type": "code",
   "execution_count": 13,
   "metadata": {},
   "outputs": [],
   "source": [
    "class DistillationTrainer(Trainer):\n",
    "    def __init__(self, *args, teacher=None, **kwargs):\n",
    "        super().__init__(*args, **kwargs)\n",
    "        self.teacher = teacher\n",
    "        self.loss_func = nn.KLDivLoss(reduction='batchmean')\n",
    "        \n",
    "    def calc_loss(self, model, inputs, return_outputs=False):\n",
    "        student_out = model(**inputs)\n",
    "        student_logits = student_out.logits\n",
    "        loss_ce = student_out.loss\n",
    "        \n",
    "        with torch.no_grad():\n",
    "            teacher_out = self.teacher(**inputs)\n",
    "            teacher_logits = teacher_out.logits\n",
    "        \n",
    "        loss_kd = self.args.temp ** 2 * self.loss_func(\n",
    "            F.log_softmax(student_logits / self.args.temp, dim=-1),\n",
    "            F.softmax(teacher_logits / self.args.temp, dim=-1)\n",
    "        )\n",
    "        loss = self.args.alpha * loss_ce + (1. - self.args.alpha) * loss_kd\n",
    "        return (loss, student_out) if return_outputs else loss\n",
    "        "
   ]
  },
  {
   "cell_type": "code",
   "execution_count": 14,
   "metadata": {},
   "outputs": [
    {
     "data": {
      "application/vnd.jupyter.widget-view+json": {
       "model_id": "148a08dc98b24c6799240b2445bac34e",
       "version_major": 2,
       "version_minor": 0
      },
      "text/plain": [
       "Downloading:   0%|          | 0.00/28.0 [00:00<?, ?B/s]"
      ]
     },
     "metadata": {},
     "output_type": "display_data"
    },
    {
     "data": {
      "application/vnd.jupyter.widget-view+json": {
       "model_id": "80d49abb94914d13aeb0cf9689e47381",
       "version_major": 2,
       "version_minor": 0
      },
      "text/plain": [
       "Downloading:   0%|          | 0.00/483 [00:00<?, ?B/s]"
      ]
     },
     "metadata": {},
     "output_type": "display_data"
    },
    {
     "data": {
      "application/vnd.jupyter.widget-view+json": {
       "model_id": "8e2d7e90732f4990b0b3b3852b7d89b8",
       "version_major": 2,
       "version_minor": 0
      },
      "text/plain": [
       "Downloading:   0%|          | 0.00/226k [00:00<?, ?B/s]"
      ]
     },
     "metadata": {},
     "output_type": "display_data"
    },
    {
     "data": {
      "application/vnd.jupyter.widget-view+json": {
       "model_id": "a238b7b8de424031aeae2404849182d4",
       "version_major": 2,
       "version_minor": 0
      },
      "text/plain": [
       "Downloading:   0%|          | 0.00/455k [00:00<?, ?B/s]"
      ]
     },
     "metadata": {},
     "output_type": "display_data"
    }
   ],
   "source": [
    "student_ckpt = 'distilbert-base-uncased'\n",
    "student_tokenizer = AutoTokenizer.from_pretrained(student_ckpt)"
   ]
  },
  {
   "cell_type": "code",
   "execution_count": 15,
   "metadata": {},
   "outputs": [],
   "source": [
    "def tokenize_text(batch):\n",
    "    return student_tokenizer(batch['text'], truncation=True)"
   ]
  },
  {
   "cell_type": "code",
   "execution_count": 16,
   "metadata": {},
   "outputs": [
    {
     "name": "stderr",
     "output_type": "stream",
     "text": [
      "Parameter 'function'=<function tokenize_text at 0x7f60750f7940> of the transform datasets.arrow_dataset.Dataset._map_single couldn't be hashed properly, a random hash was used instead. Make sure your transforms and parameters are serializable with pickle or dill for the dataset fingerprinting and caching to work. If you reuse this transform, the caching mechanism will consider it to be different from the previous calls and recompute everything. This warning is only showed once. Subsequent hashing failures won't be showed.\n"
     ]
    },
    {
     "data": {
      "application/vnd.jupyter.widget-view+json": {
       "model_id": "87ece7b0d41d43f7b81d61f73c2e9472",
       "version_major": 2,
       "version_minor": 0
      },
      "text/plain": [
       "  0%|          | 0/16 [00:00<?, ?ba/s]"
      ]
     },
     "metadata": {},
     "output_type": "display_data"
    },
    {
     "data": {
      "application/vnd.jupyter.widget-view+json": {
       "model_id": "c844eda346844e5a8e8ef5d34a94e1c3",
       "version_major": 2,
       "version_minor": 0
      },
      "text/plain": [
       "  0%|          | 0/4 [00:00<?, ?ba/s]"
      ]
     },
     "metadata": {},
     "output_type": "display_data"
    },
    {
     "data": {
      "application/vnd.jupyter.widget-view+json": {
       "model_id": "596e2a368dfa4752ba560fd343b9c9f8",
       "version_major": 2,
       "version_minor": 0
      },
      "text/plain": [
       "  0%|          | 0/6 [00:00<?, ?ba/s]"
      ]
     },
     "metadata": {},
     "output_type": "display_data"
    }
   ],
   "source": [
    "data_enc = data.map(tokenize_text, batched=True, remove_columns=['text'])\n",
    "data_enc = data_enc.rename_column('intent', 'labels')"
   ]
  },
  {
   "cell_type": "code",
   "execution_count": 17,
   "metadata": {},
   "outputs": [
    {
     "data": {
      "text/plain": [
       "{'labels': 61,\n",
       " 'input_ids': [101,\n",
       "  2054,\n",
       "  3670,\n",
       "  2052,\n",
       "  1045,\n",
       "  2224,\n",
       "  2000,\n",
       "  2360,\n",
       "  1045,\n",
       "  2293,\n",
       "  2017,\n",
       "  2065,\n",
       "  1045,\n",
       "  2020,\n",
       "  2019,\n",
       "  3059,\n",
       "  102],\n",
       " 'attention_mask': [1, 1, 1, 1, 1, 1, 1, 1, 1, 1, 1, 1, 1, 1, 1, 1, 1]}"
      ]
     },
     "execution_count": 17,
     "metadata": {},
     "output_type": "execute_result"
    }
   ],
   "source": [
    "data_enc['train'][0]"
   ]
  },
  {
   "cell_type": "code",
   "execution_count": 18,
   "metadata": {},
   "outputs": [],
   "source": [
    "def get_metrics(outputs):\n",
    "    metric = load_metric('accuracy')\n",
    "    preds, labels = outputs\n",
    "    preds = np.argmax(preds, axis=1)\n",
    "    return metric.compute(predictions=preds, references=labels)"
   ]
  },
  {
   "cell_type": "code",
   "execution_count": 19,
   "metadata": {},
   "outputs": [],
   "source": [
    "bs = 48\n",
    "ft_ckpt = 'distilbert-base-uncased-finetuned-clinc'\n",
    "\n",
    "train_args = DistillationTrainArgs(\n",
    "    output_dir=ft_ckpt,\n",
    "    evaluation_strategy='epoch',\n",
    "    num_train_epochs=5,\n",
    "    learning_rate=2e-5,\n",
    "    per_device_train_batch_size=bs,\n",
    "    per_device_eval_batch_size=bs,\n",
    "    alpha=1,\n",
    "    weight_decay=0.01,\n",
    "    push_to_hub=True\n",
    ")"
   ]
  },
  {
   "cell_type": "code",
   "execution_count": 20,
   "metadata": {},
   "outputs": [],
   "source": [
    "id2label = pipe.model.config.id2label\n",
    "label2id = pipe.model.config.label2id"
   ]
  },
  {
   "cell_type": "code",
   "execution_count": 21,
   "metadata": {},
   "outputs": [],
   "source": [
    "num_labels = intents.num_classes"
   ]
  },
  {
   "cell_type": "code",
   "execution_count": 22,
   "metadata": {},
   "outputs": [],
   "source": [
    "student_config = AutoConfig.from_pretrained(\n",
    "    student_ckpt,\n",
    "    num_labels=num_labels,\n",
    "    id2label=id2label,\n",
    "    label2id=label2id\n",
    ")"
   ]
  },
  {
   "cell_type": "code",
   "execution_count": 23,
   "metadata": {},
   "outputs": [],
   "source": [
    "def student_init():\n",
    "    device = torch.device('cuda' if torch.cuda.is_available() else 'cpu')\n",
    "    return AutoModelForSequenceClassification.from_pretrained(student_ckpt, config=student_config).to(device)"
   ]
  },
  {
   "cell_type": "code",
   "execution_count": 24,
   "metadata": {},
   "outputs": [],
   "source": [
    "device = torch.device('cuda' if torch.cuda.is_available() else 'cpu')"
   ]
  },
  {
   "cell_type": "code",
   "execution_count": 25,
   "metadata": {},
   "outputs": [],
   "source": [
    "teacher_ckpt = \"transformersbook/bert-base-uncased-finetuned-clinc\"\n",
    "teacher_model = AutoModelForSequenceClassification.from_pretrained(teacher_ckpt, num_labels=num_labels).to(device)"
   ]
  },
  {
   "cell_type": "code",
   "execution_count": 26,
   "metadata": {
    "scrolled": true,
    "tags": []
   },
   "outputs": [
    {
     "name": "stderr",
     "output_type": "stream",
     "text": [
      "https://huggingface.co/distilbert-base-uncased/resolve/main/pytorch_model.bin not found in cache or force_download set to True, downloading to /root/.cache/huggingface/transformers/tmp7n_fk_qb\n"
     ]
    },
    {
     "data": {
      "application/vnd.jupyter.widget-view+json": {
       "model_id": "3692cb9c580e4a7684346af311be2f40",
       "version_major": 2,
       "version_minor": 0
      },
      "text/plain": [
       "Downloading:   0%|          | 0.00/256M [00:00<?, ?B/s]"
      ]
     },
     "metadata": {},
     "output_type": "display_data"
    },
    {
     "name": "stderr",
     "output_type": "stream",
     "text": [
      "storing https://huggingface.co/distilbert-base-uncased/resolve/main/pytorch_model.bin in cache at /root/.cache/huggingface/transformers/9c169103d7e5a73936dd2b627e42851bec0831212b677c637033ee4bce9ab5ee.126183e36667471617ae2f0835fab707baa54b731f991507ebbb55ea85adb12a\n",
      "creating metadata file for /root/.cache/huggingface/transformers/9c169103d7e5a73936dd2b627e42851bec0831212b677c637033ee4bce9ab5ee.126183e36667471617ae2f0835fab707baa54b731f991507ebbb55ea85adb12a\n",
      "loading weights file https://huggingface.co/distilbert-base-uncased/resolve/main/pytorch_model.bin from cache at /root/.cache/huggingface/transformers/9c169103d7e5a73936dd2b627e42851bec0831212b677c637033ee4bce9ab5ee.126183e36667471617ae2f0835fab707baa54b731f991507ebbb55ea85adb12a\n",
      "Some weights of the model checkpoint at distilbert-base-uncased were not used when initializing DistilBertForSequenceClassification: ['vocab_projector.weight', 'vocab_layer_norm.weight', 'vocab_transform.bias', 'vocab_transform.weight', 'vocab_projector.bias', 'vocab_layer_norm.bias']\n",
      "- This IS expected if you are initializing DistilBertForSequenceClassification from the checkpoint of a model trained on another task or with another architecture (e.g. initializing a BertForSequenceClassification model from a BertForPreTraining model).\n",
      "- This IS NOT expected if you are initializing DistilBertForSequenceClassification from the checkpoint of a model that you expect to be exactly identical (initializing a BertForSequenceClassification model from a BertForSequenceClassification model).\n",
      "Some weights of DistilBertForSequenceClassification were not initialized from the model checkpoint at distilbert-base-uncased and are newly initialized: ['pre_classifier.bias', 'classifier.weight', 'pre_classifier.weight', 'classifier.bias']\n",
      "You should probably TRAIN this model on a down-stream task to be able to use it for predictions and inference.\n",
      "/notebooks/nlpwt/distilbert-base-uncased-finetuned-clinc is already a clone of https://huggingface.co/chris-santiago/distilbert-base-uncased-finetuned-clinc. Make sure you pull the latest changes with `repo.git_pull()`.\n"
     ]
    }
   ],
   "source": [
    "distilbert_trainer = DistillationTrainer(\n",
    "    model_init=student_init,\n",
    "    teacher=teacher_model,\n",
    "    args=train_args,\n",
    "    train_dataset=data_enc['train'],\n",
    "    eval_dataset=data_enc['validation'],\n",
    "    compute_metrics=get_metrics,\n",
    "    tokenizer=student_tokenizer\n",
    ")"
   ]
  },
  {
   "cell_type": "code",
   "execution_count": null,
   "metadata": {
    "scrolled": true,
    "tags": []
   },
   "outputs": [],
   "source": [
    "distilbert_trainer.train()"
   ]
  },
  {
   "cell_type": "code",
   "execution_count": null,
   "metadata": {
    "scrolled": true,
    "tags": []
   },
   "outputs": [],
   "source": [
    "distilbert_trainer.push_to_hub('training complete')"
   ]
  },
  {
   "cell_type": "code",
   "execution_count": 27,
   "metadata": {
    "scrolled": true,
    "tags": []
   },
   "outputs": [
    {
     "name": "stderr",
     "output_type": "stream",
     "text": [
      "https://huggingface.co/chris-santiago/distilbert-base-uncased-finetuned-clinc/resolve/main/config.json not found in cache or force_download set to True, downloading to /root/.cache/huggingface/transformers/tmp90b4kl6m\n"
     ]
    },
    {
     "data": {
      "application/vnd.jupyter.widget-view+json": {
       "model_id": "af63bcf242e84395842c2439e65dca18",
       "version_major": 2,
       "version_minor": 0
      },
      "text/plain": [
       "Downloading:   0%|          | 0.00/8.01k [00:00<?, ?B/s]"
      ]
     },
     "metadata": {},
     "output_type": "display_data"
    },
    {
     "name": "stderr",
     "output_type": "stream",
     "text": [
      "storing https://huggingface.co/chris-santiago/distilbert-base-uncased-finetuned-clinc/resolve/main/config.json in cache at /root/.cache/huggingface/transformers/94081c597927333eeebc0263815e9596474466a3f93ea7a7708e37c166793b59.e498684d4c1b0b030c3a11d06b8ba4e6e182cb76f073c64455f6f656e5985942\n",
      "creating metadata file for /root/.cache/huggingface/transformers/94081c597927333eeebc0263815e9596474466a3f93ea7a7708e37c166793b59.e498684d4c1b0b030c3a11d06b8ba4e6e182cb76f073c64455f6f656e5985942\n",
      "loading configuration file https://huggingface.co/chris-santiago/distilbert-base-uncased-finetuned-clinc/resolve/main/config.json from cache at /root/.cache/huggingface/transformers/94081c597927333eeebc0263815e9596474466a3f93ea7a7708e37c166793b59.e498684d4c1b0b030c3a11d06b8ba4e6e182cb76f073c64455f6f656e5985942\n",
      "Model config DistilBertConfig {\n",
      "  \"_name_or_path\": \"chris-santiago/distilbert-base-uncased-finetuned-clinc\",\n",
      "  \"activation\": \"gelu\",\n",
      "  \"architectures\": [\n",
      "    \"DistilBertForSequenceClassification\"\n",
      "  ],\n",
      "  \"attention_dropout\": 0.1,\n",
      "  \"dim\": 768,\n",
      "  \"dropout\": 0.1,\n",
      "  \"hidden_dim\": 3072,\n",
      "  \"id2label\": {\n",
      "    \"0\": \"restaurant_reviews\",\n",
      "    \"1\": \"nutrition_info\",\n",
      "    \"2\": \"account_blocked\",\n",
      "    \"3\": \"oil_change_how\",\n",
      "    \"4\": \"time\",\n",
      "    \"5\": \"weather\",\n",
      "    \"6\": \"redeem_rewards\",\n",
      "    \"7\": \"interest_rate\",\n",
      "    \"8\": \"gas_type\",\n",
      "    \"9\": \"accept_reservations\",\n",
      "    \"10\": \"smart_home\",\n",
      "    \"11\": \"user_name\",\n",
      "    \"12\": \"report_lost_card\",\n",
      "    \"13\": \"repeat\",\n",
      "    \"14\": \"whisper_mode\",\n",
      "    \"15\": \"what_are_your_hobbies\",\n",
      "    \"16\": \"order\",\n",
      "    \"17\": \"jump_start\",\n",
      "    \"18\": \"schedule_meeting\",\n",
      "    \"19\": \"meeting_schedule\",\n",
      "    \"20\": \"freeze_account\",\n",
      "    \"21\": \"what_song\",\n",
      "    \"22\": \"meaning_of_life\",\n",
      "    \"23\": \"restaurant_reservation\",\n",
      "    \"24\": \"traffic\",\n",
      "    \"25\": \"make_call\",\n",
      "    \"26\": \"text\",\n",
      "    \"27\": \"bill_balance\",\n",
      "    \"28\": \"improve_credit_score\",\n",
      "    \"29\": \"change_language\",\n",
      "    \"30\": \"no\",\n",
      "    \"31\": \"measurement_conversion\",\n",
      "    \"32\": \"timer\",\n",
      "    \"33\": \"flip_coin\",\n",
      "    \"34\": \"do_you_have_pets\",\n",
      "    \"35\": \"balance\",\n",
      "    \"36\": \"tell_joke\",\n",
      "    \"37\": \"last_maintenance\",\n",
      "    \"38\": \"exchange_rate\",\n",
      "    \"39\": \"uber\",\n",
      "    \"40\": \"car_rental\",\n",
      "    \"41\": \"credit_limit\",\n",
      "    \"42\": \"oos\",\n",
      "    \"43\": \"shopping_list\",\n",
      "    \"44\": \"expiration_date\",\n",
      "    \"45\": \"routing\",\n",
      "    \"46\": \"meal_suggestion\",\n",
      "    \"47\": \"tire_change\",\n",
      "    \"48\": \"todo_list\",\n",
      "    \"49\": \"card_declined\",\n",
      "    \"50\": \"rewards_balance\",\n",
      "    \"51\": \"change_accent\",\n",
      "    \"52\": \"vaccines\",\n",
      "    \"53\": \"reminder_update\",\n",
      "    \"54\": \"food_last\",\n",
      "    \"55\": \"change_ai_name\",\n",
      "    \"56\": \"bill_due\",\n",
      "    \"57\": \"who_do_you_work_for\",\n",
      "    \"58\": \"share_location\",\n",
      "    \"59\": \"international_visa\",\n",
      "    \"60\": \"calendar\",\n",
      "    \"61\": \"translate\",\n",
      "    \"62\": \"carry_on\",\n",
      "    \"63\": \"book_flight\",\n",
      "    \"64\": \"insurance_change\",\n",
      "    \"65\": \"todo_list_update\",\n",
      "    \"66\": \"timezone\",\n",
      "    \"67\": \"cancel_reservation\",\n",
      "    \"68\": \"transactions\",\n",
      "    \"69\": \"credit_score\",\n",
      "    \"70\": \"report_fraud\",\n",
      "    \"71\": \"spending_history\",\n",
      "    \"72\": \"directions\",\n",
      "    \"73\": \"spelling\",\n",
      "    \"74\": \"insurance\",\n",
      "    \"75\": \"what_is_your_name\",\n",
      "    \"76\": \"reminder\",\n",
      "    \"77\": \"where_are_you_from\",\n",
      "    \"78\": \"distance\",\n",
      "    \"79\": \"payday\",\n",
      "    \"80\": \"flight_status\",\n",
      "    \"81\": \"find_phone\",\n",
      "    \"82\": \"greeting\",\n",
      "    \"83\": \"alarm\",\n",
      "    \"84\": \"order_status\",\n",
      "    \"85\": \"confirm_reservation\",\n",
      "    \"86\": \"cook_time\",\n",
      "    \"87\": \"damaged_card\",\n",
      "    \"88\": \"reset_settings\",\n",
      "    \"89\": \"pin_change\",\n",
      "    \"90\": \"replacement_card_duration\",\n",
      "    \"91\": \"new_card\",\n",
      "    \"92\": \"roll_dice\",\n",
      "    \"93\": \"income\",\n",
      "    \"94\": \"taxes\",\n",
      "    \"95\": \"date\",\n",
      "    \"96\": \"who_made_you\",\n",
      "    \"97\": \"pto_request\",\n",
      "    \"98\": \"tire_pressure\",\n",
      "    \"99\": \"how_old_are_you\",\n",
      "    \"100\": \"rollover_401k\",\n",
      "    \"101\": \"pto_request_status\",\n",
      "    \"102\": \"how_busy\",\n",
      "    \"103\": \"application_status\",\n",
      "    \"104\": \"recipe\",\n",
      "    \"105\": \"calendar_update\",\n",
      "    \"106\": \"play_music\",\n",
      "    \"107\": \"yes\",\n",
      "    \"108\": \"direct_deposit\",\n",
      "    \"109\": \"credit_limit_change\",\n",
      "    \"110\": \"gas\",\n",
      "    \"111\": \"pay_bill\",\n",
      "    \"112\": \"ingredients_list\",\n",
      "    \"113\": \"lost_luggage\",\n",
      "    \"114\": \"goodbye\",\n",
      "    \"115\": \"what_can_i_ask_you\",\n",
      "    \"116\": \"book_hotel\",\n",
      "    \"117\": \"are_you_a_bot\",\n",
      "    \"118\": \"next_song\",\n",
      "    \"119\": \"change_speed\",\n",
      "    \"120\": \"plug_type\",\n",
      "    \"121\": \"maybe\",\n",
      "    \"122\": \"w2\",\n",
      "    \"123\": \"oil_change_when\",\n",
      "    \"124\": \"thank_you\",\n",
      "    \"125\": \"shopping_list_update\",\n",
      "    \"126\": \"pto_balance\",\n",
      "    \"127\": \"order_checks\",\n",
      "    \"128\": \"travel_alert\",\n",
      "    \"129\": \"fun_fact\",\n",
      "    \"130\": \"sync_device\",\n",
      "    \"131\": \"schedule_maintenance\",\n",
      "    \"132\": \"apr\",\n",
      "    \"133\": \"transfer\",\n",
      "    \"134\": \"ingredient_substitution\",\n",
      "    \"135\": \"calories\",\n",
      "    \"136\": \"current_location\",\n",
      "    \"137\": \"international_fees\",\n",
      "    \"138\": \"calculator\",\n",
      "    \"139\": \"definition\",\n",
      "    \"140\": \"next_holiday\",\n",
      "    \"141\": \"update_playlist\",\n",
      "    \"142\": \"mpg\",\n",
      "    \"143\": \"min_payment\",\n",
      "    \"144\": \"change_user_name\",\n",
      "    \"145\": \"restaurant_suggestion\",\n",
      "    \"146\": \"travel_notification\",\n",
      "    \"147\": \"cancel\",\n",
      "    \"148\": \"pto_used\",\n",
      "    \"149\": \"travel_suggestion\",\n",
      "    \"150\": \"change_volume\"\n",
      "  },\n",
      "  \"initializer_range\": 0.02,\n",
      "  \"label2id\": {\n",
      "    \"accept_reservations\": 9,\n",
      "    \"account_blocked\": 2,\n",
      "    \"alarm\": 83,\n",
      "    \"application_status\": 103,\n",
      "    \"apr\": 132,\n",
      "    \"are_you_a_bot\": 117,\n",
      "    \"balance\": 35,\n",
      "    \"bill_balance\": 27,\n",
      "    \"bill_due\": 56,\n",
      "    \"book_flight\": 63,\n",
      "    \"book_hotel\": 116,\n",
      "    \"calculator\": 138,\n",
      "    \"calendar\": 60,\n",
      "    \"calendar_update\": 105,\n",
      "    \"calories\": 135,\n",
      "    \"cancel\": 147,\n",
      "    \"cancel_reservation\": 67,\n",
      "    \"car_rental\": 40,\n",
      "    \"card_declined\": 49,\n",
      "    \"carry_on\": 62,\n",
      "    \"change_accent\": 51,\n",
      "    \"change_ai_name\": 55,\n",
      "    \"change_language\": 29,\n",
      "    \"change_speed\": 119,\n",
      "    \"change_user_name\": 144,\n",
      "    \"change_volume\": 150,\n",
      "    \"confirm_reservation\": 85,\n",
      "    \"cook_time\": 86,\n",
      "    \"credit_limit\": 41,\n",
      "    \"credit_limit_change\": 109,\n",
      "    \"credit_score\": 69,\n",
      "    \"current_location\": 136,\n",
      "    \"damaged_card\": 87,\n",
      "    \"date\": 95,\n",
      "    \"definition\": 139,\n",
      "    \"direct_deposit\": 108,\n",
      "    \"directions\": 72,\n",
      "    \"distance\": 78,\n",
      "    \"do_you_have_pets\": 34,\n",
      "    \"exchange_rate\": 38,\n",
      "    \"expiration_date\": 44,\n",
      "    \"find_phone\": 81,\n",
      "    \"flight_status\": 80,\n",
      "    \"flip_coin\": 33,\n",
      "    \"food_last\": 54,\n",
      "    \"freeze_account\": 20,\n",
      "    \"fun_fact\": 129,\n",
      "    \"gas\": 110,\n",
      "    \"gas_type\": 8,\n",
      "    \"goodbye\": 114,\n",
      "    \"greeting\": 82,\n",
      "    \"how_busy\": 102,\n",
      "    \"how_old_are_you\": 99,\n",
      "    \"improve_credit_score\": 28,\n",
      "    \"income\": 93,\n",
      "    \"ingredient_substitution\": 134,\n",
      "    \"ingredients_list\": 112,\n",
      "    \"insurance\": 74,\n",
      "    \"insurance_change\": 64,\n",
      "    \"interest_rate\": 7,\n",
      "    \"international_fees\": 137,\n",
      "    \"international_visa\": 59,\n",
      "    \"jump_start\": 17,\n",
      "    \"last_maintenance\": 37,\n",
      "    \"lost_luggage\": 113,\n",
      "    \"make_call\": 25,\n",
      "    \"maybe\": 121,\n",
      "    \"meal_suggestion\": 46,\n",
      "    \"meaning_of_life\": 22,\n",
      "    \"measurement_conversion\": 31,\n",
      "    \"meeting_schedule\": 19,\n",
      "    \"min_payment\": 143,\n",
      "    \"mpg\": 142,\n",
      "    \"new_card\": 91,\n",
      "    \"next_holiday\": 140,\n",
      "    \"next_song\": 118,\n",
      "    \"no\": 30,\n",
      "    \"nutrition_info\": 1,\n",
      "    \"oil_change_how\": 3,\n",
      "    \"oil_change_when\": 123,\n",
      "    \"oos\": 42,\n",
      "    \"order\": 16,\n",
      "    \"order_checks\": 127,\n",
      "    \"order_status\": 84,\n",
      "    \"pay_bill\": 111,\n",
      "    \"payday\": 79,\n",
      "    \"pin_change\": 89,\n",
      "    \"play_music\": 106,\n",
      "    \"plug_type\": 120,\n",
      "    \"pto_balance\": 126,\n",
      "    \"pto_request\": 97,\n",
      "    \"pto_request_status\": 101,\n",
      "    \"pto_used\": 148,\n",
      "    \"recipe\": 104,\n",
      "    \"redeem_rewards\": 6,\n",
      "    \"reminder\": 76,\n",
      "    \"reminder_update\": 53,\n",
      "    \"repeat\": 13,\n",
      "    \"replacement_card_duration\": 90,\n",
      "    \"report_fraud\": 70,\n",
      "    \"report_lost_card\": 12,\n",
      "    \"reset_settings\": 88,\n",
      "    \"restaurant_reservation\": 23,\n",
      "    \"restaurant_reviews\": 0,\n",
      "    \"restaurant_suggestion\": 145,\n",
      "    \"rewards_balance\": 50,\n",
      "    \"roll_dice\": 92,\n",
      "    \"rollover_401k\": 100,\n",
      "    \"routing\": 45,\n",
      "    \"schedule_maintenance\": 131,\n",
      "    \"schedule_meeting\": 18,\n",
      "    \"share_location\": 58,\n",
      "    \"shopping_list\": 43,\n",
      "    \"shopping_list_update\": 125,\n",
      "    \"smart_home\": 10,\n",
      "    \"spelling\": 73,\n",
      "    \"spending_history\": 71,\n",
      "    \"sync_device\": 130,\n",
      "    \"taxes\": 94,\n",
      "    \"tell_joke\": 36,\n",
      "    \"text\": 26,\n",
      "    \"thank_you\": 124,\n",
      "    \"time\": 4,\n",
      "    \"timer\": 32,\n",
      "    \"timezone\": 66,\n",
      "    \"tire_change\": 47,\n",
      "    \"tire_pressure\": 98,\n",
      "    \"todo_list\": 48,\n",
      "    \"todo_list_update\": 65,\n",
      "    \"traffic\": 24,\n",
      "    \"transactions\": 68,\n",
      "    \"transfer\": 133,\n",
      "    \"translate\": 61,\n",
      "    \"travel_alert\": 128,\n",
      "    \"travel_notification\": 146,\n",
      "    \"travel_suggestion\": 149,\n",
      "    \"uber\": 39,\n",
      "    \"update_playlist\": 141,\n",
      "    \"user_name\": 11,\n",
      "    \"vaccines\": 52,\n",
      "    \"w2\": 122,\n",
      "    \"weather\": 5,\n",
      "    \"what_are_your_hobbies\": 15,\n",
      "    \"what_can_i_ask_you\": 115,\n",
      "    \"what_is_your_name\": 75,\n",
      "    \"what_song\": 21,\n",
      "    \"where_are_you_from\": 77,\n",
      "    \"whisper_mode\": 14,\n",
      "    \"who_do_you_work_for\": 57,\n",
      "    \"who_made_you\": 96,\n",
      "    \"yes\": 107\n",
      "  },\n",
      "  \"max_position_embeddings\": 512,\n",
      "  \"model_type\": \"distilbert\",\n",
      "  \"n_heads\": 12,\n",
      "  \"n_layers\": 6,\n",
      "  \"pad_token_id\": 0,\n",
      "  \"problem_type\": \"single_label_classification\",\n",
      "  \"qa_dropout\": 0.1,\n",
      "  \"seq_classif_dropout\": 0.2,\n",
      "  \"sinusoidal_pos_embds\": false,\n",
      "  \"tie_weights_\": true,\n",
      "  \"torch_dtype\": \"float32\",\n",
      "  \"transformers_version\": \"4.18.0\",\n",
      "  \"vocab_size\": 30522\n",
      "}\n",
      "\n",
      "loading configuration file https://huggingface.co/chris-santiago/distilbert-base-uncased-finetuned-clinc/resolve/main/config.json from cache at /root/.cache/huggingface/transformers/94081c597927333eeebc0263815e9596474466a3f93ea7a7708e37c166793b59.e498684d4c1b0b030c3a11d06b8ba4e6e182cb76f073c64455f6f656e5985942\n",
      "Model config DistilBertConfig {\n",
      "  \"_name_or_path\": \"chris-santiago/distilbert-base-uncased-finetuned-clinc\",\n",
      "  \"activation\": \"gelu\",\n",
      "  \"architectures\": [\n",
      "    \"DistilBertForSequenceClassification\"\n",
      "  ],\n",
      "  \"attention_dropout\": 0.1,\n",
      "  \"dim\": 768,\n",
      "  \"dropout\": 0.1,\n",
      "  \"hidden_dim\": 3072,\n",
      "  \"id2label\": {\n",
      "    \"0\": \"restaurant_reviews\",\n",
      "    \"1\": \"nutrition_info\",\n",
      "    \"2\": \"account_blocked\",\n",
      "    \"3\": \"oil_change_how\",\n",
      "    \"4\": \"time\",\n",
      "    \"5\": \"weather\",\n",
      "    \"6\": \"redeem_rewards\",\n",
      "    \"7\": \"interest_rate\",\n",
      "    \"8\": \"gas_type\",\n",
      "    \"9\": \"accept_reservations\",\n",
      "    \"10\": \"smart_home\",\n",
      "    \"11\": \"user_name\",\n",
      "    \"12\": \"report_lost_card\",\n",
      "    \"13\": \"repeat\",\n",
      "    \"14\": \"whisper_mode\",\n",
      "    \"15\": \"what_are_your_hobbies\",\n",
      "    \"16\": \"order\",\n",
      "    \"17\": \"jump_start\",\n",
      "    \"18\": \"schedule_meeting\",\n",
      "    \"19\": \"meeting_schedule\",\n",
      "    \"20\": \"freeze_account\",\n",
      "    \"21\": \"what_song\",\n",
      "    \"22\": \"meaning_of_life\",\n",
      "    \"23\": \"restaurant_reservation\",\n",
      "    \"24\": \"traffic\",\n",
      "    \"25\": \"make_call\",\n",
      "    \"26\": \"text\",\n",
      "    \"27\": \"bill_balance\",\n",
      "    \"28\": \"improve_credit_score\",\n",
      "    \"29\": \"change_language\",\n",
      "    \"30\": \"no\",\n",
      "    \"31\": \"measurement_conversion\",\n",
      "    \"32\": \"timer\",\n",
      "    \"33\": \"flip_coin\",\n",
      "    \"34\": \"do_you_have_pets\",\n",
      "    \"35\": \"balance\",\n",
      "    \"36\": \"tell_joke\",\n",
      "    \"37\": \"last_maintenance\",\n",
      "    \"38\": \"exchange_rate\",\n",
      "    \"39\": \"uber\",\n",
      "    \"40\": \"car_rental\",\n",
      "    \"41\": \"credit_limit\",\n",
      "    \"42\": \"oos\",\n",
      "    \"43\": \"shopping_list\",\n",
      "    \"44\": \"expiration_date\",\n",
      "    \"45\": \"routing\",\n",
      "    \"46\": \"meal_suggestion\",\n",
      "    \"47\": \"tire_change\",\n",
      "    \"48\": \"todo_list\",\n",
      "    \"49\": \"card_declined\",\n",
      "    \"50\": \"rewards_balance\",\n",
      "    \"51\": \"change_accent\",\n",
      "    \"52\": \"vaccines\",\n",
      "    \"53\": \"reminder_update\",\n",
      "    \"54\": \"food_last\",\n",
      "    \"55\": \"change_ai_name\",\n",
      "    \"56\": \"bill_due\",\n",
      "    \"57\": \"who_do_you_work_for\",\n",
      "    \"58\": \"share_location\",\n",
      "    \"59\": \"international_visa\",\n",
      "    \"60\": \"calendar\",\n",
      "    \"61\": \"translate\",\n",
      "    \"62\": \"carry_on\",\n",
      "    \"63\": \"book_flight\",\n",
      "    \"64\": \"insurance_change\",\n",
      "    \"65\": \"todo_list_update\",\n",
      "    \"66\": \"timezone\",\n",
      "    \"67\": \"cancel_reservation\",\n",
      "    \"68\": \"transactions\",\n",
      "    \"69\": \"credit_score\",\n",
      "    \"70\": \"report_fraud\",\n",
      "    \"71\": \"spending_history\",\n",
      "    \"72\": \"directions\",\n",
      "    \"73\": \"spelling\",\n",
      "    \"74\": \"insurance\",\n",
      "    \"75\": \"what_is_your_name\",\n",
      "    \"76\": \"reminder\",\n",
      "    \"77\": \"where_are_you_from\",\n",
      "    \"78\": \"distance\",\n",
      "    \"79\": \"payday\",\n",
      "    \"80\": \"flight_status\",\n",
      "    \"81\": \"find_phone\",\n",
      "    \"82\": \"greeting\",\n",
      "    \"83\": \"alarm\",\n",
      "    \"84\": \"order_status\",\n",
      "    \"85\": \"confirm_reservation\",\n",
      "    \"86\": \"cook_time\",\n",
      "    \"87\": \"damaged_card\",\n",
      "    \"88\": \"reset_settings\",\n",
      "    \"89\": \"pin_change\",\n",
      "    \"90\": \"replacement_card_duration\",\n",
      "    \"91\": \"new_card\",\n",
      "    \"92\": \"roll_dice\",\n",
      "    \"93\": \"income\",\n",
      "    \"94\": \"taxes\",\n",
      "    \"95\": \"date\",\n",
      "    \"96\": \"who_made_you\",\n",
      "    \"97\": \"pto_request\",\n",
      "    \"98\": \"tire_pressure\",\n",
      "    \"99\": \"how_old_are_you\",\n",
      "    \"100\": \"rollover_401k\",\n",
      "    \"101\": \"pto_request_status\",\n",
      "    \"102\": \"how_busy\",\n",
      "    \"103\": \"application_status\",\n",
      "    \"104\": \"recipe\",\n",
      "    \"105\": \"calendar_update\",\n",
      "    \"106\": \"play_music\",\n",
      "    \"107\": \"yes\",\n",
      "    \"108\": \"direct_deposit\",\n",
      "    \"109\": \"credit_limit_change\",\n",
      "    \"110\": \"gas\",\n",
      "    \"111\": \"pay_bill\",\n",
      "    \"112\": \"ingredients_list\",\n",
      "    \"113\": \"lost_luggage\",\n",
      "    \"114\": \"goodbye\",\n",
      "    \"115\": \"what_can_i_ask_you\",\n",
      "    \"116\": \"book_hotel\",\n",
      "    \"117\": \"are_you_a_bot\",\n",
      "    \"118\": \"next_song\",\n",
      "    \"119\": \"change_speed\",\n",
      "    \"120\": \"plug_type\",\n",
      "    \"121\": \"maybe\",\n",
      "    \"122\": \"w2\",\n",
      "    \"123\": \"oil_change_when\",\n",
      "    \"124\": \"thank_you\",\n",
      "    \"125\": \"shopping_list_update\",\n",
      "    \"126\": \"pto_balance\",\n",
      "    \"127\": \"order_checks\",\n",
      "    \"128\": \"travel_alert\",\n",
      "    \"129\": \"fun_fact\",\n",
      "    \"130\": \"sync_device\",\n",
      "    \"131\": \"schedule_maintenance\",\n",
      "    \"132\": \"apr\",\n",
      "    \"133\": \"transfer\",\n",
      "    \"134\": \"ingredient_substitution\",\n",
      "    \"135\": \"calories\",\n",
      "    \"136\": \"current_location\",\n",
      "    \"137\": \"international_fees\",\n",
      "    \"138\": \"calculator\",\n",
      "    \"139\": \"definition\",\n",
      "    \"140\": \"next_holiday\",\n",
      "    \"141\": \"update_playlist\",\n",
      "    \"142\": \"mpg\",\n",
      "    \"143\": \"min_payment\",\n",
      "    \"144\": \"change_user_name\",\n",
      "    \"145\": \"restaurant_suggestion\",\n",
      "    \"146\": \"travel_notification\",\n",
      "    \"147\": \"cancel\",\n",
      "    \"148\": \"pto_used\",\n",
      "    \"149\": \"travel_suggestion\",\n",
      "    \"150\": \"change_volume\"\n",
      "  },\n",
      "  \"initializer_range\": 0.02,\n",
      "  \"label2id\": {\n",
      "    \"accept_reservations\": 9,\n",
      "    \"account_blocked\": 2,\n",
      "    \"alarm\": 83,\n",
      "    \"application_status\": 103,\n",
      "    \"apr\": 132,\n",
      "    \"are_you_a_bot\": 117,\n",
      "    \"balance\": 35,\n",
      "    \"bill_balance\": 27,\n",
      "    \"bill_due\": 56,\n",
      "    \"book_flight\": 63,\n",
      "    \"book_hotel\": 116,\n",
      "    \"calculator\": 138,\n",
      "    \"calendar\": 60,\n",
      "    \"calendar_update\": 105,\n",
      "    \"calories\": 135,\n",
      "    \"cancel\": 147,\n",
      "    \"cancel_reservation\": 67,\n",
      "    \"car_rental\": 40,\n",
      "    \"card_declined\": 49,\n",
      "    \"carry_on\": 62,\n",
      "    \"change_accent\": 51,\n",
      "    \"change_ai_name\": 55,\n",
      "    \"change_language\": 29,\n",
      "    \"change_speed\": 119,\n",
      "    \"change_user_name\": 144,\n",
      "    \"change_volume\": 150,\n",
      "    \"confirm_reservation\": 85,\n",
      "    \"cook_time\": 86,\n",
      "    \"credit_limit\": 41,\n",
      "    \"credit_limit_change\": 109,\n",
      "    \"credit_score\": 69,\n",
      "    \"current_location\": 136,\n",
      "    \"damaged_card\": 87,\n",
      "    \"date\": 95,\n",
      "    \"definition\": 139,\n",
      "    \"direct_deposit\": 108,\n",
      "    \"directions\": 72,\n",
      "    \"distance\": 78,\n",
      "    \"do_you_have_pets\": 34,\n",
      "    \"exchange_rate\": 38,\n",
      "    \"expiration_date\": 44,\n",
      "    \"find_phone\": 81,\n",
      "    \"flight_status\": 80,\n",
      "    \"flip_coin\": 33,\n",
      "    \"food_last\": 54,\n",
      "    \"freeze_account\": 20,\n",
      "    \"fun_fact\": 129,\n",
      "    \"gas\": 110,\n",
      "    \"gas_type\": 8,\n",
      "    \"goodbye\": 114,\n",
      "    \"greeting\": 82,\n",
      "    \"how_busy\": 102,\n",
      "    \"how_old_are_you\": 99,\n",
      "    \"improve_credit_score\": 28,\n",
      "    \"income\": 93,\n",
      "    \"ingredient_substitution\": 134,\n",
      "    \"ingredients_list\": 112,\n",
      "    \"insurance\": 74,\n",
      "    \"insurance_change\": 64,\n",
      "    \"interest_rate\": 7,\n",
      "    \"international_fees\": 137,\n",
      "    \"international_visa\": 59,\n",
      "    \"jump_start\": 17,\n",
      "    \"last_maintenance\": 37,\n",
      "    \"lost_luggage\": 113,\n",
      "    \"make_call\": 25,\n",
      "    \"maybe\": 121,\n",
      "    \"meal_suggestion\": 46,\n",
      "    \"meaning_of_life\": 22,\n",
      "    \"measurement_conversion\": 31,\n",
      "    \"meeting_schedule\": 19,\n",
      "    \"min_payment\": 143,\n",
      "    \"mpg\": 142,\n",
      "    \"new_card\": 91,\n",
      "    \"next_holiday\": 140,\n",
      "    \"next_song\": 118,\n",
      "    \"no\": 30,\n",
      "    \"nutrition_info\": 1,\n",
      "    \"oil_change_how\": 3,\n",
      "    \"oil_change_when\": 123,\n",
      "    \"oos\": 42,\n",
      "    \"order\": 16,\n",
      "    \"order_checks\": 127,\n",
      "    \"order_status\": 84,\n",
      "    \"pay_bill\": 111,\n",
      "    \"payday\": 79,\n",
      "    \"pin_change\": 89,\n",
      "    \"play_music\": 106,\n",
      "    \"plug_type\": 120,\n",
      "    \"pto_balance\": 126,\n",
      "    \"pto_request\": 97,\n",
      "    \"pto_request_status\": 101,\n",
      "    \"pto_used\": 148,\n",
      "    \"recipe\": 104,\n",
      "    \"redeem_rewards\": 6,\n",
      "    \"reminder\": 76,\n",
      "    \"reminder_update\": 53,\n",
      "    \"repeat\": 13,\n",
      "    \"replacement_card_duration\": 90,\n",
      "    \"report_fraud\": 70,\n",
      "    \"report_lost_card\": 12,\n",
      "    \"reset_settings\": 88,\n",
      "    \"restaurant_reservation\": 23,\n",
      "    \"restaurant_reviews\": 0,\n",
      "    \"restaurant_suggestion\": 145,\n",
      "    \"rewards_balance\": 50,\n",
      "    \"roll_dice\": 92,\n",
      "    \"rollover_401k\": 100,\n",
      "    \"routing\": 45,\n",
      "    \"schedule_maintenance\": 131,\n",
      "    \"schedule_meeting\": 18,\n",
      "    \"share_location\": 58,\n",
      "    \"shopping_list\": 43,\n",
      "    \"shopping_list_update\": 125,\n",
      "    \"smart_home\": 10,\n",
      "    \"spelling\": 73,\n",
      "    \"spending_history\": 71,\n",
      "    \"sync_device\": 130,\n",
      "    \"taxes\": 94,\n",
      "    \"tell_joke\": 36,\n",
      "    \"text\": 26,\n",
      "    \"thank_you\": 124,\n",
      "    \"time\": 4,\n",
      "    \"timer\": 32,\n",
      "    \"timezone\": 66,\n",
      "    \"tire_change\": 47,\n",
      "    \"tire_pressure\": 98,\n",
      "    \"todo_list\": 48,\n",
      "    \"todo_list_update\": 65,\n",
      "    \"traffic\": 24,\n",
      "    \"transactions\": 68,\n",
      "    \"transfer\": 133,\n",
      "    \"translate\": 61,\n",
      "    \"travel_alert\": 128,\n",
      "    \"travel_notification\": 146,\n",
      "    \"travel_suggestion\": 149,\n",
      "    \"uber\": 39,\n",
      "    \"update_playlist\": 141,\n",
      "    \"user_name\": 11,\n",
      "    \"vaccines\": 52,\n",
      "    \"w2\": 122,\n",
      "    \"weather\": 5,\n",
      "    \"what_are_your_hobbies\": 15,\n",
      "    \"what_can_i_ask_you\": 115,\n",
      "    \"what_is_your_name\": 75,\n",
      "    \"what_song\": 21,\n",
      "    \"where_are_you_from\": 77,\n",
      "    \"whisper_mode\": 14,\n",
      "    \"who_do_you_work_for\": 57,\n",
      "    \"who_made_you\": 96,\n",
      "    \"yes\": 107\n",
      "  },\n",
      "  \"max_position_embeddings\": 512,\n",
      "  \"model_type\": \"distilbert\",\n",
      "  \"n_heads\": 12,\n",
      "  \"n_layers\": 6,\n",
      "  \"pad_token_id\": 0,\n",
      "  \"problem_type\": \"single_label_classification\",\n",
      "  \"qa_dropout\": 0.1,\n",
      "  \"seq_classif_dropout\": 0.2,\n",
      "  \"sinusoidal_pos_embds\": false,\n",
      "  \"tie_weights_\": true,\n",
      "  \"torch_dtype\": \"float32\",\n",
      "  \"transformers_version\": \"4.18.0\",\n",
      "  \"vocab_size\": 30522\n",
      "}\n",
      "\n",
      "https://huggingface.co/chris-santiago/distilbert-base-uncased-finetuned-clinc/resolve/main/pytorch_model.bin not found in cache or force_download set to True, downloading to /root/.cache/huggingface/transformers/tmpn6qtl7e6\n"
     ]
    },
    {
     "data": {
      "application/vnd.jupyter.widget-view+json": {
       "model_id": "28546bdbeb334b70a7dc6b87dbdd2a72",
       "version_major": 2,
       "version_minor": 0
      },
      "text/plain": [
       "Downloading:   0%|          | 0.00/256M [00:00<?, ?B/s]"
      ]
     },
     "metadata": {},
     "output_type": "display_data"
    },
    {
     "name": "stderr",
     "output_type": "stream",
     "text": [
      "storing https://huggingface.co/chris-santiago/distilbert-base-uncased-finetuned-clinc/resolve/main/pytorch_model.bin in cache at /root/.cache/huggingface/transformers/09c297ae1dacbf810acfb54fd7579b916708c587bb4991cc10ce2b7f1ae8bd4d.7465c71dc121dfa5a70bf35bc84e22058a918747e00ecfff88c834491645e028\n",
      "creating metadata file for /root/.cache/huggingface/transformers/09c297ae1dacbf810acfb54fd7579b916708c587bb4991cc10ce2b7f1ae8bd4d.7465c71dc121dfa5a70bf35bc84e22058a918747e00ecfff88c834491645e028\n",
      "loading weights file https://huggingface.co/chris-santiago/distilbert-base-uncased-finetuned-clinc/resolve/main/pytorch_model.bin from cache at /root/.cache/huggingface/transformers/09c297ae1dacbf810acfb54fd7579b916708c587bb4991cc10ce2b7f1ae8bd4d.7465c71dc121dfa5a70bf35bc84e22058a918747e00ecfff88c834491645e028\n",
      "All model checkpoint weights were used when initializing DistilBertForSequenceClassification.\n",
      "\n",
      "All the weights of DistilBertForSequenceClassification were initialized from the model checkpoint at chris-santiago/distilbert-base-uncased-finetuned-clinc.\n",
      "If your task is similar to the task the model of the checkpoint was trained on, you can already use DistilBertForSequenceClassification for predictions without further training.\n",
      "https://huggingface.co/chris-santiago/distilbert-base-uncased-finetuned-clinc/resolve/main/tokenizer_config.json not found in cache or force_download set to True, downloading to /root/.cache/huggingface/transformers/tmppaby_ccb\n"
     ]
    },
    {
     "data": {
      "application/vnd.jupyter.widget-view+json": {
       "model_id": "4b5cbd16fb924616a9f31d6df4e0702a",
       "version_major": 2,
       "version_minor": 0
      },
      "text/plain": [
       "Downloading:   0%|          | 0.00/333 [00:00<?, ?B/s]"
      ]
     },
     "metadata": {},
     "output_type": "display_data"
    },
    {
     "name": "stderr",
     "output_type": "stream",
     "text": [
      "storing https://huggingface.co/chris-santiago/distilbert-base-uncased-finetuned-clinc/resolve/main/tokenizer_config.json in cache at /root/.cache/huggingface/transformers/7f415105a854b874257ea9b1fd70e59180db7f85d8053ef83dc36318c586dc75.42154c5fd30bfa7e34941d0d8ad26f8a3936990926fbe06b2da76dd749b1c6d4\n",
      "creating metadata file for /root/.cache/huggingface/transformers/7f415105a854b874257ea9b1fd70e59180db7f85d8053ef83dc36318c586dc75.42154c5fd30bfa7e34941d0d8ad26f8a3936990926fbe06b2da76dd749b1c6d4\n",
      "https://huggingface.co/chris-santiago/distilbert-base-uncased-finetuned-clinc/resolve/main/vocab.txt not found in cache or force_download set to True, downloading to /root/.cache/huggingface/transformers/tmpyqbgfkot\n"
     ]
    },
    {
     "data": {
      "application/vnd.jupyter.widget-view+json": {
       "model_id": "7b248288c14d4fea900ec47922161d04",
       "version_major": 2,
       "version_minor": 0
      },
      "text/plain": [
       "Downloading:   0%|          | 0.00/226k [00:00<?, ?B/s]"
      ]
     },
     "metadata": {},
     "output_type": "display_data"
    },
    {
     "name": "stderr",
     "output_type": "stream",
     "text": [
      "storing https://huggingface.co/chris-santiago/distilbert-base-uncased-finetuned-clinc/resolve/main/vocab.txt in cache at /root/.cache/huggingface/transformers/5de4c70a1c83a67bb6b58fbea22023e464667d1d84f6020e9bfd967725cff29d.d789d64ebfe299b0e416afc4a169632f903f693095b4629a7ea271d5a0cf2c99\n",
      "creating metadata file for /root/.cache/huggingface/transformers/5de4c70a1c83a67bb6b58fbea22023e464667d1d84f6020e9bfd967725cff29d.d789d64ebfe299b0e416afc4a169632f903f693095b4629a7ea271d5a0cf2c99\n",
      "https://huggingface.co/chris-santiago/distilbert-base-uncased-finetuned-clinc/resolve/main/tokenizer.json not found in cache or force_download set to True, downloading to /root/.cache/huggingface/transformers/tmpjc56qzur\n"
     ]
    },
    {
     "data": {
      "application/vnd.jupyter.widget-view+json": {
       "model_id": "e166f03f960e422291ac3616fa9afa4e",
       "version_major": 2,
       "version_minor": 0
      },
      "text/plain": [
       "Downloading:   0%|          | 0.00/695k [00:00<?, ?B/s]"
      ]
     },
     "metadata": {},
     "output_type": "display_data"
    },
    {
     "name": "stderr",
     "output_type": "stream",
     "text": [
      "storing https://huggingface.co/chris-santiago/distilbert-base-uncased-finetuned-clinc/resolve/main/tokenizer.json in cache at /root/.cache/huggingface/transformers/afac070e3e11afb02fb532253b2fe03107b96fd5b80528be2607697592472a61.848c414913cfee271695b8761d3e947fb18a724fbad549de63228b20e5f2d615\n",
      "creating metadata file for /root/.cache/huggingface/transformers/afac070e3e11afb02fb532253b2fe03107b96fd5b80528be2607697592472a61.848c414913cfee271695b8761d3e947fb18a724fbad549de63228b20e5f2d615\n",
      "https://huggingface.co/chris-santiago/distilbert-base-uncased-finetuned-clinc/resolve/main/special_tokens_map.json not found in cache or force_download set to True, downloading to /root/.cache/huggingface/transformers/tmpea_8yhax\n"
     ]
    },
    {
     "data": {
      "application/vnd.jupyter.widget-view+json": {
       "model_id": "91121e778ef9487c8d2f425752f015dd",
       "version_major": 2,
       "version_minor": 0
      },
      "text/plain": [
       "Downloading:   0%|          | 0.00/112 [00:00<?, ?B/s]"
      ]
     },
     "metadata": {},
     "output_type": "display_data"
    },
    {
     "name": "stderr",
     "output_type": "stream",
     "text": [
      "storing https://huggingface.co/chris-santiago/distilbert-base-uncased-finetuned-clinc/resolve/main/special_tokens_map.json in cache at /root/.cache/huggingface/transformers/65e5a540e3895c2d8f7e12963dbe58cb42db0cd3df461263ffb6728337b64de8.dd8bd9bfd3664b530ea4e645105f557769387b3da9f79bdb55ed556bdd80611d\n",
      "creating metadata file for /root/.cache/huggingface/transformers/65e5a540e3895c2d8f7e12963dbe58cb42db0cd3df461263ffb6728337b64de8.dd8bd9bfd3664b530ea4e645105f557769387b3da9f79bdb55ed556bdd80611d\n",
      "loading file https://huggingface.co/chris-santiago/distilbert-base-uncased-finetuned-clinc/resolve/main/vocab.txt from cache at /root/.cache/huggingface/transformers/5de4c70a1c83a67bb6b58fbea22023e464667d1d84f6020e9bfd967725cff29d.d789d64ebfe299b0e416afc4a169632f903f693095b4629a7ea271d5a0cf2c99\n",
      "loading file https://huggingface.co/chris-santiago/distilbert-base-uncased-finetuned-clinc/resolve/main/tokenizer.json from cache at /root/.cache/huggingface/transformers/afac070e3e11afb02fb532253b2fe03107b96fd5b80528be2607697592472a61.848c414913cfee271695b8761d3e947fb18a724fbad549de63228b20e5f2d615\n",
      "loading file https://huggingface.co/chris-santiago/distilbert-base-uncased-finetuned-clinc/resolve/main/added_tokens.json from cache at None\n",
      "loading file https://huggingface.co/chris-santiago/distilbert-base-uncased-finetuned-clinc/resolve/main/special_tokens_map.json from cache at /root/.cache/huggingface/transformers/65e5a540e3895c2d8f7e12963dbe58cb42db0cd3df461263ffb6728337b64de8.dd8bd9bfd3664b530ea4e645105f557769387b3da9f79bdb55ed556bdd80611d\n",
      "loading file https://huggingface.co/chris-santiago/distilbert-base-uncased-finetuned-clinc/resolve/main/tokenizer_config.json from cache at /root/.cache/huggingface/transformers/7f415105a854b874257ea9b1fd70e59180db7f85d8053ef83dc36318c586dc75.42154c5fd30bfa7e34941d0d8ad26f8a3936990926fbe06b2da76dd749b1c6d4\n"
     ]
    }
   ],
   "source": [
    "ft_ckpt = 'chris-santiago/distilbert-base-uncased-finetuned-clinc'\n",
    "pipe = pipeline('text-classification', ft_ckpt)"
   ]
  },
  {
   "cell_type": "code",
   "execution_count": 29,
   "metadata": {},
   "outputs": [
    {
     "name": "stdout",
     "output_type": "stream",
     "text": [
      "Model size (MB): 255.89\n",
      "Average latency (ms): 33.89 +/- 31.08\n"
     ]
    },
    {
     "name": "stderr",
     "output_type": "stream",
     "text": [
      "100%|██████████| 5500/5500 [02:38<00:00, 34.62it/s]"
     ]
    },
    {
     "name": "stdout",
     "output_type": "stream",
     "text": [
      "Accuracy on test set: 0.862\n"
     ]
    },
    {
     "name": "stderr",
     "output_type": "stream",
     "text": [
      "\n"
     ]
    }
   ],
   "source": [
    "optim_type = 'DistilBERT'\n",
    "pb = PerformanceBenchmark(pipe, data['test'], optim_type=optim_type)\n",
    "perf.update(pb.run(mapper=get_intents))"
   ]
  },
  {
   "cell_type": "code",
   "execution_count": 28,
   "metadata": {},
   "outputs": [
    {
     "data": {
      "text/plain": [
       "{'BERT baseline': {'size_mb': 418.1629457473755,\n",
       "  'avg_ms': 51.94768721237779,\n",
       "  'std_ms': 37.02247969711823,\n",
       "  'accuracy': 0.8672727272727273},\n",
       " 'DistilBERT': {'size_mb': 255.887375831604,\n",
       "  'avg_ms': 33.894889783114195,\n",
       "  'std_ms': 31.0773435447728,\n",
       "  'accuracy': 0.8623636363636363}}"
      ]
     },
     "execution_count": 28,
     "metadata": {},
     "output_type": "execute_result"
    }
   ],
   "source": [
    "perf"
   ]
  },
  {
   "cell_type": "code",
   "execution_count": 37,
   "metadata": {},
   "outputs": [],
   "source": [
    "dump_metrics(perf)"
   ]
  },
  {
   "cell_type": "code",
   "execution_count": 29,
   "metadata": {},
   "outputs": [],
   "source": [
    "def plot_metrics(perf_metrics, curr_optim):\n",
    "    df = pd.DataFrame.from_dict(perf_metrics, orient='index')\n",
    "    \n",
    "    for idx in df.index:\n",
    "        df_opt = df.loc[idx]\n",
    "        if idx == curr_optim:\n",
    "            plt.scatter(\n",
    "                df_opt['avg_ms'], df_opt['accuracy'] * 100, alpha=0.5, s=df_opt['size_mb'], label=idx, marker='$\\u25CC$'\n",
    "            )\n",
    "        else:\n",
    "            plt.scatter(\n",
    "                df_opt['avg_ms'], df_opt['accuracy'] * 100, alpha=0.5, s=df_opt['size_mb'], label=idx\n",
    "            )\n",
    "        \n",
    "    legend = plt.legend(bbox_to_anchor=(1,1))\n",
    "    for handle in legend.legendHandles:\n",
    "        handle.set_sizes([20])\n",
    "        \n",
    "    plt.ylim(80, 90)\n",
    "    xlim = int(perf['BERT baseline']['avg_ms'] + 3)\n",
    "    plt.xlim(1, xlim)\n",
    "    plt.ylabel('Accuracy (%)')\n",
    "    plt.xlabel('Average Latency (ms)')\n",
    "    plt.show()"
   ]
  },
  {
   "cell_type": "code",
   "execution_count": 30,
   "metadata": {},
   "outputs": [
    {
     "data": {
      "image/png": "[encoded data removed]",
      "text/plain": [
       "<Figure size 432x288 with 1 Axes>"
      ]
     },
     "metadata": {
      "needs_background": "light"
     },
     "output_type": "display_data"
    }
   ],
   "source": [
    "plot_metrics(perf, 'DistilBERT')\n"
   ]
  },
  {
   "cell_type": "markdown",
   "metadata": {
    "pycharm": {
     "name": "#%% md\n"
    }
   },
   "source": [
    "## Tuning with Optuna"
   ]
  },
  {
   "cell_type": "code",
   "execution_count": 31,
   "metadata": {},
   "outputs": [],
   "source": [
    "def hp_space(trial):\n",
    "    return {\n",
    "        'num_train_epochs': trial.suggest_int('num_train_epochs', 5, 10),\n",
    "        'alpha': trial.suggest_float('alpha', 0, 1),\n",
    "        'temp': trial.suggest_int('temp', 2, 20)\n",
    "    }"
   ]
  },
  {
   "cell_type": "code",
   "execution_count": 32,
   "metadata": {
    "collapsed": false,
    "jupyter": {
     "outputs_hidden": false
    },
    "pycharm": {
     "name": "#%%\n"
    },
    "scrolled": true,
    "tags": []
   },
   "outputs": [
    {
     "name": "stderr",
     "output_type": "stream",
     "text": [
      "\u001b[32m[I 2022-08-24 00:13:35,424]\u001b[0m A new study created in memory with name: no-name-8350eea5-f21b-4c1b-80c4-24889c5fc7da\u001b[0m\n",
      "Trial:\n",
      "loading weights file https://huggingface.co/distilbert-base-uncased/resolve/main/pytorch_model.bin from cache at /root/.cache/huggingface/transformers/9c169103d7e5a73936dd2b627e42851bec0831212b677c637033ee4bce9ab5ee.126183e36667471617ae2f0835fab707baa54b731f991507ebbb55ea85adb12a\n",
      "Some weights of the model checkpoint at distilbert-base-uncased were not used when initializing DistilBertForSequenceClassification: ['vocab_projector.weight', 'vocab_layer_norm.weight', 'vocab_transform.bias', 'vocab_transform.weight', 'vocab_projector.bias', 'vocab_layer_norm.bias']\n",
      "- This IS expected if you are initializing DistilBertForSequenceClassification from the checkpoint of a model trained on another task or with another architecture (e.g. initializing a BertForSequenceClassification model from a BertForPreTraining model).\n",
      "- This IS NOT expected if you are initializing DistilBertForSequenceClassification from the checkpoint of a model that you expect to be exactly identical (initializing a BertForSequenceClassification model from a BertForSequenceClassification model).\n",
      "Some weights of DistilBertForSequenceClassification were not initialized from the model checkpoint at distilbert-base-uncased and are newly initialized: ['pre_classifier.bias', 'classifier.weight', 'pre_classifier.weight', 'classifier.bias']\n",
      "You should probably TRAIN this model on a down-stream task to be able to use it for predictions and inference.\n",
      "/usr/local/lib/python3.9/dist-packages/transformers/optimization.py:306: FutureWarning: This implementation of AdamW is deprecated and will be removed in a future version. Use the PyTorch implementation torch.optim.AdamW instead, or set `no_deprecation_warning=True` to disable this warning\n",
      "  warnings.warn(\n",
      "***** Running training *****\n",
      "  Num examples = 15250\n",
      "  Num Epochs = 5\n",
      "  Instantaneous batch size per device = 48\n",
      "  Total train batch size (w. parallel, distributed & accumulation) = 48\n",
      "  Gradient Accumulation steps = 1\n",
      "  Total optimization steps = 1590\n"
     ]
    },
    {
     "data": {
      "text/html": [
       "\n",
       "    <div>\n",
       "      \n",
       "      <progress value='1590' max='1590' style='width:300px; height:20px; vertical-align: middle;'></progress>\n",
       "      [1590/1590 17:14, Epoch 5/5]\n",
       "    </div>\n",
       "    <table border=\"1\" class=\"dataframe\">\n",
       "  <thead>\n",
       " <tr style=\"text-align: left;\">\n",
       "      <th>Epoch</th>\n",
       "      <th>Training Loss</th>\n",
       "      <th>Validation Loss</th>\n",
       "      <th>Accuracy</th>\n",
       "    </tr>\n",
       "  </thead>\n",
       "  <tbody>\n",
       "    <tr>\n",
       "      <td>1</td>\n",
       "      <td>No log</td>\n",
       "      <td>3.266096</td>\n",
       "      <td>0.738387</td>\n",
       "    </tr>\n",
       "    <tr>\n",
       "      <td>2</td>\n",
       "      <td>3.771200</td>\n",
       "      <td>1.857105</td>\n",
       "      <td>0.830968</td>\n",
       "    </tr>\n",
       "    <tr>\n",
       "      <td>3</td>\n",
       "      <td>3.771200</td>\n",
       "      <td>1.152443</td>\n",
       "      <td>0.891935</td>\n",
       "    </tr>\n",
       "    <tr>\n",
       "      <td>4</td>\n",
       "      <td>1.677000</td>\n",
       "      <td>0.855964</td>\n",
       "      <td>0.912258</td>\n",
       "    </tr>\n",
       "    <tr>\n",
       "      <td>5</td>\n",
       "      <td>0.899600</td>\n",
       "      <td>0.773910</td>\n",
       "      <td>0.915161</td>\n",
       "    </tr>\n",
       "  </tbody>\n",
       "</table><p>"
      ],
      "text/plain": [
       "<IPython.core.display.HTML object>"
      ]
     },
     "metadata": {},
     "output_type": "display_data"
    },
    {
     "name": "stderr",
     "output_type": "stream",
     "text": [
      "***** Running Evaluation *****\n",
      "  Num examples = 3100\n",
      "  Batch size = 48\n"
     ]
    },
    {
     "data": {
      "application/vnd.jupyter.widget-view+json": {
       "model_id": "ade377446c4f49d88fb5c623fea9138d",
       "version_major": 2,
       "version_minor": 0
      },
      "text/plain": [
       "Downloading builder script:   0%|          | 0.00/1.65k [00:00<?, ?B/s]"
      ]
     },
     "metadata": {},
     "output_type": "display_data"
    },
    {
     "name": "stderr",
     "output_type": "stream",
     "text": [
      "Saving model checkpoint to distilbert-base-uncased-finetuned-clinc/run-0/checkpoint-500\n",
      "Configuration saved in distilbert-base-uncased-finetuned-clinc/run-0/checkpoint-500/config.json\n",
      "Model weights saved in distilbert-base-uncased-finetuned-clinc/run-0/checkpoint-500/pytorch_model.bin\n",
      "tokenizer config file saved in distilbert-base-uncased-finetuned-clinc/run-0/checkpoint-500/tokenizer_config.json\n",
      "Special tokens file saved in distilbert-base-uncased-finetuned-clinc/run-0/checkpoint-500/special_tokens_map.json\n",
      "tokenizer config file saved in distilbert-base-uncased-finetuned-clinc/tokenizer_config.json\n",
      "Special tokens file saved in distilbert-base-uncased-finetuned-clinc/special_tokens_map.json\n",
      "***** Running Evaluation *****\n",
      "  Num examples = 3100\n",
      "  Batch size = 48\n",
      "***** Running Evaluation *****\n",
      "  Num examples = 3100\n",
      "  Batch size = 48\n",
      "Saving model checkpoint to distilbert-base-uncased-finetuned-clinc/run-0/checkpoint-1000\n",
      "Configuration saved in distilbert-base-uncased-finetuned-clinc/run-0/checkpoint-1000/config.json\n",
      "Model weights saved in distilbert-base-uncased-finetuned-clinc/run-0/checkpoint-1000/pytorch_model.bin\n",
      "tokenizer config file saved in distilbert-base-uncased-finetuned-clinc/run-0/checkpoint-1000/tokenizer_config.json\n",
      "Special tokens file saved in distilbert-base-uncased-finetuned-clinc/run-0/checkpoint-1000/special_tokens_map.json\n",
      "tokenizer config file saved in distilbert-base-uncased-finetuned-clinc/tokenizer_config.json\n",
      "Special tokens file saved in distilbert-base-uncased-finetuned-clinc/special_tokens_map.json\n",
      "***** Running Evaluation *****\n",
      "  Num examples = 3100\n",
      "  Batch size = 48\n",
      "Saving model checkpoint to distilbert-base-uncased-finetuned-clinc/run-0/checkpoint-1500\n",
      "Configuration saved in distilbert-base-uncased-finetuned-clinc/run-0/checkpoint-1500/config.json\n",
      "Model weights saved in distilbert-base-uncased-finetuned-clinc/run-0/checkpoint-1500/pytorch_model.bin\n",
      "tokenizer config file saved in distilbert-base-uncased-finetuned-clinc/run-0/checkpoint-1500/tokenizer_config.json\n",
      "Special tokens file saved in distilbert-base-uncased-finetuned-clinc/run-0/checkpoint-1500/special_tokens_map.json\n",
      "tokenizer config file saved in distilbert-base-uncased-finetuned-clinc/tokenizer_config.json\n",
      "Special tokens file saved in distilbert-base-uncased-finetuned-clinc/special_tokens_map.json\n",
      "***** Running Evaluation *****\n",
      "  Num examples = 3100\n",
      "  Batch size = 48\n",
      "\n",
      "\n",
      "Training completed. Do not forget to share your model on huggingface.co/models =)\n",
      "\n",
      "\n",
      "\u001b[32m[I 2022-08-24 00:30:52,103]\u001b[0m Trial 0 finished with value: 0.9151612903225806 and parameters: {'num_train_epochs': 5, 'alpha': 0.30691563730997407, 'temp': 7}. Best is trial 0 with value: 0.9151612903225806.\u001b[0m\n",
      "Trial:\n",
      "loading weights file https://huggingface.co/distilbert-base-uncased/resolve/main/pytorch_model.bin from cache at /root/.cache/huggingface/transformers/9c169103d7e5a73936dd2b627e42851bec0831212b677c637033ee4bce9ab5ee.126183e36667471617ae2f0835fab707baa54b731f991507ebbb55ea85adb12a\n",
      "Some weights of the model checkpoint at distilbert-base-uncased were not used when initializing DistilBertForSequenceClassification: ['vocab_projector.weight', 'vocab_layer_norm.weight', 'vocab_transform.bias', 'vocab_transform.weight', 'vocab_projector.bias', 'vocab_layer_norm.bias']\n",
      "- This IS expected if you are initializing DistilBertForSequenceClassification from the checkpoint of a model trained on another task or with another architecture (e.g. initializing a BertForSequenceClassification model from a BertForPreTraining model).\n",
      "- This IS NOT expected if you are initializing DistilBertForSequenceClassification from the checkpoint of a model that you expect to be exactly identical (initializing a BertForSequenceClassification model from a BertForSequenceClassification model).\n",
      "Some weights of DistilBertForSequenceClassification were not initialized from the model checkpoint at distilbert-base-uncased and are newly initialized: ['pre_classifier.bias', 'classifier.weight', 'pre_classifier.weight', 'classifier.bias']\n",
      "You should probably TRAIN this model on a down-stream task to be able to use it for predictions and inference.\n",
      "/usr/local/lib/python3.9/dist-packages/transformers/optimization.py:306: FutureWarning: This implementation of AdamW is deprecated and will be removed in a future version. Use the PyTorch implementation torch.optim.AdamW instead, or set `no_deprecation_warning=True` to disable this warning\n",
      "  warnings.warn(\n",
      "***** Running training *****\n",
      "  Num examples = 15250\n",
      "  Num Epochs = 10\n",
      "  Instantaneous batch size per device = 48\n",
      "  Total train batch size (w. parallel, distributed & accumulation) = 48\n",
      "  Gradient Accumulation steps = 1\n",
      "  Total optimization steps = 3180\n"
     ]
    },
    {
     "data": {
      "text/html": [
       "\n",
       "    <div>\n",
       "      \n",
       "      <progress value='3180' max='3180' style='width:300px; height:20px; vertical-align: middle;'></progress>\n",
       "      [3180/3180 34:49, Epoch 10/10]\n",
       "    </div>\n",
       "    <table border=\"1\" class=\"dataframe\">\n",
       "  <thead>\n",
       " <tr style=\"text-align: left;\">\n",
       "      <th>Epoch</th>\n",
       "      <th>Training Loss</th>\n",
       "      <th>Validation Loss</th>\n",
       "      <th>Accuracy</th>\n",
       "    </tr>\n",
       "  </thead>\n",
       "  <tbody>\n",
       "    <tr>\n",
       "      <td>1</td>\n",
       "      <td>No log</td>\n",
       "      <td>3.162158</td>\n",
       "      <td>0.746774</td>\n",
       "    </tr>\n",
       "    <tr>\n",
       "      <td>2</td>\n",
       "      <td>3.691800</td>\n",
       "      <td>1.555480</td>\n",
       "      <td>0.856452</td>\n",
       "    </tr>\n",
       "    <tr>\n",
       "      <td>3</td>\n",
       "      <td>3.691800</td>\n",
       "      <td>0.772798</td>\n",
       "      <td>0.914194</td>\n",
       "    </tr>\n",
       "    <tr>\n",
       "      <td>4</td>\n",
       "      <td>1.325700</td>\n",
       "      <td>0.458926</td>\n",
       "      <td>0.931935</td>\n",
       "    </tr>\n",
       "    <tr>\n",
       "      <td>5</td>\n",
       "      <td>0.431000</td>\n",
       "      <td>0.335022</td>\n",
       "      <td>0.942581</td>\n",
       "    </tr>\n",
       "    <tr>\n",
       "      <td>6</td>\n",
       "      <td>0.431000</td>\n",
       "      <td>0.287883</td>\n",
       "      <td>0.940645</td>\n",
       "    </tr>\n",
       "    <tr>\n",
       "      <td>7</td>\n",
       "      <td>0.175200</td>\n",
       "      <td>0.260885</td>\n",
       "      <td>0.946452</td>\n",
       "    </tr>\n",
       "    <tr>\n",
       "      <td>8</td>\n",
       "      <td>0.089300</td>\n",
       "      <td>0.251202</td>\n",
       "      <td>0.945484</td>\n",
       "    </tr>\n",
       "    <tr>\n",
       "      <td>9</td>\n",
       "      <td>0.089300</td>\n",
       "      <td>0.248783</td>\n",
       "      <td>0.945161</td>\n",
       "    </tr>\n",
       "    <tr>\n",
       "      <td>10</td>\n",
       "      <td>0.062000</td>\n",
       "      <td>0.246867</td>\n",
       "      <td>0.945806</td>\n",
       "    </tr>\n",
       "  </tbody>\n",
       "</table><p>"
      ],
      "text/plain": [
       "<IPython.core.display.HTML object>"
      ]
     },
     "metadata": {},
     "output_type": "display_data"
    },
    {
     "name": "stderr",
     "output_type": "stream",
     "text": [
      "***** Running Evaluation *****\n",
      "  Num examples = 3100\n",
      "  Batch size = 48\n",
      "Saving model checkpoint to distilbert-base-uncased-finetuned-clinc/run-1/checkpoint-500\n",
      "Configuration saved in distilbert-base-uncased-finetuned-clinc/run-1/checkpoint-500/config.json\n",
      "Model weights saved in distilbert-base-uncased-finetuned-clinc/run-1/checkpoint-500/pytorch_model.bin\n",
      "tokenizer config file saved in distilbert-base-uncased-finetuned-clinc/run-1/checkpoint-500/tokenizer_config.json\n",
      "Special tokens file saved in distilbert-base-uncased-finetuned-clinc/run-1/checkpoint-500/special_tokens_map.json\n",
      "tokenizer config file saved in distilbert-base-uncased-finetuned-clinc/tokenizer_config.json\n",
      "Special tokens file saved in distilbert-base-uncased-finetuned-clinc/special_tokens_map.json\n",
      "***** Running Evaluation *****\n",
      "  Num examples = 3100\n",
      "  Batch size = 48\n",
      "***** Running Evaluation *****\n",
      "  Num examples = 3100\n",
      "  Batch size = 48\n",
      "Saving model checkpoint to distilbert-base-uncased-finetuned-clinc/run-1/checkpoint-1000\n",
      "Configuration saved in distilbert-base-uncased-finetuned-clinc/run-1/checkpoint-1000/config.json\n",
      "Model weights saved in distilbert-base-uncased-finetuned-clinc/run-1/checkpoint-1000/pytorch_model.bin\n",
      "tokenizer config file saved in distilbert-base-uncased-finetuned-clinc/run-1/checkpoint-1000/tokenizer_config.json\n",
      "Special tokens file saved in distilbert-base-uncased-finetuned-clinc/run-1/checkpoint-1000/special_tokens_map.json\n",
      "tokenizer config file saved in distilbert-base-uncased-finetuned-clinc/tokenizer_config.json\n",
      "Special tokens file saved in distilbert-base-uncased-finetuned-clinc/special_tokens_map.json\n",
      "***** Running Evaluation *****\n",
      "  Num examples = 3100\n",
      "  Batch size = 48\n",
      "Saving model checkpoint to distilbert-base-uncased-finetuned-clinc/run-1/checkpoint-1500\n",
      "Configuration saved in distilbert-base-uncased-finetuned-clinc/run-1/checkpoint-1500/config.json\n",
      "Model weights saved in distilbert-base-uncased-finetuned-clinc/run-1/checkpoint-1500/pytorch_model.bin\n",
      "tokenizer config file saved in distilbert-base-uncased-finetuned-clinc/run-1/checkpoint-1500/tokenizer_config.json\n",
      "Special tokens file saved in distilbert-base-uncased-finetuned-clinc/run-1/checkpoint-1500/special_tokens_map.json\n",
      "tokenizer config file saved in distilbert-base-uncased-finetuned-clinc/tokenizer_config.json\n",
      "Special tokens file saved in distilbert-base-uncased-finetuned-clinc/special_tokens_map.json\n",
      "***** Running Evaluation *****\n",
      "  Num examples = 3100\n",
      "  Batch size = 48\n",
      "***** Running Evaluation *****\n",
      "  Num examples = 3100\n",
      "  Batch size = 48\n",
      "Saving model checkpoint to distilbert-base-uncased-finetuned-clinc/run-1/checkpoint-2000\n",
      "Configuration saved in distilbert-base-uncased-finetuned-clinc/run-1/checkpoint-2000/config.json\n",
      "Model weights saved in distilbert-base-uncased-finetuned-clinc/run-1/checkpoint-2000/pytorch_model.bin\n",
      "tokenizer config file saved in distilbert-base-uncased-finetuned-clinc/run-1/checkpoint-2000/tokenizer_config.json\n",
      "Special tokens file saved in distilbert-base-uncased-finetuned-clinc/run-1/checkpoint-2000/special_tokens_map.json\n",
      "tokenizer config file saved in distilbert-base-uncased-finetuned-clinc/tokenizer_config.json\n",
      "Special tokens file saved in distilbert-base-uncased-finetuned-clinc/special_tokens_map.json\n",
      "***** Running Evaluation *****\n",
      "  Num examples = 3100\n",
      "  Batch size = 48\n",
      "Saving model checkpoint to distilbert-base-uncased-finetuned-clinc/run-1/checkpoint-2500\n",
      "Configuration saved in distilbert-base-uncased-finetuned-clinc/run-1/checkpoint-2500/config.json\n",
      "Model weights saved in distilbert-base-uncased-finetuned-clinc/run-1/checkpoint-2500/pytorch_model.bin\n",
      "tokenizer config file saved in distilbert-base-uncased-finetuned-clinc/run-1/checkpoint-2500/tokenizer_config.json\n",
      "Special tokens file saved in distilbert-base-uncased-finetuned-clinc/run-1/checkpoint-2500/special_tokens_map.json\n",
      "tokenizer config file saved in distilbert-base-uncased-finetuned-clinc/tokenizer_config.json\n",
      "Special tokens file saved in distilbert-base-uncased-finetuned-clinc/special_tokens_map.json\n",
      "***** Running Evaluation *****\n",
      "  Num examples = 3100\n",
      "  Batch size = 48\n",
      "***** Running Evaluation *****\n",
      "  Num examples = 3100\n",
      "  Batch size = 48\n",
      "Saving model checkpoint to distilbert-base-uncased-finetuned-clinc/run-1/checkpoint-3000\n",
      "Configuration saved in distilbert-base-uncased-finetuned-clinc/run-1/checkpoint-3000/config.json\n",
      "Model weights saved in distilbert-base-uncased-finetuned-clinc/run-1/checkpoint-3000/pytorch_model.bin\n",
      "tokenizer config file saved in distilbert-base-uncased-finetuned-clinc/run-1/checkpoint-3000/tokenizer_config.json\n",
      "Special tokens file saved in distilbert-base-uncased-finetuned-clinc/run-1/checkpoint-3000/special_tokens_map.json\n",
      "tokenizer config file saved in distilbert-base-uncased-finetuned-clinc/tokenizer_config.json\n",
      "Special tokens file saved in distilbert-base-uncased-finetuned-clinc/special_tokens_map.json\n",
      "***** Running Evaluation *****\n",
      "  Num examples = 3100\n",
      "  Batch size = 48\n",
      "\n",
      "\n",
      "Training completed. Do not forget to share your model on huggingface.co/models =)\n",
      "\n",
      "\n",
      "\u001b[32m[I 2022-08-24 01:05:42,920]\u001b[0m Trial 1 finished with value: 0.9458064516129032 and parameters: {'num_train_epochs': 10, 'alpha': 0.1284172471968621, 'temp': 14}. Best is trial 1 with value: 0.9458064516129032.\u001b[0m\n",
      "Trial:\n",
      "loading weights file https://huggingface.co/distilbert-base-uncased/resolve/main/pytorch_model.bin from cache at /root/.cache/huggingface/transformers/9c169103d7e5a73936dd2b627e42851bec0831212b677c637033ee4bce9ab5ee.126183e36667471617ae2f0835fab707baa54b731f991507ebbb55ea85adb12a\n",
      "Some weights of the model checkpoint at distilbert-base-uncased were not used when initializing DistilBertForSequenceClassification: ['vocab_projector.weight', 'vocab_layer_norm.weight', 'vocab_transform.bias', 'vocab_transform.weight', 'vocab_projector.bias', 'vocab_layer_norm.bias']\n",
      "- This IS expected if you are initializing DistilBertForSequenceClassification from the checkpoint of a model trained on another task or with another architecture (e.g. initializing a BertForSequenceClassification model from a BertForPreTraining model).\n",
      "- This IS NOT expected if you are initializing DistilBertForSequenceClassification from the checkpoint of a model that you expect to be exactly identical (initializing a BertForSequenceClassification model from a BertForSequenceClassification model).\n",
      "Some weights of DistilBertForSequenceClassification were not initialized from the model checkpoint at distilbert-base-uncased and are newly initialized: ['pre_classifier.bias', 'classifier.weight', 'pre_classifier.weight', 'classifier.bias']\n",
      "You should probably TRAIN this model on a down-stream task to be able to use it for predictions and inference.\n",
      "/usr/local/lib/python3.9/dist-packages/transformers/optimization.py:306: FutureWarning: This implementation of AdamW is deprecated and will be removed in a future version. Use the PyTorch implementation torch.optim.AdamW instead, or set `no_deprecation_warning=True` to disable this warning\n",
      "  warnings.warn(\n",
      "***** Running training *****\n",
      "  Num examples = 15250\n",
      "  Num Epochs = 9\n",
      "  Instantaneous batch size per device = 48\n",
      "  Total train batch size (w. parallel, distributed & accumulation) = 48\n",
      "  Gradient Accumulation steps = 1\n",
      "  Total optimization steps = 2862\n"
     ]
    },
    {
     "data": {
      "text/html": [
       "\n",
       "    <div>\n",
       "      \n",
       "      <progress value='2862' max='2862' style='width:300px; height:20px; vertical-align: middle;'></progress>\n",
       "      [2862/2862 29:43, Epoch 9/9]\n",
       "    </div>\n",
       "    <table border=\"1\" class=\"dataframe\">\n",
       "  <thead>\n",
       " <tr style=\"text-align: left;\">\n",
       "      <th>Epoch</th>\n",
       "      <th>Training Loss</th>\n",
       "      <th>Validation Loss</th>\n",
       "      <th>Accuracy</th>\n",
       "    </tr>\n",
       "  </thead>\n",
       "  <tbody>\n",
       "    <tr>\n",
       "      <td>1</td>\n",
       "      <td>No log</td>\n",
       "      <td>3.171567</td>\n",
       "      <td>0.747097</td>\n",
       "    </tr>\n",
       "    <tr>\n",
       "      <td>2</td>\n",
       "      <td>3.699000</td>\n",
       "      <td>1.586268</td>\n",
       "      <td>0.855484</td>\n",
       "    </tr>\n",
       "    <tr>\n",
       "      <td>3</td>\n",
       "      <td>3.699000</td>\n",
       "      <td>0.805687</td>\n",
       "      <td>0.911935</td>\n",
       "    </tr>\n",
       "    <tr>\n",
       "      <td>4</td>\n",
       "      <td>1.359300</td>\n",
       "      <td>0.485805</td>\n",
       "      <td>0.930000</td>\n",
       "    </tr>\n",
       "    <tr>\n",
       "      <td>5</td>\n",
       "      <td>0.464600</td>\n",
       "      <td>0.356274</td>\n",
       "      <td>0.939355</td>\n",
       "    </tr>\n",
       "    <tr>\n",
       "      <td>6</td>\n",
       "      <td>0.464600</td>\n",
       "      <td>0.303909</td>\n",
       "      <td>0.939032</td>\n",
       "    </tr>\n",
       "    <tr>\n",
       "      <td>7</td>\n",
       "      <td>0.202500</td>\n",
       "      <td>0.274777</td>\n",
       "      <td>0.943871</td>\n",
       "    </tr>\n",
       "    <tr>\n",
       "      <td>8</td>\n",
       "      <td>0.113100</td>\n",
       "      <td>0.264460</td>\n",
       "      <td>0.942258</td>\n",
       "    </tr>\n",
       "    <tr>\n",
       "      <td>9</td>\n",
       "      <td>0.113100</td>\n",
       "      <td>0.261513</td>\n",
       "      <td>0.944516</td>\n",
       "    </tr>\n",
       "  </tbody>\n",
       "</table><p>"
      ],
      "text/plain": [
       "<IPython.core.display.HTML object>"
      ]
     },
     "metadata": {},
     "output_type": "display_data"
    },
    {
     "name": "stderr",
     "output_type": "stream",
     "text": [
      "***** Running Evaluation *****\n",
      "  Num examples = 3100\n",
      "  Batch size = 48\n",
      "Saving model checkpoint to distilbert-base-uncased-finetuned-clinc/run-2/checkpoint-500\n",
      "Configuration saved in distilbert-base-uncased-finetuned-clinc/run-2/checkpoint-500/config.json\n",
      "Model weights saved in distilbert-base-uncased-finetuned-clinc/run-2/checkpoint-500/pytorch_model.bin\n",
      "tokenizer config file saved in distilbert-base-uncased-finetuned-clinc/run-2/checkpoint-500/tokenizer_config.json\n",
      "Special tokens file saved in distilbert-base-uncased-finetuned-clinc/run-2/checkpoint-500/special_tokens_map.json\n",
      "tokenizer config file saved in distilbert-base-uncased-finetuned-clinc/tokenizer_config.json\n",
      "Special tokens file saved in distilbert-base-uncased-finetuned-clinc/special_tokens_map.json\n",
      "***** Running Evaluation *****\n",
      "  Num examples = 3100\n",
      "  Batch size = 48\n",
      "***** Running Evaluation *****\n",
      "  Num examples = 3100\n",
      "  Batch size = 48\n",
      "Saving model checkpoint to distilbert-base-uncased-finetuned-clinc/run-2/checkpoint-1000\n",
      "Configuration saved in distilbert-base-uncased-finetuned-clinc/run-2/checkpoint-1000/config.json\n",
      "Model weights saved in distilbert-base-uncased-finetuned-clinc/run-2/checkpoint-1000/pytorch_model.bin\n",
      "tokenizer config file saved in distilbert-base-uncased-finetuned-clinc/run-2/checkpoint-1000/tokenizer_config.json\n",
      "Special tokens file saved in distilbert-base-uncased-finetuned-clinc/run-2/checkpoint-1000/special_tokens_map.json\n",
      "tokenizer config file saved in distilbert-base-uncased-finetuned-clinc/tokenizer_config.json\n",
      "Special tokens file saved in distilbert-base-uncased-finetuned-clinc/special_tokens_map.json\n",
      "***** Running Evaluation *****\n",
      "  Num examples = 3100\n",
      "  Batch size = 48\n",
      "Saving model checkpoint to distilbert-base-uncased-finetuned-clinc/run-2/checkpoint-1500\n",
      "Configuration saved in distilbert-base-uncased-finetuned-clinc/run-2/checkpoint-1500/config.json\n",
      "Model weights saved in distilbert-base-uncased-finetuned-clinc/run-2/checkpoint-1500/pytorch_model.bin\n",
      "tokenizer config file saved in distilbert-base-uncased-finetuned-clinc/run-2/checkpoint-1500/tokenizer_config.json\n",
      "Special tokens file saved in distilbert-base-uncased-finetuned-clinc/run-2/checkpoint-1500/special_tokens_map.json\n",
      "tokenizer config file saved in distilbert-base-uncased-finetuned-clinc/tokenizer_config.json\n",
      "Special tokens file saved in distilbert-base-uncased-finetuned-clinc/special_tokens_map.json\n",
      "***** Running Evaluation *****\n",
      "  Num examples = 3100\n",
      "  Batch size = 48\n",
      "***** Running Evaluation *****\n",
      "  Num examples = 3100\n",
      "  Batch size = 48\n",
      "Saving model checkpoint to distilbert-base-uncased-finetuned-clinc/run-2/checkpoint-2000\n",
      "Configuration saved in distilbert-base-uncased-finetuned-clinc/run-2/checkpoint-2000/config.json\n",
      "Model weights saved in distilbert-base-uncased-finetuned-clinc/run-2/checkpoint-2000/pytorch_model.bin\n",
      "tokenizer config file saved in distilbert-base-uncased-finetuned-clinc/run-2/checkpoint-2000/tokenizer_config.json\n",
      "Special tokens file saved in distilbert-base-uncased-finetuned-clinc/run-2/checkpoint-2000/special_tokens_map.json\n",
      "tokenizer config file saved in distilbert-base-uncased-finetuned-clinc/tokenizer_config.json\n",
      "Special tokens file saved in distilbert-base-uncased-finetuned-clinc/special_tokens_map.json\n",
      "***** Running Evaluation *****\n",
      "  Num examples = 3100\n",
      "  Batch size = 48\n",
      "Saving model checkpoint to distilbert-base-uncased-finetuned-clinc/run-2/checkpoint-2500\n",
      "Configuration saved in distilbert-base-uncased-finetuned-clinc/run-2/checkpoint-2500/config.json\n",
      "Model weights saved in distilbert-base-uncased-finetuned-clinc/run-2/checkpoint-2500/pytorch_model.bin\n",
      "tokenizer config file saved in distilbert-base-uncased-finetuned-clinc/run-2/checkpoint-2500/tokenizer_config.json\n",
      "Special tokens file saved in distilbert-base-uncased-finetuned-clinc/run-2/checkpoint-2500/special_tokens_map.json\n",
      "tokenizer config file saved in distilbert-base-uncased-finetuned-clinc/tokenizer_config.json\n",
      "Special tokens file saved in distilbert-base-uncased-finetuned-clinc/special_tokens_map.json\n",
      "***** Running Evaluation *****\n",
      "  Num examples = 3100\n",
      "  Batch size = 48\n",
      "***** Running Evaluation *****\n",
      "  Num examples = 3100\n",
      "  Batch size = 48\n",
      "\n",
      "\n",
      "Training completed. Do not forget to share your model on huggingface.co/models =)\n",
      "\n",
      "\n",
      "\u001b[32m[I 2022-08-24 01:35:28,052]\u001b[0m Trial 2 finished with value: 0.944516129032258 and parameters: {'num_train_epochs': 9, 'alpha': 0.5683548325256869, 'temp': 11}. Best is trial 1 with value: 0.9458064516129032.\u001b[0m\n",
      "Trial:\n",
      "loading weights file https://huggingface.co/distilbert-base-uncased/resolve/main/pytorch_model.bin from cache at /root/.cache/huggingface/transformers/9c169103d7e5a73936dd2b627e42851bec0831212b677c637033ee4bce9ab5ee.126183e36667471617ae2f0835fab707baa54b731f991507ebbb55ea85adb12a\n",
      "Some weights of the model checkpoint at distilbert-base-uncased were not used when initializing DistilBertForSequenceClassification: ['vocab_projector.weight', 'vocab_layer_norm.weight', 'vocab_transform.bias', 'vocab_transform.weight', 'vocab_projector.bias', 'vocab_layer_norm.bias']\n",
      "- This IS expected if you are initializing DistilBertForSequenceClassification from the checkpoint of a model trained on another task or with another architecture (e.g. initializing a BertForSequenceClassification model from a BertForPreTraining model).\n",
      "- This IS NOT expected if you are initializing DistilBertForSequenceClassification from the checkpoint of a model that you expect to be exactly identical (initializing a BertForSequenceClassification model from a BertForSequenceClassification model).\n",
      "Some weights of DistilBertForSequenceClassification were not initialized from the model checkpoint at distilbert-base-uncased and are newly initialized: ['pre_classifier.bias', 'classifier.weight', 'pre_classifier.weight', 'classifier.bias']\n",
      "You should probably TRAIN this model on a down-stream task to be able to use it for predictions and inference.\n",
      "/usr/local/lib/python3.9/dist-packages/transformers/optimization.py:306: FutureWarning: This implementation of AdamW is deprecated and will be removed in a future version. Use the PyTorch implementation torch.optim.AdamW instead, or set `no_deprecation_warning=True` to disable this warning\n",
      "  warnings.warn(\n",
      "***** Running training *****\n",
      "  Num examples = 15250\n",
      "  Num Epochs = 8\n",
      "  Instantaneous batch size per device = 48\n",
      "  Total train batch size (w. parallel, distributed & accumulation) = 48\n",
      "  Gradient Accumulation steps = 1\n",
      "  Total optimization steps = 2544\n"
     ]
    },
    {
     "data": {
      "text/html": [
       "\n",
       "    <div>\n",
       "      \n",
       "      <progress value='2544' max='2544' style='width:300px; height:20px; vertical-align: middle;'></progress>\n",
       "      [2544/2544 29:41, Epoch 8/8]\n",
       "    </div>\n",
       "    <table border=\"1\" class=\"dataframe\">\n",
       "  <thead>\n",
       " <tr style=\"text-align: left;\">\n",
       "      <th>Epoch</th>\n",
       "      <th>Training Loss</th>\n",
       "      <th>Validation Loss</th>\n",
       "      <th>Accuracy</th>\n",
       "    </tr>\n",
       "  </thead>\n",
       "  <tbody>\n",
       "    <tr>\n",
       "      <td>1</td>\n",
       "      <td>No log</td>\n",
       "      <td>3.188062</td>\n",
       "      <td>0.744194</td>\n",
       "    </tr>\n",
       "    <tr>\n",
       "      <td>2</td>\n",
       "      <td>3.711300</td>\n",
       "      <td>1.628678</td>\n",
       "      <td>0.852258</td>\n",
       "    </tr>\n",
       "    <tr>\n",
       "      <td>3</td>\n",
       "      <td>3.711300</td>\n",
       "      <td>0.851679</td>\n",
       "      <td>0.909355</td>\n",
       "    </tr>\n",
       "    <tr>\n",
       "      <td>4</td>\n",
       "      <td>1.406800</td>\n",
       "      <td>0.524400</td>\n",
       "      <td>0.928065</td>\n",
       "    </tr>\n",
       "    <tr>\n",
       "      <td>5</td>\n",
       "      <td>0.513900</td>\n",
       "      <td>0.388492</td>\n",
       "      <td>0.935806</td>\n",
       "    </tr>\n",
       "    <tr>\n",
       "      <td>6</td>\n",
       "      <td>0.513900</td>\n",
       "      <td>0.331550</td>\n",
       "      <td>0.938387</td>\n",
       "    </tr>\n",
       "    <tr>\n",
       "      <td>7</td>\n",
       "      <td>0.245600</td>\n",
       "      <td>0.302341</td>\n",
       "      <td>0.940000</td>\n",
       "    </tr>\n",
       "    <tr>\n",
       "      <td>8</td>\n",
       "      <td>0.157700</td>\n",
       "      <td>0.296364</td>\n",
       "      <td>0.940323</td>\n",
       "    </tr>\n",
       "  </tbody>\n",
       "</table><p>"
      ],
      "text/plain": [
       "<IPython.core.display.HTML object>"
      ]
     },
     "metadata": {},
     "output_type": "display_data"
    },
    {
     "name": "stderr",
     "output_type": "stream",
     "text": [
      "***** Running Evaluation *****\n",
      "  Num examples = 3100\n",
      "  Batch size = 48\n",
      "Saving model checkpoint to distilbert-base-uncased-finetuned-clinc/run-3/checkpoint-500\n",
      "Configuration saved in distilbert-base-uncased-finetuned-clinc/run-3/checkpoint-500/config.json\n",
      "Model weights saved in distilbert-base-uncased-finetuned-clinc/run-3/checkpoint-500/pytorch_model.bin\n",
      "tokenizer config file saved in distilbert-base-uncased-finetuned-clinc/run-3/checkpoint-500/tokenizer_config.json\n",
      "Special tokens file saved in distilbert-base-uncased-finetuned-clinc/run-3/checkpoint-500/special_tokens_map.json\n",
      "tokenizer config file saved in distilbert-base-uncased-finetuned-clinc/tokenizer_config.json\n",
      "Special tokens file saved in distilbert-base-uncased-finetuned-clinc/special_tokens_map.json\n",
      "***** Running Evaluation *****\n",
      "  Num examples = 3100\n",
      "  Batch size = 48\n",
      "***** Running Evaluation *****\n",
      "  Num examples = 3100\n",
      "  Batch size = 48\n",
      "Saving model checkpoint to distilbert-base-uncased-finetuned-clinc/run-3/checkpoint-1000\n",
      "Configuration saved in distilbert-base-uncased-finetuned-clinc/run-3/checkpoint-1000/config.json\n",
      "Model weights saved in distilbert-base-uncased-finetuned-clinc/run-3/checkpoint-1000/pytorch_model.bin\n",
      "tokenizer config file saved in distilbert-base-uncased-finetuned-clinc/run-3/checkpoint-1000/tokenizer_config.json\n",
      "Special tokens file saved in distilbert-base-uncased-finetuned-clinc/run-3/checkpoint-1000/special_tokens_map.json\n",
      "tokenizer config file saved in distilbert-base-uncased-finetuned-clinc/tokenizer_config.json\n",
      "Special tokens file saved in distilbert-base-uncased-finetuned-clinc/special_tokens_map.json\n",
      "***** Running Evaluation *****\n",
      "  Num examples = 3100\n",
      "  Batch size = 48\n",
      "Saving model checkpoint to distilbert-base-uncased-finetuned-clinc/run-3/checkpoint-1500\n",
      "Configuration saved in distilbert-base-uncased-finetuned-clinc/run-3/checkpoint-1500/config.json\n",
      "Model weights saved in distilbert-base-uncased-finetuned-clinc/run-3/checkpoint-1500/pytorch_model.bin\n",
      "tokenizer config file saved in distilbert-base-uncased-finetuned-clinc/run-3/checkpoint-1500/tokenizer_config.json\n",
      "Special tokens file saved in distilbert-base-uncased-finetuned-clinc/run-3/checkpoint-1500/special_tokens_map.json\n",
      "tokenizer config file saved in distilbert-base-uncased-finetuned-clinc/tokenizer_config.json\n",
      "Special tokens file saved in distilbert-base-uncased-finetuned-clinc/special_tokens_map.json\n",
      "***** Running Evaluation *****\n",
      "  Num examples = 3100\n",
      "  Batch size = 48\n",
      "***** Running Evaluation *****\n",
      "  Num examples = 3100\n",
      "  Batch size = 48\n",
      "Saving model checkpoint to distilbert-base-uncased-finetuned-clinc/run-3/checkpoint-2000\n",
      "Configuration saved in distilbert-base-uncased-finetuned-clinc/run-3/checkpoint-2000/config.json\n",
      "Model weights saved in distilbert-base-uncased-finetuned-clinc/run-3/checkpoint-2000/pytorch_model.bin\n",
      "tokenizer config file saved in distilbert-base-uncased-finetuned-clinc/run-3/checkpoint-2000/tokenizer_config.json\n",
      "Special tokens file saved in distilbert-base-uncased-finetuned-clinc/run-3/checkpoint-2000/special_tokens_map.json\n",
      "tokenizer config file saved in distilbert-base-uncased-finetuned-clinc/tokenizer_config.json\n",
      "Special tokens file saved in distilbert-base-uncased-finetuned-clinc/special_tokens_map.json\n",
      "***** Running Evaluation *****\n",
      "  Num examples = 3100\n",
      "  Batch size = 48\n",
      "Saving model checkpoint to distilbert-base-uncased-finetuned-clinc/run-3/checkpoint-2500\n",
      "Configuration saved in distilbert-base-uncased-finetuned-clinc/run-3/checkpoint-2500/config.json\n",
      "Model weights saved in distilbert-base-uncased-finetuned-clinc/run-3/checkpoint-2500/pytorch_model.bin\n",
      "tokenizer config file saved in distilbert-base-uncased-finetuned-clinc/run-3/checkpoint-2500/tokenizer_config.json\n",
      "Special tokens file saved in distilbert-base-uncased-finetuned-clinc/run-3/checkpoint-2500/special_tokens_map.json\n",
      "tokenizer config file saved in distilbert-base-uncased-finetuned-clinc/tokenizer_config.json\n",
      "Special tokens file saved in distilbert-base-uncased-finetuned-clinc/special_tokens_map.json\n",
      "***** Running Evaluation *****\n",
      "  Num examples = 3100\n",
      "  Batch size = 48\n",
      "\n",
      "\n",
      "Training completed. Do not forget to share your model on huggingface.co/models =)\n",
      "\n",
      "\n",
      "\u001b[32m[I 2022-08-24 02:05:11,170]\u001b[0m Trial 3 finished with value: 0.9403225806451613 and parameters: {'num_train_epochs': 8, 'alpha': 0.9360098405174396, 'temp': 20}. Best is trial 1 with value: 0.9458064516129032.\u001b[0m\n",
      "Trial:\n",
      "loading weights file https://huggingface.co/distilbert-base-uncased/resolve/main/pytorch_model.bin from cache at /root/.cache/huggingface/transformers/9c169103d7e5a73936dd2b627e42851bec0831212b677c637033ee4bce9ab5ee.126183e36667471617ae2f0835fab707baa54b731f991507ebbb55ea85adb12a\n",
      "Some weights of the model checkpoint at distilbert-base-uncased were not used when initializing DistilBertForSequenceClassification: ['vocab_projector.weight', 'vocab_layer_norm.weight', 'vocab_transform.bias', 'vocab_transform.weight', 'vocab_projector.bias', 'vocab_layer_norm.bias']\n",
      "- This IS expected if you are initializing DistilBertForSequenceClassification from the checkpoint of a model trained on another task or with another architecture (e.g. initializing a BertForSequenceClassification model from a BertForPreTraining model).\n",
      "- This IS NOT expected if you are initializing DistilBertForSequenceClassification from the checkpoint of a model that you expect to be exactly identical (initializing a BertForSequenceClassification model from a BertForSequenceClassification model).\n",
      "Some weights of DistilBertForSequenceClassification were not initialized from the model checkpoint at distilbert-base-uncased and are newly initialized: ['pre_classifier.bias', 'classifier.weight', 'pre_classifier.weight', 'classifier.bias']\n",
      "You should probably TRAIN this model on a down-stream task to be able to use it for predictions and inference.\n",
      "/usr/local/lib/python3.9/dist-packages/transformers/optimization.py:306: FutureWarning: This implementation of AdamW is deprecated and will be removed in a future version. Use the PyTorch implementation torch.optim.AdamW instead, or set `no_deprecation_warning=True` to disable this warning\n",
      "  warnings.warn(\n",
      "***** Running training *****\n",
      "  Num examples = 15250\n",
      "  Num Epochs = 7\n",
      "  Instantaneous batch size per device = 48\n",
      "  Total train batch size (w. parallel, distributed & accumulation) = 48\n",
      "  Gradient Accumulation steps = 1\n",
      "  Total optimization steps = 2226\n"
     ]
    },
    {
     "data": {
      "text/html": [
       "\n",
       "    <div>\n",
       "      \n",
       "      <progress value='2226' max='2226' style='width:300px; height:20px; vertical-align: middle;'></progress>\n",
       "      [2226/2226 24:06, Epoch 7/7]\n",
       "    </div>\n",
       "    <table border=\"1\" class=\"dataframe\">\n",
       "  <thead>\n",
       " <tr style=\"text-align: left;\">\n",
       "      <th>Epoch</th>\n",
       "      <th>Training Loss</th>\n",
       "      <th>Validation Loss</th>\n",
       "      <th>Accuracy</th>\n",
       "    </tr>\n",
       "  </thead>\n",
       "  <tbody>\n",
       "    <tr>\n",
       "      <td>1</td>\n",
       "      <td>No log</td>\n",
       "      <td>3.204882</td>\n",
       "      <td>0.744516</td>\n",
       "    </tr>\n",
       "    <tr>\n",
       "      <td>2</td>\n",
       "      <td>3.724200</td>\n",
       "      <td>1.677219</td>\n",
       "      <td>0.848065</td>\n",
       "    </tr>\n",
       "    <tr>\n",
       "      <td>3</td>\n",
       "      <td>3.724200</td>\n",
       "      <td>0.910575</td>\n",
       "      <td>0.905806</td>\n",
       "    </tr>\n",
       "    <tr>\n",
       "      <td>4</td>\n",
       "      <td>1.462600</td>\n",
       "      <td>0.580860</td>\n",
       "      <td>0.923548</td>\n",
       "    </tr>\n",
       "    <tr>\n",
       "      <td>5</td>\n",
       "      <td>0.582100</td>\n",
       "      <td>0.441618</td>\n",
       "      <td>0.933871</td>\n",
       "    </tr>\n",
       "    <tr>\n",
       "      <td>6</td>\n",
       "      <td>0.582100</td>\n",
       "      <td>0.383674</td>\n",
       "      <td>0.935161</td>\n",
       "    </tr>\n",
       "    <tr>\n",
       "      <td>7</td>\n",
       "      <td>0.317000</td>\n",
       "      <td>0.365522</td>\n",
       "      <td>0.936774</td>\n",
       "    </tr>\n",
       "  </tbody>\n",
       "</table><p>"
      ],
      "text/plain": [
       "<IPython.core.display.HTML object>"
      ]
     },
     "metadata": {},
     "output_type": "display_data"
    },
    {
     "name": "stderr",
     "output_type": "stream",
     "text": [
      "***** Running Evaluation *****\n",
      "  Num examples = 3100\n",
      "  Batch size = 48\n",
      "Saving model checkpoint to distilbert-base-uncased-finetuned-clinc/run-4/checkpoint-500\n",
      "Configuration saved in distilbert-base-uncased-finetuned-clinc/run-4/checkpoint-500/config.json\n",
      "Model weights saved in distilbert-base-uncased-finetuned-clinc/run-4/checkpoint-500/pytorch_model.bin\n",
      "tokenizer config file saved in distilbert-base-uncased-finetuned-clinc/run-4/checkpoint-500/tokenizer_config.json\n",
      "Special tokens file saved in distilbert-base-uncased-finetuned-clinc/run-4/checkpoint-500/special_tokens_map.json\n",
      "tokenizer config file saved in distilbert-base-uncased-finetuned-clinc/tokenizer_config.json\n",
      "Special tokens file saved in distilbert-base-uncased-finetuned-clinc/special_tokens_map.json\n",
      "***** Running Evaluation *****\n",
      "  Num examples = 3100\n",
      "  Batch size = 48\n",
      "***** Running Evaluation *****\n",
      "  Num examples = 3100\n",
      "  Batch size = 48\n",
      "Saving model checkpoint to distilbert-base-uncased-finetuned-clinc/run-4/checkpoint-1000\n",
      "Configuration saved in distilbert-base-uncased-finetuned-clinc/run-4/checkpoint-1000/config.json\n",
      "Model weights saved in distilbert-base-uncased-finetuned-clinc/run-4/checkpoint-1000/pytorch_model.bin\n",
      "tokenizer config file saved in distilbert-base-uncased-finetuned-clinc/run-4/checkpoint-1000/tokenizer_config.json\n",
      "Special tokens file saved in distilbert-base-uncased-finetuned-clinc/run-4/checkpoint-1000/special_tokens_map.json\n",
      "tokenizer config file saved in distilbert-base-uncased-finetuned-clinc/tokenizer_config.json\n",
      "Special tokens file saved in distilbert-base-uncased-finetuned-clinc/special_tokens_map.json\n",
      "***** Running Evaluation *****\n",
      "  Num examples = 3100\n",
      "  Batch size = 48\n",
      "Saving model checkpoint to distilbert-base-uncased-finetuned-clinc/run-4/checkpoint-1500\n",
      "Configuration saved in distilbert-base-uncased-finetuned-clinc/run-4/checkpoint-1500/config.json\n",
      "Model weights saved in distilbert-base-uncased-finetuned-clinc/run-4/checkpoint-1500/pytorch_model.bin\n",
      "tokenizer config file saved in distilbert-base-uncased-finetuned-clinc/run-4/checkpoint-1500/tokenizer_config.json\n",
      "Special tokens file saved in distilbert-base-uncased-finetuned-clinc/run-4/checkpoint-1500/special_tokens_map.json\n",
      "tokenizer config file saved in distilbert-base-uncased-finetuned-clinc/tokenizer_config.json\n",
      "Special tokens file saved in distilbert-base-uncased-finetuned-clinc/special_tokens_map.json\n",
      "***** Running Evaluation *****\n",
      "  Num examples = 3100\n",
      "  Batch size = 48\n",
      "***** Running Evaluation *****\n",
      "  Num examples = 3100\n",
      "  Batch size = 48\n",
      "Saving model checkpoint to distilbert-base-uncased-finetuned-clinc/run-4/checkpoint-2000\n",
      "Configuration saved in distilbert-base-uncased-finetuned-clinc/run-4/checkpoint-2000/config.json\n",
      "Model weights saved in distilbert-base-uncased-finetuned-clinc/run-4/checkpoint-2000/pytorch_model.bin\n",
      "tokenizer config file saved in distilbert-base-uncased-finetuned-clinc/run-4/checkpoint-2000/tokenizer_config.json\n",
      "Special tokens file saved in distilbert-base-uncased-finetuned-clinc/run-4/checkpoint-2000/special_tokens_map.json\n",
      "tokenizer config file saved in distilbert-base-uncased-finetuned-clinc/tokenizer_config.json\n",
      "Special tokens file saved in distilbert-base-uncased-finetuned-clinc/special_tokens_map.json\n",
      "***** Running Evaluation *****\n",
      "  Num examples = 3100\n",
      "  Batch size = 48\n",
      "\n",
      "\n",
      "Training completed. Do not forget to share your model on huggingface.co/models =)\n",
      "\n",
      "\n",
      "\u001b[32m[I 2022-08-24 02:29:19,201]\u001b[0m Trial 4 finished with value: 0.9367741935483871 and parameters: {'num_train_epochs': 7, 'alpha': 0.1976003959683782, 'temp': 3}. Best is trial 1 with value: 0.9458064516129032.\u001b[0m\n"
     ]
    }
   ],
   "source": [
    "best_run = distilbert_trainer.hyperparameter_search(\n",
    "    n_trials=5,\n",
    "    direction='maximize',\n",
    "    hp_space=hp_space\n",
    ")"
   ]
  },
  {
   "cell_type": "code",
   "execution_count": 33,
   "metadata": {
    "collapsed": false,
    "jupyter": {
     "outputs_hidden": false
    },
    "pycharm": {
     "name": "#%%\n"
    }
   },
   "outputs": [
    {
     "name": "stdout",
     "output_type": "stream",
     "text": [
      "BestRun(run_id='1', objective=0.9458064516129032, hyperparameters={'num_train_epochs': 10, 'alpha': 0.1284172471968621, 'temp': 14})\n"
     ]
    }
   ],
   "source": [
    "print(best_run)"
   ]
  },
  {
   "cell_type": "code",
   "execution_count": 34,
   "metadata": {
    "collapsed": false,
    "jupyter": {
     "outputs_hidden": false
    },
    "pycharm": {
     "name": "#%%\n"
    }
   },
   "outputs": [],
   "source": [
    "for k, v in best_run.hyperparameters.items():\n",
    "    setattr(train_args, k, v)\n",
    "    \n",
    "distilled_ckpt = 'distilbert-base-uncased-distilled-clinc'\n",
    "train_args.output_dir = distilled_ckpt"
   ]
  },
  {
   "cell_type": "code",
   "execution_count": 35,
   "metadata": {
    "collapsed": false,
    "jupyter": {
     "outputs_hidden": false
    },
    "pycharm": {
     "name": "#%%\n"
    }
   },
   "outputs": [
    {
     "name": "stderr",
     "output_type": "stream",
     "text": [
      "loading weights file https://huggingface.co/distilbert-base-uncased/resolve/main/pytorch_model.bin from cache at /root/.cache/huggingface/transformers/9c169103d7e5a73936dd2b627e42851bec0831212b677c637033ee4bce9ab5ee.126183e36667471617ae2f0835fab707baa54b731f991507ebbb55ea85adb12a\n",
      "Some weights of the model checkpoint at distilbert-base-uncased were not used when initializing DistilBertForSequenceClassification: ['vocab_projector.weight', 'vocab_layer_norm.weight', 'vocab_transform.bias', 'vocab_transform.weight', 'vocab_projector.bias', 'vocab_layer_norm.bias']\n",
      "- This IS expected if you are initializing DistilBertForSequenceClassification from the checkpoint of a model trained on another task or with another architecture (e.g. initializing a BertForSequenceClassification model from a BertForPreTraining model).\n",
      "- This IS NOT expected if you are initializing DistilBertForSequenceClassification from the checkpoint of a model that you expect to be exactly identical (initializing a BertForSequenceClassification model from a BertForSequenceClassification model).\n",
      "Some weights of DistilBertForSequenceClassification were not initialized from the model checkpoint at distilbert-base-uncased and are newly initialized: ['pre_classifier.bias', 'classifier.weight', 'pre_classifier.weight', 'classifier.bias']\n",
      "You should probably TRAIN this model on a down-stream task to be able to use it for predictions and inference.\n",
      "Cloning https://huggingface.co/chris-santiago/distilbert-base-uncased-distilled-clinc into local empty directory.\n"
     ]
    }
   ],
   "source": [
    "distill_trainer = DistillationTrainer(\n",
    "    model_init=student_init,\n",
    "    teacher=teacher_model,\n",
    "    args=train_args,\n",
    "    train_dataset=data_enc['train'],\n",
    "    eval_dataset=data_enc['validation'],\n",
    "    compute_metrics=get_metrics,\n",
    "    tokenizer=student_tokenizer\n",
    ")"
   ]
  },
  {
   "cell_type": "code",
   "execution_count": 36,
   "metadata": {
    "collapsed": false,
    "jupyter": {
     "outputs_hidden": false
    },
    "pycharm": {
     "name": "#%%\n"
    }
   },
   "outputs": [
    {
     "name": "stderr",
     "output_type": "stream",
     "text": [
      "loading weights file https://huggingface.co/distilbert-base-uncased/resolve/main/pytorch_model.bin from cache at /root/.cache/huggingface/transformers/9c169103d7e5a73936dd2b627e42851bec0831212b677c637033ee4bce9ab5ee.126183e36667471617ae2f0835fab707baa54b731f991507ebbb55ea85adb12a\n",
      "Some weights of the model checkpoint at distilbert-base-uncased were not used when initializing DistilBertForSequenceClassification: ['vocab_projector.weight', 'vocab_layer_norm.weight', 'vocab_transform.bias', 'vocab_transform.weight', 'vocab_projector.bias', 'vocab_layer_norm.bias']\n",
      "- This IS expected if you are initializing DistilBertForSequenceClassification from the checkpoint of a model trained on another task or with another architecture (e.g. initializing a BertForSequenceClassification model from a BertForPreTraining model).\n",
      "- This IS NOT expected if you are initializing DistilBertForSequenceClassification from the checkpoint of a model that you expect to be exactly identical (initializing a BertForSequenceClassification model from a BertForSequenceClassification model).\n",
      "Some weights of DistilBertForSequenceClassification were not initialized from the model checkpoint at distilbert-base-uncased and are newly initialized: ['pre_classifier.bias', 'classifier.weight', 'pre_classifier.weight', 'classifier.bias']\n",
      "You should probably TRAIN this model on a down-stream task to be able to use it for predictions and inference.\n",
      "/usr/local/lib/python3.9/dist-packages/transformers/optimization.py:306: FutureWarning: This implementation of AdamW is deprecated and will be removed in a future version. Use the PyTorch implementation torch.optim.AdamW instead, or set `no_deprecation_warning=True` to disable this warning\n",
      "  warnings.warn(\n",
      "***** Running training *****\n",
      "  Num examples = 15250\n",
      "  Num Epochs = 10\n",
      "  Instantaneous batch size per device = 48\n",
      "  Total train batch size (w. parallel, distributed & accumulation) = 48\n",
      "  Gradient Accumulation steps = 1\n",
      "  Total optimization steps = 3180\n"
     ]
    },
    {
     "data": {
      "text/html": [
       "\n",
       "    <div>\n",
       "      \n",
       "      <progress value='3180' max='3180' style='width:300px; height:20px; vertical-align: middle;'></progress>\n",
       "      [3180/3180 08:51, Epoch 10/10]\n",
       "    </div>\n",
       "    <table border=\"1\" class=\"dataframe\">\n",
       "  <thead>\n",
       " <tr style=\"text-align: left;\">\n",
       "      <th>Epoch</th>\n",
       "      <th>Training Loss</th>\n",
       "      <th>Validation Loss</th>\n",
       "      <th>Accuracy</th>\n",
       "    </tr>\n",
       "  </thead>\n",
       "  <tbody>\n",
       "    <tr>\n",
       "      <td>1</td>\n",
       "      <td>No log</td>\n",
       "      <td>3.162158</td>\n",
       "      <td>0.746774</td>\n",
       "    </tr>\n",
       "    <tr>\n",
       "      <td>2</td>\n",
       "      <td>3.691800</td>\n",
       "      <td>1.555480</td>\n",
       "      <td>0.856452</td>\n",
       "    </tr>\n",
       "    <tr>\n",
       "      <td>3</td>\n",
       "      <td>3.691800</td>\n",
       "      <td>0.772798</td>\n",
       "      <td>0.914194</td>\n",
       "    </tr>\n",
       "    <tr>\n",
       "      <td>4</td>\n",
       "      <td>1.325700</td>\n",
       "      <td>0.458926</td>\n",
       "      <td>0.931935</td>\n",
       "    </tr>\n",
       "    <tr>\n",
       "      <td>5</td>\n",
       "      <td>0.431000</td>\n",
       "      <td>0.335022</td>\n",
       "      <td>0.942581</td>\n",
       "    </tr>\n",
       "    <tr>\n",
       "      <td>6</td>\n",
       "      <td>0.431000</td>\n",
       "      <td>0.287883</td>\n",
       "      <td>0.940645</td>\n",
       "    </tr>\n",
       "    <tr>\n",
       "      <td>7</td>\n",
       "      <td>0.175200</td>\n",
       "      <td>0.260885</td>\n",
       "      <td>0.946452</td>\n",
       "    </tr>\n",
       "    <tr>\n",
       "      <td>8</td>\n",
       "      <td>0.089300</td>\n",
       "      <td>0.251202</td>\n",
       "      <td>0.945484</td>\n",
       "    </tr>\n",
       "    <tr>\n",
       "      <td>9</td>\n",
       "      <td>0.089300</td>\n",
       "      <td>0.248783</td>\n",
       "      <td>0.945161</td>\n",
       "    </tr>\n",
       "    <tr>\n",
       "      <td>10</td>\n",
       "      <td>0.062000</td>\n",
       "      <td>0.246867</td>\n",
       "      <td>0.945806</td>\n",
       "    </tr>\n",
       "  </tbody>\n",
       "</table><p>"
      ],
      "text/plain": [
       "<IPython.core.display.HTML object>"
      ]
     },
     "metadata": {},
     "output_type": "display_data"
    },
    {
     "name": "stderr",
     "output_type": "stream",
     "text": [
      "***** Running Evaluation *****\n",
      "  Num examples = 3100\n",
      "  Batch size = 48\n",
      "Saving model checkpoint to distilbert-base-uncased-distilled-clinc/checkpoint-500\n",
      "Configuration saved in distilbert-base-uncased-distilled-clinc/checkpoint-500/config.json\n",
      "Model weights saved in distilbert-base-uncased-distilled-clinc/checkpoint-500/pytorch_model.bin\n",
      "tokenizer config file saved in distilbert-base-uncased-distilled-clinc/checkpoint-500/tokenizer_config.json\n",
      "Special tokens file saved in distilbert-base-uncased-distilled-clinc/checkpoint-500/special_tokens_map.json\n",
      "tokenizer config file saved in distilbert-base-uncased-distilled-clinc/tokenizer_config.json\n",
      "Special tokens file saved in distilbert-base-uncased-distilled-clinc/special_tokens_map.json\n",
      "***** Running Evaluation *****\n",
      "  Num examples = 3100\n",
      "  Batch size = 48\n",
      "***** Running Evaluation *****\n",
      "  Num examples = 3100\n",
      "  Batch size = 48\n",
      "Saving model checkpoint to distilbert-base-uncased-distilled-clinc/checkpoint-1000\n",
      "Configuration saved in distilbert-base-uncased-distilled-clinc/checkpoint-1000/config.json\n",
      "Model weights saved in distilbert-base-uncased-distilled-clinc/checkpoint-1000/pytorch_model.bin\n",
      "tokenizer config file saved in distilbert-base-uncased-distilled-clinc/checkpoint-1000/tokenizer_config.json\n",
      "Special tokens file saved in distilbert-base-uncased-distilled-clinc/checkpoint-1000/special_tokens_map.json\n",
      "tokenizer config file saved in distilbert-base-uncased-distilled-clinc/tokenizer_config.json\n",
      "Special tokens file saved in distilbert-base-uncased-distilled-clinc/special_tokens_map.json\n",
      "***** Running Evaluation *****\n",
      "  Num examples = 3100\n",
      "  Batch size = 48\n",
      "Saving model checkpoint to distilbert-base-uncased-distilled-clinc/checkpoint-1500\n",
      "Configuration saved in distilbert-base-uncased-distilled-clinc/checkpoint-1500/config.json\n",
      "Model weights saved in distilbert-base-uncased-distilled-clinc/checkpoint-1500/pytorch_model.bin\n",
      "tokenizer config file saved in distilbert-base-uncased-distilled-clinc/checkpoint-1500/tokenizer_config.json\n",
      "Special tokens file saved in distilbert-base-uncased-distilled-clinc/checkpoint-1500/special_tokens_map.json\n",
      "tokenizer config file saved in distilbert-base-uncased-distilled-clinc/tokenizer_config.json\n",
      "Special tokens file saved in distilbert-base-uncased-distilled-clinc/special_tokens_map.json\n",
      "***** Running Evaluation *****\n",
      "  Num examples = 3100\n",
      "  Batch size = 48\n",
      "***** Running Evaluation *****\n",
      "  Num examples = 3100\n",
      "  Batch size = 48\n",
      "Saving model checkpoint to distilbert-base-uncased-distilled-clinc/checkpoint-2000\n",
      "Configuration saved in distilbert-base-uncased-distilled-clinc/checkpoint-2000/config.json\n",
      "Model weights saved in distilbert-base-uncased-distilled-clinc/checkpoint-2000/pytorch_model.bin\n",
      "tokenizer config file saved in distilbert-base-uncased-distilled-clinc/checkpoint-2000/tokenizer_config.json\n",
      "Special tokens file saved in distilbert-base-uncased-distilled-clinc/checkpoint-2000/special_tokens_map.json\n",
      "tokenizer config file saved in distilbert-base-uncased-distilled-clinc/tokenizer_config.json\n",
      "Special tokens file saved in distilbert-base-uncased-distilled-clinc/special_tokens_map.json\n",
      "***** Running Evaluation *****\n",
      "  Num examples = 3100\n",
      "  Batch size = 48\n",
      "Saving model checkpoint to distilbert-base-uncased-distilled-clinc/checkpoint-2500\n",
      "Configuration saved in distilbert-base-uncased-distilled-clinc/checkpoint-2500/config.json\n",
      "Model weights saved in distilbert-base-uncased-distilled-clinc/checkpoint-2500/pytorch_model.bin\n",
      "tokenizer config file saved in distilbert-base-uncased-distilled-clinc/checkpoint-2500/tokenizer_config.json\n",
      "Special tokens file saved in distilbert-base-uncased-distilled-clinc/checkpoint-2500/special_tokens_map.json\n",
      "tokenizer config file saved in distilbert-base-uncased-distilled-clinc/tokenizer_config.json\n",
      "Special tokens file saved in distilbert-base-uncased-distilled-clinc/special_tokens_map.json\n",
      "***** Running Evaluation *****\n",
      "  Num examples = 3100\n",
      "  Batch size = 48\n",
      "***** Running Evaluation *****\n",
      "  Num examples = 3100\n",
      "  Batch size = 48\n",
      "Saving model checkpoint to distilbert-base-uncased-distilled-clinc/checkpoint-3000\n",
      "Configuration saved in distilbert-base-uncased-distilled-clinc/checkpoint-3000/config.json\n",
      "Model weights saved in distilbert-base-uncased-distilled-clinc/checkpoint-3000/pytorch_model.bin\n",
      "tokenizer config file saved in distilbert-base-uncased-distilled-clinc/checkpoint-3000/tokenizer_config.json\n",
      "Special tokens file saved in distilbert-base-uncased-distilled-clinc/checkpoint-3000/special_tokens_map.json\n",
      "tokenizer config file saved in distilbert-base-uncased-distilled-clinc/tokenizer_config.json\n",
      "Special tokens file saved in distilbert-base-uncased-distilled-clinc/special_tokens_map.json\n",
      "***** Running Evaluation *****\n",
      "  Num examples = 3100\n",
      "  Batch size = 48\n",
      "\n",
      "\n",
      "Training completed. Do not forget to share your model on huggingface.co/models =)\n",
      "\n",
      "\n"
     ]
    },
    {
     "data": {
      "text/plain": [
       "TrainOutput(global_step=3180, training_loss=0.9111540221568174, metrics={'train_runtime': 531.7474, 'train_samples_per_second': 286.79, 'train_steps_per_second': 5.98, 'total_flos': 827475185485200.0, 'train_loss': 0.9111540221568174, 'epoch': 10.0})"
      ]
     },
     "execution_count": 36,
     "metadata": {},
     "output_type": "execute_result"
    }
   ],
   "source": [
    "distill_trainer.train()"
   ]
  },
  {
   "cell_type": "code",
   "execution_count": 37,
   "metadata": {
    "collapsed": false,
    "jupyter": {
     "outputs_hidden": false
    },
    "pycharm": {
     "name": "#%%\n"
    }
   },
   "outputs": [
    {
     "name": "stderr",
     "output_type": "stream",
     "text": [
      "Saving model checkpoint to distilbert-base-uncased-distilled-clinc\n",
      "Configuration saved in distilbert-base-uncased-distilled-clinc/config.json\n",
      "Model weights saved in distilbert-base-uncased-distilled-clinc/pytorch_model.bin\n",
      "tokenizer config file saved in distilbert-base-uncased-distilled-clinc/tokenizer_config.json\n",
      "Special tokens file saved in distilbert-base-uncased-distilled-clinc/special_tokens_map.json\n"
     ]
    },
    {
     "data": {
      "application/vnd.jupyter.widget-view+json": {
       "model_id": "3b2c4f1867d143e7a0d9277c1a44aeec",
       "version_major": 2,
       "version_minor": 0
      },
      "text/plain": [
       "Upload file pytorch_model.bin:   0%|          | 32.0k/256M [00:00<?, ?B/s]"
      ]
     },
     "metadata": {},
     "output_type": "display_data"
    },
    {
     "name": "stderr",
     "output_type": "stream",
     "text": [
      "remote: Scanning LFS files for validity, may be slow...        \n",
      "remote: LFS file scan complete.        \n",
      "To https://huggingface.co/chris-santiago/distilbert-base-uncased-distilled-clinc\n",
      "   9d24c9f..0089198  main -> main\n",
      "\n",
      "To https://huggingface.co/chris-santiago/distilbert-base-uncased-distilled-clinc\n",
      "   0089198..634c764  main -> main\n",
      "\n"
     ]
    },
    {
     "data": {
      "text/plain": [
       "'https://huggingface.co/chris-santiago/distilbert-base-uncased-distilled-clinc/commit/00891981919692b4398c3ace2430fe4fd1159705'"
      ]
     },
     "execution_count": 37,
     "metadata": {},
     "output_type": "execute_result"
    }
   ],
   "source": [
    "distill_trainer.push_to_hub('training complete')"
   ]
  },
  {
   "cell_type": "code",
   "execution_count": 40,
   "metadata": {
    "collapsed": false,
    "jupyter": {
     "outputs_hidden": false
    },
    "pycharm": {
     "name": "#%%\n"
    },
    "scrolled": true,
    "tags": []
   },
   "outputs": [
    {
     "name": "stderr",
     "output_type": "stream",
     "text": [
      "loading configuration file https://huggingface.co/chris-santiago/distilbert-base-uncased-distilled-clinc/resolve/main/config.json from cache at /root/.cache/huggingface/transformers/a9219eab0d3dd0b4c119718141ce65e554a271f9ad4b28a3ae4148569d20b305.e498684d4c1b0b030c3a11d06b8ba4e6e182cb76f073c64455f6f656e5985942\n",
      "Model config DistilBertConfig {\n",
      "  \"_name_or_path\": \"chris-santiago/distilbert-base-uncased-distilled-clinc\",\n",
      "  \"activation\": \"gelu\",\n",
      "  \"architectures\": [\n",
      "    \"DistilBertForSequenceClassification\"\n",
      "  ],\n",
      "  \"attention_dropout\": 0.1,\n",
      "  \"dim\": 768,\n",
      "  \"dropout\": 0.1,\n",
      "  \"hidden_dim\": 3072,\n",
      "  \"id2label\": {\n",
      "    \"0\": \"restaurant_reviews\",\n",
      "    \"1\": \"nutrition_info\",\n",
      "    \"2\": \"account_blocked\",\n",
      "    \"3\": \"oil_change_how\",\n",
      "    \"4\": \"time\",\n",
      "    \"5\": \"weather\",\n",
      "    \"6\": \"redeem_rewards\",\n",
      "    \"7\": \"interest_rate\",\n",
      "    \"8\": \"gas_type\",\n",
      "    \"9\": \"accept_reservations\",\n",
      "    \"10\": \"smart_home\",\n",
      "    \"11\": \"user_name\",\n",
      "    \"12\": \"report_lost_card\",\n",
      "    \"13\": \"repeat\",\n",
      "    \"14\": \"whisper_mode\",\n",
      "    \"15\": \"what_are_your_hobbies\",\n",
      "    \"16\": \"order\",\n",
      "    \"17\": \"jump_start\",\n",
      "    \"18\": \"schedule_meeting\",\n",
      "    \"19\": \"meeting_schedule\",\n",
      "    \"20\": \"freeze_account\",\n",
      "    \"21\": \"what_song\",\n",
      "    \"22\": \"meaning_of_life\",\n",
      "    \"23\": \"restaurant_reservation\",\n",
      "    \"24\": \"traffic\",\n",
      "    \"25\": \"make_call\",\n",
      "    \"26\": \"text\",\n",
      "    \"27\": \"bill_balance\",\n",
      "    \"28\": \"improve_credit_score\",\n",
      "    \"29\": \"change_language\",\n",
      "    \"30\": \"no\",\n",
      "    \"31\": \"measurement_conversion\",\n",
      "    \"32\": \"timer\",\n",
      "    \"33\": \"flip_coin\",\n",
      "    \"34\": \"do_you_have_pets\",\n",
      "    \"35\": \"balance\",\n",
      "    \"36\": \"tell_joke\",\n",
      "    \"37\": \"last_maintenance\",\n",
      "    \"38\": \"exchange_rate\",\n",
      "    \"39\": \"uber\",\n",
      "    \"40\": \"car_rental\",\n",
      "    \"41\": \"credit_limit\",\n",
      "    \"42\": \"oos\",\n",
      "    \"43\": \"shopping_list\",\n",
      "    \"44\": \"expiration_date\",\n",
      "    \"45\": \"routing\",\n",
      "    \"46\": \"meal_suggestion\",\n",
      "    \"47\": \"tire_change\",\n",
      "    \"48\": \"todo_list\",\n",
      "    \"49\": \"card_declined\",\n",
      "    \"50\": \"rewards_balance\",\n",
      "    \"51\": \"change_accent\",\n",
      "    \"52\": \"vaccines\",\n",
      "    \"53\": \"reminder_update\",\n",
      "    \"54\": \"food_last\",\n",
      "    \"55\": \"change_ai_name\",\n",
      "    \"56\": \"bill_due\",\n",
      "    \"57\": \"who_do_you_work_for\",\n",
      "    \"58\": \"share_location\",\n",
      "    \"59\": \"international_visa\",\n",
      "    \"60\": \"calendar\",\n",
      "    \"61\": \"translate\",\n",
      "    \"62\": \"carry_on\",\n",
      "    \"63\": \"book_flight\",\n",
      "    \"64\": \"insurance_change\",\n",
      "    \"65\": \"todo_list_update\",\n",
      "    \"66\": \"timezone\",\n",
      "    \"67\": \"cancel_reservation\",\n",
      "    \"68\": \"transactions\",\n",
      "    \"69\": \"credit_score\",\n",
      "    \"70\": \"report_fraud\",\n",
      "    \"71\": \"spending_history\",\n",
      "    \"72\": \"directions\",\n",
      "    \"73\": \"spelling\",\n",
      "    \"74\": \"insurance\",\n",
      "    \"75\": \"what_is_your_name\",\n",
      "    \"76\": \"reminder\",\n",
      "    \"77\": \"where_are_you_from\",\n",
      "    \"78\": \"distance\",\n",
      "    \"79\": \"payday\",\n",
      "    \"80\": \"flight_status\",\n",
      "    \"81\": \"find_phone\",\n",
      "    \"82\": \"greeting\",\n",
      "    \"83\": \"alarm\",\n",
      "    \"84\": \"order_status\",\n",
      "    \"85\": \"confirm_reservation\",\n",
      "    \"86\": \"cook_time\",\n",
      "    \"87\": \"damaged_card\",\n",
      "    \"88\": \"reset_settings\",\n",
      "    \"89\": \"pin_change\",\n",
      "    \"90\": \"replacement_card_duration\",\n",
      "    \"91\": \"new_card\",\n",
      "    \"92\": \"roll_dice\",\n",
      "    \"93\": \"income\",\n",
      "    \"94\": \"taxes\",\n",
      "    \"95\": \"date\",\n",
      "    \"96\": \"who_made_you\",\n",
      "    \"97\": \"pto_request\",\n",
      "    \"98\": \"tire_pressure\",\n",
      "    \"99\": \"how_old_are_you\",\n",
      "    \"100\": \"rollover_401k\",\n",
      "    \"101\": \"pto_request_status\",\n",
      "    \"102\": \"how_busy\",\n",
      "    \"103\": \"application_status\",\n",
      "    \"104\": \"recipe\",\n",
      "    \"105\": \"calendar_update\",\n",
      "    \"106\": \"play_music\",\n",
      "    \"107\": \"yes\",\n",
      "    \"108\": \"direct_deposit\",\n",
      "    \"109\": \"credit_limit_change\",\n",
      "    \"110\": \"gas\",\n",
      "    \"111\": \"pay_bill\",\n",
      "    \"112\": \"ingredients_list\",\n",
      "    \"113\": \"lost_luggage\",\n",
      "    \"114\": \"goodbye\",\n",
      "    \"115\": \"what_can_i_ask_you\",\n",
      "    \"116\": \"book_hotel\",\n",
      "    \"117\": \"are_you_a_bot\",\n",
      "    \"118\": \"next_song\",\n",
      "    \"119\": \"change_speed\",\n",
      "    \"120\": \"plug_type\",\n",
      "    \"121\": \"maybe\",\n",
      "    \"122\": \"w2\",\n",
      "    \"123\": \"oil_change_when\",\n",
      "    \"124\": \"thank_you\",\n",
      "    \"125\": \"shopping_list_update\",\n",
      "    \"126\": \"pto_balance\",\n",
      "    \"127\": \"order_checks\",\n",
      "    \"128\": \"travel_alert\",\n",
      "    \"129\": \"fun_fact\",\n",
      "    \"130\": \"sync_device\",\n",
      "    \"131\": \"schedule_maintenance\",\n",
      "    \"132\": \"apr\",\n",
      "    \"133\": \"transfer\",\n",
      "    \"134\": \"ingredient_substitution\",\n",
      "    \"135\": \"calories\",\n",
      "    \"136\": \"current_location\",\n",
      "    \"137\": \"international_fees\",\n",
      "    \"138\": \"calculator\",\n",
      "    \"139\": \"definition\",\n",
      "    \"140\": \"next_holiday\",\n",
      "    \"141\": \"update_playlist\",\n",
      "    \"142\": \"mpg\",\n",
      "    \"143\": \"min_payment\",\n",
      "    \"144\": \"change_user_name\",\n",
      "    \"145\": \"restaurant_suggestion\",\n",
      "    \"146\": \"travel_notification\",\n",
      "    \"147\": \"cancel\",\n",
      "    \"148\": \"pto_used\",\n",
      "    \"149\": \"travel_suggestion\",\n",
      "    \"150\": \"change_volume\"\n",
      "  },\n",
      "  \"initializer_range\": 0.02,\n",
      "  \"label2id\": {\n",
      "    \"accept_reservations\": 9,\n",
      "    \"account_blocked\": 2,\n",
      "    \"alarm\": 83,\n",
      "    \"application_status\": 103,\n",
      "    \"apr\": 132,\n",
      "    \"are_you_a_bot\": 117,\n",
      "    \"balance\": 35,\n",
      "    \"bill_balance\": 27,\n",
      "    \"bill_due\": 56,\n",
      "    \"book_flight\": 63,\n",
      "    \"book_hotel\": 116,\n",
      "    \"calculator\": 138,\n",
      "    \"calendar\": 60,\n",
      "    \"calendar_update\": 105,\n",
      "    \"calories\": 135,\n",
      "    \"cancel\": 147,\n",
      "    \"cancel_reservation\": 67,\n",
      "    \"car_rental\": 40,\n",
      "    \"card_declined\": 49,\n",
      "    \"carry_on\": 62,\n",
      "    \"change_accent\": 51,\n",
      "    \"change_ai_name\": 55,\n",
      "    \"change_language\": 29,\n",
      "    \"change_speed\": 119,\n",
      "    \"change_user_name\": 144,\n",
      "    \"change_volume\": 150,\n",
      "    \"confirm_reservation\": 85,\n",
      "    \"cook_time\": 86,\n",
      "    \"credit_limit\": 41,\n",
      "    \"credit_limit_change\": 109,\n",
      "    \"credit_score\": 69,\n",
      "    \"current_location\": 136,\n",
      "    \"damaged_card\": 87,\n",
      "    \"date\": 95,\n",
      "    \"definition\": 139,\n",
      "    \"direct_deposit\": 108,\n",
      "    \"directions\": 72,\n",
      "    \"distance\": 78,\n",
      "    \"do_you_have_pets\": 34,\n",
      "    \"exchange_rate\": 38,\n",
      "    \"expiration_date\": 44,\n",
      "    \"find_phone\": 81,\n",
      "    \"flight_status\": 80,\n",
      "    \"flip_coin\": 33,\n",
      "    \"food_last\": 54,\n",
      "    \"freeze_account\": 20,\n",
      "    \"fun_fact\": 129,\n",
      "    \"gas\": 110,\n",
      "    \"gas_type\": 8,\n",
      "    \"goodbye\": 114,\n",
      "    \"greeting\": 82,\n",
      "    \"how_busy\": 102,\n",
      "    \"how_old_are_you\": 99,\n",
      "    \"improve_credit_score\": 28,\n",
      "    \"income\": 93,\n",
      "    \"ingredient_substitution\": 134,\n",
      "    \"ingredients_list\": 112,\n",
      "    \"insurance\": 74,\n",
      "    \"insurance_change\": 64,\n",
      "    \"interest_rate\": 7,\n",
      "    \"international_fees\": 137,\n",
      "    \"international_visa\": 59,\n",
      "    \"jump_start\": 17,\n",
      "    \"last_maintenance\": 37,\n",
      "    \"lost_luggage\": 113,\n",
      "    \"make_call\": 25,\n",
      "    \"maybe\": 121,\n",
      "    \"meal_suggestion\": 46,\n",
      "    \"meaning_of_life\": 22,\n",
      "    \"measurement_conversion\": 31,\n",
      "    \"meeting_schedule\": 19,\n",
      "    \"min_payment\": 143,\n",
      "    \"mpg\": 142,\n",
      "    \"new_card\": 91,\n",
      "    \"next_holiday\": 140,\n",
      "    \"next_song\": 118,\n",
      "    \"no\": 30,\n",
      "    \"nutrition_info\": 1,\n",
      "    \"oil_change_how\": 3,\n",
      "    \"oil_change_when\": 123,\n",
      "    \"oos\": 42,\n",
      "    \"order\": 16,\n",
      "    \"order_checks\": 127,\n",
      "    \"order_status\": 84,\n",
      "    \"pay_bill\": 111,\n",
      "    \"payday\": 79,\n",
      "    \"pin_change\": 89,\n",
      "    \"play_music\": 106,\n",
      "    \"plug_type\": 120,\n",
      "    \"pto_balance\": 126,\n",
      "    \"pto_request\": 97,\n",
      "    \"pto_request_status\": 101,\n",
      "    \"pto_used\": 148,\n",
      "    \"recipe\": 104,\n",
      "    \"redeem_rewards\": 6,\n",
      "    \"reminder\": 76,\n",
      "    \"reminder_update\": 53,\n",
      "    \"repeat\": 13,\n",
      "    \"replacement_card_duration\": 90,\n",
      "    \"report_fraud\": 70,\n",
      "    \"report_lost_card\": 12,\n",
      "    \"reset_settings\": 88,\n",
      "    \"restaurant_reservation\": 23,\n",
      "    \"restaurant_reviews\": 0,\n",
      "    \"restaurant_suggestion\": 145,\n",
      "    \"rewards_balance\": 50,\n",
      "    \"roll_dice\": 92,\n",
      "    \"rollover_401k\": 100,\n",
      "    \"routing\": 45,\n",
      "    \"schedule_maintenance\": 131,\n",
      "    \"schedule_meeting\": 18,\n",
      "    \"share_location\": 58,\n",
      "    \"shopping_list\": 43,\n",
      "    \"shopping_list_update\": 125,\n",
      "    \"smart_home\": 10,\n",
      "    \"spelling\": 73,\n",
      "    \"spending_history\": 71,\n",
      "    \"sync_device\": 130,\n",
      "    \"taxes\": 94,\n",
      "    \"tell_joke\": 36,\n",
      "    \"text\": 26,\n",
      "    \"thank_you\": 124,\n",
      "    \"time\": 4,\n",
      "    \"timer\": 32,\n",
      "    \"timezone\": 66,\n",
      "    \"tire_change\": 47,\n",
      "    \"tire_pressure\": 98,\n",
      "    \"todo_list\": 48,\n",
      "    \"todo_list_update\": 65,\n",
      "    \"traffic\": 24,\n",
      "    \"transactions\": 68,\n",
      "    \"transfer\": 133,\n",
      "    \"translate\": 61,\n",
      "    \"travel_alert\": 128,\n",
      "    \"travel_notification\": 146,\n",
      "    \"travel_suggestion\": 149,\n",
      "    \"uber\": 39,\n",
      "    \"update_playlist\": 141,\n",
      "    \"user_name\": 11,\n",
      "    \"vaccines\": 52,\n",
      "    \"w2\": 122,\n",
      "    \"weather\": 5,\n",
      "    \"what_are_your_hobbies\": 15,\n",
      "    \"what_can_i_ask_you\": 115,\n",
      "    \"what_is_your_name\": 75,\n",
      "    \"what_song\": 21,\n",
      "    \"where_are_you_from\": 77,\n",
      "    \"whisper_mode\": 14,\n",
      "    \"who_do_you_work_for\": 57,\n",
      "    \"who_made_you\": 96,\n",
      "    \"yes\": 107\n",
      "  },\n",
      "  \"max_position_embeddings\": 512,\n",
      "  \"model_type\": \"distilbert\",\n",
      "  \"n_heads\": 12,\n",
      "  \"n_layers\": 6,\n",
      "  \"pad_token_id\": 0,\n",
      "  \"problem_type\": \"single_label_classification\",\n",
      "  \"qa_dropout\": 0.1,\n",
      "  \"seq_classif_dropout\": 0.2,\n",
      "  \"sinusoidal_pos_embds\": false,\n",
      "  \"tie_weights_\": true,\n",
      "  \"torch_dtype\": \"float32\",\n",
      "  \"transformers_version\": \"4.18.0\",\n",
      "  \"vocab_size\": 30522\n",
      "}\n",
      "\n",
      "loading configuration file https://huggingface.co/chris-santiago/distilbert-base-uncased-distilled-clinc/resolve/main/config.json from cache at /root/.cache/huggingface/transformers/a9219eab0d3dd0b4c119718141ce65e554a271f9ad4b28a3ae4148569d20b305.e498684d4c1b0b030c3a11d06b8ba4e6e182cb76f073c64455f6f656e5985942\n",
      "Model config DistilBertConfig {\n",
      "  \"_name_or_path\": \"chris-santiago/distilbert-base-uncased-distilled-clinc\",\n",
      "  \"activation\": \"gelu\",\n",
      "  \"architectures\": [\n",
      "    \"DistilBertForSequenceClassification\"\n",
      "  ],\n",
      "  \"attention_dropout\": 0.1,\n",
      "  \"dim\": 768,\n",
      "  \"dropout\": 0.1,\n",
      "  \"hidden_dim\": 3072,\n",
      "  \"id2label\": {\n",
      "    \"0\": \"restaurant_reviews\",\n",
      "    \"1\": \"nutrition_info\",\n",
      "    \"2\": \"account_blocked\",\n",
      "    \"3\": \"oil_change_how\",\n",
      "    \"4\": \"time\",\n",
      "    \"5\": \"weather\",\n",
      "    \"6\": \"redeem_rewards\",\n",
      "    \"7\": \"interest_rate\",\n",
      "    \"8\": \"gas_type\",\n",
      "    \"9\": \"accept_reservations\",\n",
      "    \"10\": \"smart_home\",\n",
      "    \"11\": \"user_name\",\n",
      "    \"12\": \"report_lost_card\",\n",
      "    \"13\": \"repeat\",\n",
      "    \"14\": \"whisper_mode\",\n",
      "    \"15\": \"what_are_your_hobbies\",\n",
      "    \"16\": \"order\",\n",
      "    \"17\": \"jump_start\",\n",
      "    \"18\": \"schedule_meeting\",\n",
      "    \"19\": \"meeting_schedule\",\n",
      "    \"20\": \"freeze_account\",\n",
      "    \"21\": \"what_song\",\n",
      "    \"22\": \"meaning_of_life\",\n",
      "    \"23\": \"restaurant_reservation\",\n",
      "    \"24\": \"traffic\",\n",
      "    \"25\": \"make_call\",\n",
      "    \"26\": \"text\",\n",
      "    \"27\": \"bill_balance\",\n",
      "    \"28\": \"improve_credit_score\",\n",
      "    \"29\": \"change_language\",\n",
      "    \"30\": \"no\",\n",
      "    \"31\": \"measurement_conversion\",\n",
      "    \"32\": \"timer\",\n",
      "    \"33\": \"flip_coin\",\n",
      "    \"34\": \"do_you_have_pets\",\n",
      "    \"35\": \"balance\",\n",
      "    \"36\": \"tell_joke\",\n",
      "    \"37\": \"last_maintenance\",\n",
      "    \"38\": \"exchange_rate\",\n",
      "    \"39\": \"uber\",\n",
      "    \"40\": \"car_rental\",\n",
      "    \"41\": \"credit_limit\",\n",
      "    \"42\": \"oos\",\n",
      "    \"43\": \"shopping_list\",\n",
      "    \"44\": \"expiration_date\",\n",
      "    \"45\": \"routing\",\n",
      "    \"46\": \"meal_suggestion\",\n",
      "    \"47\": \"tire_change\",\n",
      "    \"48\": \"todo_list\",\n",
      "    \"49\": \"card_declined\",\n",
      "    \"50\": \"rewards_balance\",\n",
      "    \"51\": \"change_accent\",\n",
      "    \"52\": \"vaccines\",\n",
      "    \"53\": \"reminder_update\",\n",
      "    \"54\": \"food_last\",\n",
      "    \"55\": \"change_ai_name\",\n",
      "    \"56\": \"bill_due\",\n",
      "    \"57\": \"who_do_you_work_for\",\n",
      "    \"58\": \"share_location\",\n",
      "    \"59\": \"international_visa\",\n",
      "    \"60\": \"calendar\",\n",
      "    \"61\": \"translate\",\n",
      "    \"62\": \"carry_on\",\n",
      "    \"63\": \"book_flight\",\n",
      "    \"64\": \"insurance_change\",\n",
      "    \"65\": \"todo_list_update\",\n",
      "    \"66\": \"timezone\",\n",
      "    \"67\": \"cancel_reservation\",\n",
      "    \"68\": \"transactions\",\n",
      "    \"69\": \"credit_score\",\n",
      "    \"70\": \"report_fraud\",\n",
      "    \"71\": \"spending_history\",\n",
      "    \"72\": \"directions\",\n",
      "    \"73\": \"spelling\",\n",
      "    \"74\": \"insurance\",\n",
      "    \"75\": \"what_is_your_name\",\n",
      "    \"76\": \"reminder\",\n",
      "    \"77\": \"where_are_you_from\",\n",
      "    \"78\": \"distance\",\n",
      "    \"79\": \"payday\",\n",
      "    \"80\": \"flight_status\",\n",
      "    \"81\": \"find_phone\",\n",
      "    \"82\": \"greeting\",\n",
      "    \"83\": \"alarm\",\n",
      "    \"84\": \"order_status\",\n",
      "    \"85\": \"confirm_reservation\",\n",
      "    \"86\": \"cook_time\",\n",
      "    \"87\": \"damaged_card\",\n",
      "    \"88\": \"reset_settings\",\n",
      "    \"89\": \"pin_change\",\n",
      "    \"90\": \"replacement_card_duration\",\n",
      "    \"91\": \"new_card\",\n",
      "    \"92\": \"roll_dice\",\n",
      "    \"93\": \"income\",\n",
      "    \"94\": \"taxes\",\n",
      "    \"95\": \"date\",\n",
      "    \"96\": \"who_made_you\",\n",
      "    \"97\": \"pto_request\",\n",
      "    \"98\": \"tire_pressure\",\n",
      "    \"99\": \"how_old_are_you\",\n",
      "    \"100\": \"rollover_401k\",\n",
      "    \"101\": \"pto_request_status\",\n",
      "    \"102\": \"how_busy\",\n",
      "    \"103\": \"application_status\",\n",
      "    \"104\": \"recipe\",\n",
      "    \"105\": \"calendar_update\",\n",
      "    \"106\": \"play_music\",\n",
      "    \"107\": \"yes\",\n",
      "    \"108\": \"direct_deposit\",\n",
      "    \"109\": \"credit_limit_change\",\n",
      "    \"110\": \"gas\",\n",
      "    \"111\": \"pay_bill\",\n",
      "    \"112\": \"ingredients_list\",\n",
      "    \"113\": \"lost_luggage\",\n",
      "    \"114\": \"goodbye\",\n",
      "    \"115\": \"what_can_i_ask_you\",\n",
      "    \"116\": \"book_hotel\",\n",
      "    \"117\": \"are_you_a_bot\",\n",
      "    \"118\": \"next_song\",\n",
      "    \"119\": \"change_speed\",\n",
      "    \"120\": \"plug_type\",\n",
      "    \"121\": \"maybe\",\n",
      "    \"122\": \"w2\",\n",
      "    \"123\": \"oil_change_when\",\n",
      "    \"124\": \"thank_you\",\n",
      "    \"125\": \"shopping_list_update\",\n",
      "    \"126\": \"pto_balance\",\n",
      "    \"127\": \"order_checks\",\n",
      "    \"128\": \"travel_alert\",\n",
      "    \"129\": \"fun_fact\",\n",
      "    \"130\": \"sync_device\",\n",
      "    \"131\": \"schedule_maintenance\",\n",
      "    \"132\": \"apr\",\n",
      "    \"133\": \"transfer\",\n",
      "    \"134\": \"ingredient_substitution\",\n",
      "    \"135\": \"calories\",\n",
      "    \"136\": \"current_location\",\n",
      "    \"137\": \"international_fees\",\n",
      "    \"138\": \"calculator\",\n",
      "    \"139\": \"definition\",\n",
      "    \"140\": \"next_holiday\",\n",
      "    \"141\": \"update_playlist\",\n",
      "    \"142\": \"mpg\",\n",
      "    \"143\": \"min_payment\",\n",
      "    \"144\": \"change_user_name\",\n",
      "    \"145\": \"restaurant_suggestion\",\n",
      "    \"146\": \"travel_notification\",\n",
      "    \"147\": \"cancel\",\n",
      "    \"148\": \"pto_used\",\n",
      "    \"149\": \"travel_suggestion\",\n",
      "    \"150\": \"change_volume\"\n",
      "  },\n",
      "  \"initializer_range\": 0.02,\n",
      "  \"label2id\": {\n",
      "    \"accept_reservations\": 9,\n",
      "    \"account_blocked\": 2,\n",
      "    \"alarm\": 83,\n",
      "    \"application_status\": 103,\n",
      "    \"apr\": 132,\n",
      "    \"are_you_a_bot\": 117,\n",
      "    \"balance\": 35,\n",
      "    \"bill_balance\": 27,\n",
      "    \"bill_due\": 56,\n",
      "    \"book_flight\": 63,\n",
      "    \"book_hotel\": 116,\n",
      "    \"calculator\": 138,\n",
      "    \"calendar\": 60,\n",
      "    \"calendar_update\": 105,\n",
      "    \"calories\": 135,\n",
      "    \"cancel\": 147,\n",
      "    \"cancel_reservation\": 67,\n",
      "    \"car_rental\": 40,\n",
      "    \"card_declined\": 49,\n",
      "    \"carry_on\": 62,\n",
      "    \"change_accent\": 51,\n",
      "    \"change_ai_name\": 55,\n",
      "    \"change_language\": 29,\n",
      "    \"change_speed\": 119,\n",
      "    \"change_user_name\": 144,\n",
      "    \"change_volume\": 150,\n",
      "    \"confirm_reservation\": 85,\n",
      "    \"cook_time\": 86,\n",
      "    \"credit_limit\": 41,\n",
      "    \"credit_limit_change\": 109,\n",
      "    \"credit_score\": 69,\n",
      "    \"current_location\": 136,\n",
      "    \"damaged_card\": 87,\n",
      "    \"date\": 95,\n",
      "    \"definition\": 139,\n",
      "    \"direct_deposit\": 108,\n",
      "    \"directions\": 72,\n",
      "    \"distance\": 78,\n",
      "    \"do_you_have_pets\": 34,\n",
      "    \"exchange_rate\": 38,\n",
      "    \"expiration_date\": 44,\n",
      "    \"find_phone\": 81,\n",
      "    \"flight_status\": 80,\n",
      "    \"flip_coin\": 33,\n",
      "    \"food_last\": 54,\n",
      "    \"freeze_account\": 20,\n",
      "    \"fun_fact\": 129,\n",
      "    \"gas\": 110,\n",
      "    \"gas_type\": 8,\n",
      "    \"goodbye\": 114,\n",
      "    \"greeting\": 82,\n",
      "    \"how_busy\": 102,\n",
      "    \"how_old_are_you\": 99,\n",
      "    \"improve_credit_score\": 28,\n",
      "    \"income\": 93,\n",
      "    \"ingredient_substitution\": 134,\n",
      "    \"ingredients_list\": 112,\n",
      "    \"insurance\": 74,\n",
      "    \"insurance_change\": 64,\n",
      "    \"interest_rate\": 7,\n",
      "    \"international_fees\": 137,\n",
      "    \"international_visa\": 59,\n",
      "    \"jump_start\": 17,\n",
      "    \"last_maintenance\": 37,\n",
      "    \"lost_luggage\": 113,\n",
      "    \"make_call\": 25,\n",
      "    \"maybe\": 121,\n",
      "    \"meal_suggestion\": 46,\n",
      "    \"meaning_of_life\": 22,\n",
      "    \"measurement_conversion\": 31,\n",
      "    \"meeting_schedule\": 19,\n",
      "    \"min_payment\": 143,\n",
      "    \"mpg\": 142,\n",
      "    \"new_card\": 91,\n",
      "    \"next_holiday\": 140,\n",
      "    \"next_song\": 118,\n",
      "    \"no\": 30,\n",
      "    \"nutrition_info\": 1,\n",
      "    \"oil_change_how\": 3,\n",
      "    \"oil_change_when\": 123,\n",
      "    \"oos\": 42,\n",
      "    \"order\": 16,\n",
      "    \"order_checks\": 127,\n",
      "    \"order_status\": 84,\n",
      "    \"pay_bill\": 111,\n",
      "    \"payday\": 79,\n",
      "    \"pin_change\": 89,\n",
      "    \"play_music\": 106,\n",
      "    \"plug_type\": 120,\n",
      "    \"pto_balance\": 126,\n",
      "    \"pto_request\": 97,\n",
      "    \"pto_request_status\": 101,\n",
      "    \"pto_used\": 148,\n",
      "    \"recipe\": 104,\n",
      "    \"redeem_rewards\": 6,\n",
      "    \"reminder\": 76,\n",
      "    \"reminder_update\": 53,\n",
      "    \"repeat\": 13,\n",
      "    \"replacement_card_duration\": 90,\n",
      "    \"report_fraud\": 70,\n",
      "    \"report_lost_card\": 12,\n",
      "    \"reset_settings\": 88,\n",
      "    \"restaurant_reservation\": 23,\n",
      "    \"restaurant_reviews\": 0,\n",
      "    \"restaurant_suggestion\": 145,\n",
      "    \"rewards_balance\": 50,\n",
      "    \"roll_dice\": 92,\n",
      "    \"rollover_401k\": 100,\n",
      "    \"routing\": 45,\n",
      "    \"schedule_maintenance\": 131,\n",
      "    \"schedule_meeting\": 18,\n",
      "    \"share_location\": 58,\n",
      "    \"shopping_list\": 43,\n",
      "    \"shopping_list_update\": 125,\n",
      "    \"smart_home\": 10,\n",
      "    \"spelling\": 73,\n",
      "    \"spending_history\": 71,\n",
      "    \"sync_device\": 130,\n",
      "    \"taxes\": 94,\n",
      "    \"tell_joke\": 36,\n",
      "    \"text\": 26,\n",
      "    \"thank_you\": 124,\n",
      "    \"time\": 4,\n",
      "    \"timer\": 32,\n",
      "    \"timezone\": 66,\n",
      "    \"tire_change\": 47,\n",
      "    \"tire_pressure\": 98,\n",
      "    \"todo_list\": 48,\n",
      "    \"todo_list_update\": 65,\n",
      "    \"traffic\": 24,\n",
      "    \"transactions\": 68,\n",
      "    \"transfer\": 133,\n",
      "    \"translate\": 61,\n",
      "    \"travel_alert\": 128,\n",
      "    \"travel_notification\": 146,\n",
      "    \"travel_suggestion\": 149,\n",
      "    \"uber\": 39,\n",
      "    \"update_playlist\": 141,\n",
      "    \"user_name\": 11,\n",
      "    \"vaccines\": 52,\n",
      "    \"w2\": 122,\n",
      "    \"weather\": 5,\n",
      "    \"what_are_your_hobbies\": 15,\n",
      "    \"what_can_i_ask_you\": 115,\n",
      "    \"what_is_your_name\": 75,\n",
      "    \"what_song\": 21,\n",
      "    \"where_are_you_from\": 77,\n",
      "    \"whisper_mode\": 14,\n",
      "    \"who_do_you_work_for\": 57,\n",
      "    \"who_made_you\": 96,\n",
      "    \"yes\": 107\n",
      "  },\n",
      "  \"max_position_embeddings\": 512,\n",
      "  \"model_type\": \"distilbert\",\n",
      "  \"n_heads\": 12,\n",
      "  \"n_layers\": 6,\n",
      "  \"pad_token_id\": 0,\n",
      "  \"problem_type\": \"single_label_classification\",\n",
      "  \"qa_dropout\": 0.1,\n",
      "  \"seq_classif_dropout\": 0.2,\n",
      "  \"sinusoidal_pos_embds\": false,\n",
      "  \"tie_weights_\": true,\n",
      "  \"torch_dtype\": \"float32\",\n",
      "  \"transformers_version\": \"4.18.0\",\n",
      "  \"vocab_size\": 30522\n",
      "}\n",
      "\n",
      "loading weights file https://huggingface.co/chris-santiago/distilbert-base-uncased-distilled-clinc/resolve/main/pytorch_model.bin from cache at /root/.cache/huggingface/transformers/12e5daa6ec00a2c0356beef1f3d0d02cacdb63e2f35ff197a38436282ee3814b.cdbd6bb260df3125e61cac29aa3e44a8446b92711bc49fa7ab91cc9dedf49f6d\n",
      "All model checkpoint weights were used when initializing DistilBertForSequenceClassification.\n",
      "\n",
      "All the weights of DistilBertForSequenceClassification were initialized from the model checkpoint at chris-santiago/distilbert-base-uncased-distilled-clinc.\n",
      "If your task is similar to the task the model of the checkpoint was trained on, you can already use DistilBertForSequenceClassification for predictions without further training.\n",
      "loading file https://huggingface.co/chris-santiago/distilbert-base-uncased-distilled-clinc/resolve/main/vocab.txt from cache at /root/.cache/huggingface/transformers/8c69bc7b4d921cd3e252a9822e17335573af316c526e2d2152260edd6a498034.d789d64ebfe299b0e416afc4a169632f903f693095b4629a7ea271d5a0cf2c99\n",
      "loading file https://huggingface.co/chris-santiago/distilbert-base-uncased-distilled-clinc/resolve/main/tokenizer.json from cache at /root/.cache/huggingface/transformers/dc5a26f5c4f04a2cdf6ca19f7c8bb7fd5ea90e04ebc548627153e411c44651f1.848c414913cfee271695b8761d3e947fb18a724fbad549de63228b20e5f2d615\n",
      "loading file https://huggingface.co/chris-santiago/distilbert-base-uncased-distilled-clinc/resolve/main/added_tokens.json from cache at None\n",
      "loading file https://huggingface.co/chris-santiago/distilbert-base-uncased-distilled-clinc/resolve/main/special_tokens_map.json from cache at /root/.cache/huggingface/transformers/2c636309b0c12500aefb067bef50ae4d38c08d5db8a70f5844ca2eae2674473e.dd8bd9bfd3664b530ea4e645105f557769387b3da9f79bdb55ed556bdd80611d\n",
      "loading file https://huggingface.co/chris-santiago/distilbert-base-uncased-distilled-clinc/resolve/main/tokenizer_config.json from cache at /root/.cache/huggingface/transformers/8fedc54f08c2b414c338bab004711c2f21769848d819b9d49379721bf806fad5.42154c5fd30bfa7e34941d0d8ad26f8a3936990926fbe06b2da76dd749b1c6d4\n"
     ]
    },
    {
     "name": "stdout",
     "output_type": "stream",
     "text": [
      "Model size (MB): 255.89\n",
      "Average latency (ms): 42.13 +/- 29.71\n"
     ]
    },
    {
     "name": "stderr",
     "output_type": "stream",
     "text": [
      "100%|██████████| 5500/5500 [04:15<00:00, 21.49it/s]"
     ]
    },
    {
     "name": "stdout",
     "output_type": "stream",
     "text": [
      "Accuracy on test set: 0.889\n"
     ]
    },
    {
     "name": "stderr",
     "output_type": "stream",
     "text": [
      "\n"
     ]
    }
   ],
   "source": [
    "distilled_ckpt = 'chris-santiago/distilbert-base-uncased-distilled-clinc'\n",
    "pipe = pipeline('text-classification', distilled_ckpt)\n",
    "optim_type = 'Distillation'\n",
    "\n",
    "pb = PerformanceBenchmark(pipe, data['test'], optim_type=optim_type)\n",
    "perf.update(pb.run(mapper=get_intents))"
   ]
  },
  {
   "cell_type": "code",
   "execution_count": 41,
   "metadata": {},
   "outputs": [
    {
     "data": {
      "text/plain": [
       "{'BERT baseline': {'size_mb': 418.1629457473755,\n",
       "  'avg_ms': 51.94768721237779,\n",
       "  'std_ms': 37.02247969711823,\n",
       "  'accuracy': 0.8672727272727273},\n",
       " 'DistilBERT': {'size_mb': 255.887375831604,\n",
       "  'avg_ms': 33.894889783114195,\n",
       "  'std_ms': 31.0773435447728,\n",
       "  'accuracy': 0.8623636363636363},\n",
       " 'Distillation': {'size_mb': 255.887375831604,\n",
       "  'avg_ms': 42.12866319343448,\n",
       "  'std_ms': 29.7106176489378,\n",
       "  'accuracy': 0.8894545454545455}}"
      ]
     },
     "execution_count": 41,
     "metadata": {},
     "output_type": "execute_result"
    }
   ],
   "source": [
    "perf"
   ]
  },
  {
   "cell_type": "code",
   "execution_count": 42,
   "metadata": {},
   "outputs": [],
   "source": [
    "dump_metrics(perf)"
   ]
  },
  {
   "cell_type": "code",
   "execution_count": 43,
   "metadata": {
    "collapsed": false,
    "jupyter": {
     "outputs_hidden": false
    },
    "pycharm": {
     "name": "#%%\n"
    }
   },
   "outputs": [
    {
     "data": {
      "image/png": "[encoded data removed]",
      "text/plain": [
       "<Figure size 432x288 with 1 Axes>"
      ]
     },
     "metadata": {
      "needs_background": "light"
     },
     "output_type": "display_data"
    }
   ],
   "source": [
    "plot_metrics(perf, optim_type)"
   ]
  },
  {
   "cell_type": "markdown",
   "metadata": {
    "pycharm": {
     "name": "#%% md\n"
    }
   },
   "source": [
    "## Quantization"
   ]
  },
  {
   "cell_type": "code",
   "execution_count": 44,
   "metadata": {
    "collapsed": false,
    "jupyter": {
     "outputs_hidden": false
    },
    "pycharm": {
     "name": "#%%\n"
    },
    "scrolled": true,
    "tags": []
   },
   "outputs": [
    {
     "name": "stderr",
     "output_type": "stream",
     "text": [
      "loading file https://huggingface.co/chris-santiago/distilbert-base-uncased-distilled-clinc/resolve/main/vocab.txt from cache at /root/.cache/huggingface/transformers/8c69bc7b4d921cd3e252a9822e17335573af316c526e2d2152260edd6a498034.d789d64ebfe299b0e416afc4a169632f903f693095b4629a7ea271d5a0cf2c99\n",
      "loading file https://huggingface.co/chris-santiago/distilbert-base-uncased-distilled-clinc/resolve/main/tokenizer.json from cache at /root/.cache/huggingface/transformers/dc5a26f5c4f04a2cdf6ca19f7c8bb7fd5ea90e04ebc548627153e411c44651f1.848c414913cfee271695b8761d3e947fb18a724fbad549de63228b20e5f2d615\n",
      "loading file https://huggingface.co/chris-santiago/distilbert-base-uncased-distilled-clinc/resolve/main/added_tokens.json from cache at None\n",
      "loading file https://huggingface.co/chris-santiago/distilbert-base-uncased-distilled-clinc/resolve/main/special_tokens_map.json from cache at /root/.cache/huggingface/transformers/2c636309b0c12500aefb067bef50ae4d38c08d5db8a70f5844ca2eae2674473e.dd8bd9bfd3664b530ea4e645105f557769387b3da9f79bdb55ed556bdd80611d\n",
      "loading file https://huggingface.co/chris-santiago/distilbert-base-uncased-distilled-clinc/resolve/main/tokenizer_config.json from cache at /root/.cache/huggingface/transformers/8fedc54f08c2b414c338bab004711c2f21769848d819b9d49379721bf806fad5.42154c5fd30bfa7e34941d0d8ad26f8a3936990926fbe06b2da76dd749b1c6d4\n",
      "loading configuration file https://huggingface.co/chris-santiago/distilbert-base-uncased-distilled-clinc/resolve/main/config.json from cache at /root/.cache/huggingface/transformers/a9219eab0d3dd0b4c119718141ce65e554a271f9ad4b28a3ae4148569d20b305.e498684d4c1b0b030c3a11d06b8ba4e6e182cb76f073c64455f6f656e5985942\n",
      "Model config DistilBertConfig {\n",
      "  \"_name_or_path\": \"chris-santiago/distilbert-base-uncased-distilled-clinc\",\n",
      "  \"activation\": \"gelu\",\n",
      "  \"architectures\": [\n",
      "    \"DistilBertForSequenceClassification\"\n",
      "  ],\n",
      "  \"attention_dropout\": 0.1,\n",
      "  \"dim\": 768,\n",
      "  \"dropout\": 0.1,\n",
      "  \"hidden_dim\": 3072,\n",
      "  \"id2label\": {\n",
      "    \"0\": \"restaurant_reviews\",\n",
      "    \"1\": \"nutrition_info\",\n",
      "    \"2\": \"account_blocked\",\n",
      "    \"3\": \"oil_change_how\",\n",
      "    \"4\": \"time\",\n",
      "    \"5\": \"weather\",\n",
      "    \"6\": \"redeem_rewards\",\n",
      "    \"7\": \"interest_rate\",\n",
      "    \"8\": \"gas_type\",\n",
      "    \"9\": \"accept_reservations\",\n",
      "    \"10\": \"smart_home\",\n",
      "    \"11\": \"user_name\",\n",
      "    \"12\": \"report_lost_card\",\n",
      "    \"13\": \"repeat\",\n",
      "    \"14\": \"whisper_mode\",\n",
      "    \"15\": \"what_are_your_hobbies\",\n",
      "    \"16\": \"order\",\n",
      "    \"17\": \"jump_start\",\n",
      "    \"18\": \"schedule_meeting\",\n",
      "    \"19\": \"meeting_schedule\",\n",
      "    \"20\": \"freeze_account\",\n",
      "    \"21\": \"what_song\",\n",
      "    \"22\": \"meaning_of_life\",\n",
      "    \"23\": \"restaurant_reservation\",\n",
      "    \"24\": \"traffic\",\n",
      "    \"25\": \"make_call\",\n",
      "    \"26\": \"text\",\n",
      "    \"27\": \"bill_balance\",\n",
      "    \"28\": \"improve_credit_score\",\n",
      "    \"29\": \"change_language\",\n",
      "    \"30\": \"no\",\n",
      "    \"31\": \"measurement_conversion\",\n",
      "    \"32\": \"timer\",\n",
      "    \"33\": \"flip_coin\",\n",
      "    \"34\": \"do_you_have_pets\",\n",
      "    \"35\": \"balance\",\n",
      "    \"36\": \"tell_joke\",\n",
      "    \"37\": \"last_maintenance\",\n",
      "    \"38\": \"exchange_rate\",\n",
      "    \"39\": \"uber\",\n",
      "    \"40\": \"car_rental\",\n",
      "    \"41\": \"credit_limit\",\n",
      "    \"42\": \"oos\",\n",
      "    \"43\": \"shopping_list\",\n",
      "    \"44\": \"expiration_date\",\n",
      "    \"45\": \"routing\",\n",
      "    \"46\": \"meal_suggestion\",\n",
      "    \"47\": \"tire_change\",\n",
      "    \"48\": \"todo_list\",\n",
      "    \"49\": \"card_declined\",\n",
      "    \"50\": \"rewards_balance\",\n",
      "    \"51\": \"change_accent\",\n",
      "    \"52\": \"vaccines\",\n",
      "    \"53\": \"reminder_update\",\n",
      "    \"54\": \"food_last\",\n",
      "    \"55\": \"change_ai_name\",\n",
      "    \"56\": \"bill_due\",\n",
      "    \"57\": \"who_do_you_work_for\",\n",
      "    \"58\": \"share_location\",\n",
      "    \"59\": \"international_visa\",\n",
      "    \"60\": \"calendar\",\n",
      "    \"61\": \"translate\",\n",
      "    \"62\": \"carry_on\",\n",
      "    \"63\": \"book_flight\",\n",
      "    \"64\": \"insurance_change\",\n",
      "    \"65\": \"todo_list_update\",\n",
      "    \"66\": \"timezone\",\n",
      "    \"67\": \"cancel_reservation\",\n",
      "    \"68\": \"transactions\",\n",
      "    \"69\": \"credit_score\",\n",
      "    \"70\": \"report_fraud\",\n",
      "    \"71\": \"spending_history\",\n",
      "    \"72\": \"directions\",\n",
      "    \"73\": \"spelling\",\n",
      "    \"74\": \"insurance\",\n",
      "    \"75\": \"what_is_your_name\",\n",
      "    \"76\": \"reminder\",\n",
      "    \"77\": \"where_are_you_from\",\n",
      "    \"78\": \"distance\",\n",
      "    \"79\": \"payday\",\n",
      "    \"80\": \"flight_status\",\n",
      "    \"81\": \"find_phone\",\n",
      "    \"82\": \"greeting\",\n",
      "    \"83\": \"alarm\",\n",
      "    \"84\": \"order_status\",\n",
      "    \"85\": \"confirm_reservation\",\n",
      "    \"86\": \"cook_time\",\n",
      "    \"87\": \"damaged_card\",\n",
      "    \"88\": \"reset_settings\",\n",
      "    \"89\": \"pin_change\",\n",
      "    \"90\": \"replacement_card_duration\",\n",
      "    \"91\": \"new_card\",\n",
      "    \"92\": \"roll_dice\",\n",
      "    \"93\": \"income\",\n",
      "    \"94\": \"taxes\",\n",
      "    \"95\": \"date\",\n",
      "    \"96\": \"who_made_you\",\n",
      "    \"97\": \"pto_request\",\n",
      "    \"98\": \"tire_pressure\",\n",
      "    \"99\": \"how_old_are_you\",\n",
      "    \"100\": \"rollover_401k\",\n",
      "    \"101\": \"pto_request_status\",\n",
      "    \"102\": \"how_busy\",\n",
      "    \"103\": \"application_status\",\n",
      "    \"104\": \"recipe\",\n",
      "    \"105\": \"calendar_update\",\n",
      "    \"106\": \"play_music\",\n",
      "    \"107\": \"yes\",\n",
      "    \"108\": \"direct_deposit\",\n",
      "    \"109\": \"credit_limit_change\",\n",
      "    \"110\": \"gas\",\n",
      "    \"111\": \"pay_bill\",\n",
      "    \"112\": \"ingredients_list\",\n",
      "    \"113\": \"lost_luggage\",\n",
      "    \"114\": \"goodbye\",\n",
      "    \"115\": \"what_can_i_ask_you\",\n",
      "    \"116\": \"book_hotel\",\n",
      "    \"117\": \"are_you_a_bot\",\n",
      "    \"118\": \"next_song\",\n",
      "    \"119\": \"change_speed\",\n",
      "    \"120\": \"plug_type\",\n",
      "    \"121\": \"maybe\",\n",
      "    \"122\": \"w2\",\n",
      "    \"123\": \"oil_change_when\",\n",
      "    \"124\": \"thank_you\",\n",
      "    \"125\": \"shopping_list_update\",\n",
      "    \"126\": \"pto_balance\",\n",
      "    \"127\": \"order_checks\",\n",
      "    \"128\": \"travel_alert\",\n",
      "    \"129\": \"fun_fact\",\n",
      "    \"130\": \"sync_device\",\n",
      "    \"131\": \"schedule_maintenance\",\n",
      "    \"132\": \"apr\",\n",
      "    \"133\": \"transfer\",\n",
      "    \"134\": \"ingredient_substitution\",\n",
      "    \"135\": \"calories\",\n",
      "    \"136\": \"current_location\",\n",
      "    \"137\": \"international_fees\",\n",
      "    \"138\": \"calculator\",\n",
      "    \"139\": \"definition\",\n",
      "    \"140\": \"next_holiday\",\n",
      "    \"141\": \"update_playlist\",\n",
      "    \"142\": \"mpg\",\n",
      "    \"143\": \"min_payment\",\n",
      "    \"144\": \"change_user_name\",\n",
      "    \"145\": \"restaurant_suggestion\",\n",
      "    \"146\": \"travel_notification\",\n",
      "    \"147\": \"cancel\",\n",
      "    \"148\": \"pto_used\",\n",
      "    \"149\": \"travel_suggestion\",\n",
      "    \"150\": \"change_volume\"\n",
      "  },\n",
      "  \"initializer_range\": 0.02,\n",
      "  \"label2id\": {\n",
      "    \"accept_reservations\": 9,\n",
      "    \"account_blocked\": 2,\n",
      "    \"alarm\": 83,\n",
      "    \"application_status\": 103,\n",
      "    \"apr\": 132,\n",
      "    \"are_you_a_bot\": 117,\n",
      "    \"balance\": 35,\n",
      "    \"bill_balance\": 27,\n",
      "    \"bill_due\": 56,\n",
      "    \"book_flight\": 63,\n",
      "    \"book_hotel\": 116,\n",
      "    \"calculator\": 138,\n",
      "    \"calendar\": 60,\n",
      "    \"calendar_update\": 105,\n",
      "    \"calories\": 135,\n",
      "    \"cancel\": 147,\n",
      "    \"cancel_reservation\": 67,\n",
      "    \"car_rental\": 40,\n",
      "    \"card_declined\": 49,\n",
      "    \"carry_on\": 62,\n",
      "    \"change_accent\": 51,\n",
      "    \"change_ai_name\": 55,\n",
      "    \"change_language\": 29,\n",
      "    \"change_speed\": 119,\n",
      "    \"change_user_name\": 144,\n",
      "    \"change_volume\": 150,\n",
      "    \"confirm_reservation\": 85,\n",
      "    \"cook_time\": 86,\n",
      "    \"credit_limit\": 41,\n",
      "    \"credit_limit_change\": 109,\n",
      "    \"credit_score\": 69,\n",
      "    \"current_location\": 136,\n",
      "    \"damaged_card\": 87,\n",
      "    \"date\": 95,\n",
      "    \"definition\": 139,\n",
      "    \"direct_deposit\": 108,\n",
      "    \"directions\": 72,\n",
      "    \"distance\": 78,\n",
      "    \"do_you_have_pets\": 34,\n",
      "    \"exchange_rate\": 38,\n",
      "    \"expiration_date\": 44,\n",
      "    \"find_phone\": 81,\n",
      "    \"flight_status\": 80,\n",
      "    \"flip_coin\": 33,\n",
      "    \"food_last\": 54,\n",
      "    \"freeze_account\": 20,\n",
      "    \"fun_fact\": 129,\n",
      "    \"gas\": 110,\n",
      "    \"gas_type\": 8,\n",
      "    \"goodbye\": 114,\n",
      "    \"greeting\": 82,\n",
      "    \"how_busy\": 102,\n",
      "    \"how_old_are_you\": 99,\n",
      "    \"improve_credit_score\": 28,\n",
      "    \"income\": 93,\n",
      "    \"ingredient_substitution\": 134,\n",
      "    \"ingredients_list\": 112,\n",
      "    \"insurance\": 74,\n",
      "    \"insurance_change\": 64,\n",
      "    \"interest_rate\": 7,\n",
      "    \"international_fees\": 137,\n",
      "    \"international_visa\": 59,\n",
      "    \"jump_start\": 17,\n",
      "    \"last_maintenance\": 37,\n",
      "    \"lost_luggage\": 113,\n",
      "    \"make_call\": 25,\n",
      "    \"maybe\": 121,\n",
      "    \"meal_suggestion\": 46,\n",
      "    \"meaning_of_life\": 22,\n",
      "    \"measurement_conversion\": 31,\n",
      "    \"meeting_schedule\": 19,\n",
      "    \"min_payment\": 143,\n",
      "    \"mpg\": 142,\n",
      "    \"new_card\": 91,\n",
      "    \"next_holiday\": 140,\n",
      "    \"next_song\": 118,\n",
      "    \"no\": 30,\n",
      "    \"nutrition_info\": 1,\n",
      "    \"oil_change_how\": 3,\n",
      "    \"oil_change_when\": 123,\n",
      "    \"oos\": 42,\n",
      "    \"order\": 16,\n",
      "    \"order_checks\": 127,\n",
      "    \"order_status\": 84,\n",
      "    \"pay_bill\": 111,\n",
      "    \"payday\": 79,\n",
      "    \"pin_change\": 89,\n",
      "    \"play_music\": 106,\n",
      "    \"plug_type\": 120,\n",
      "    \"pto_balance\": 126,\n",
      "    \"pto_request\": 97,\n",
      "    \"pto_request_status\": 101,\n",
      "    \"pto_used\": 148,\n",
      "    \"recipe\": 104,\n",
      "    \"redeem_rewards\": 6,\n",
      "    \"reminder\": 76,\n",
      "    \"reminder_update\": 53,\n",
      "    \"repeat\": 13,\n",
      "    \"replacement_card_duration\": 90,\n",
      "    \"report_fraud\": 70,\n",
      "    \"report_lost_card\": 12,\n",
      "    \"reset_settings\": 88,\n",
      "    \"restaurant_reservation\": 23,\n",
      "    \"restaurant_reviews\": 0,\n",
      "    \"restaurant_suggestion\": 145,\n",
      "    \"rewards_balance\": 50,\n",
      "    \"roll_dice\": 92,\n",
      "    \"rollover_401k\": 100,\n",
      "    \"routing\": 45,\n",
      "    \"schedule_maintenance\": 131,\n",
      "    \"schedule_meeting\": 18,\n",
      "    \"share_location\": 58,\n",
      "    \"shopping_list\": 43,\n",
      "    \"shopping_list_update\": 125,\n",
      "    \"smart_home\": 10,\n",
      "    \"spelling\": 73,\n",
      "    \"spending_history\": 71,\n",
      "    \"sync_device\": 130,\n",
      "    \"taxes\": 94,\n",
      "    \"tell_joke\": 36,\n",
      "    \"text\": 26,\n",
      "    \"thank_you\": 124,\n",
      "    \"time\": 4,\n",
      "    \"timer\": 32,\n",
      "    \"timezone\": 66,\n",
      "    \"tire_change\": 47,\n",
      "    \"tire_pressure\": 98,\n",
      "    \"todo_list\": 48,\n",
      "    \"todo_list_update\": 65,\n",
      "    \"traffic\": 24,\n",
      "    \"transactions\": 68,\n",
      "    \"transfer\": 133,\n",
      "    \"translate\": 61,\n",
      "    \"travel_alert\": 128,\n",
      "    \"travel_notification\": 146,\n",
      "    \"travel_suggestion\": 149,\n",
      "    \"uber\": 39,\n",
      "    \"update_playlist\": 141,\n",
      "    \"user_name\": 11,\n",
      "    \"vaccines\": 52,\n",
      "    \"w2\": 122,\n",
      "    \"weather\": 5,\n",
      "    \"what_are_your_hobbies\": 15,\n",
      "    \"what_can_i_ask_you\": 115,\n",
      "    \"what_is_your_name\": 75,\n",
      "    \"what_song\": 21,\n",
      "    \"where_are_you_from\": 77,\n",
      "    \"whisper_mode\": 14,\n",
      "    \"who_do_you_work_for\": 57,\n",
      "    \"who_made_you\": 96,\n",
      "    \"yes\": 107\n",
      "  },\n",
      "  \"max_position_embeddings\": 512,\n",
      "  \"model_type\": \"distilbert\",\n",
      "  \"n_heads\": 12,\n",
      "  \"n_layers\": 6,\n",
      "  \"pad_token_id\": 0,\n",
      "  \"problem_type\": \"single_label_classification\",\n",
      "  \"qa_dropout\": 0.1,\n",
      "  \"seq_classif_dropout\": 0.2,\n",
      "  \"sinusoidal_pos_embds\": false,\n",
      "  \"tie_weights_\": true,\n",
      "  \"torch_dtype\": \"float32\",\n",
      "  \"transformers_version\": \"4.18.0\",\n",
      "  \"vocab_size\": 30522\n",
      "}\n",
      "\n",
      "loading weights file https://huggingface.co/chris-santiago/distilbert-base-uncased-distilled-clinc/resolve/main/pytorch_model.bin from cache at /root/.cache/huggingface/transformers/12e5daa6ec00a2c0356beef1f3d0d02cacdb63e2f35ff197a38436282ee3814b.cdbd6bb260df3125e61cac29aa3e44a8446b92711bc49fa7ab91cc9dedf49f6d\n",
      "All model checkpoint weights were used when initializing DistilBertForSequenceClassification.\n",
      "\n",
      "All the weights of DistilBertForSequenceClassification were initialized from the model checkpoint at chris-santiago/distilbert-base-uncased-distilled-clinc.\n",
      "If your task is similar to the task the model of the checkpoint was trained on, you can already use DistilBertForSequenceClassification for predictions without further training.\n"
     ]
    }
   ],
   "source": [
    "tokenizer = AutoTokenizer.from_pretrained(distilled_ckpt)\n",
    "model = AutoModelForSequenceClassification.from_pretrained(distilled_ckpt).to('cpu')\n",
    "model_quantized = quantize_dynamic(model, {nn.Linear}, dtype=torch.qint8)"
   ]
  },
  {
   "cell_type": "code",
   "execution_count": 47,
   "metadata": {
    "collapsed": false,
    "jupyter": {
     "outputs_hidden": false
    },
    "pycharm": {
     "name": "#%%\n"
    }
   },
   "outputs": [
    {
     "name": "stdout",
     "output_type": "stream",
     "text": [
      "Model size (MB): 132.40\n",
      "Average latency (ms): 28.43 +/- 17.83\n"
     ]
    },
    {
     "name": "stderr",
     "output_type": "stream",
     "text": [
      "100%|██████████| 5500/5500 [03:12<00:00, 28.54it/s]\n"
     ]
    },
    {
     "name": "stdout",
     "output_type": "stream",
     "text": [
      "Accuracy on test set: 0.895\n"
     ]
    }
   ],
   "source": [
    "pipe = pipeline('text-classification', model=model_quantized, tokenizer=tokenizer)\n",
    "optim_type = 'Distillation+Quantization'\n",
    "\n",
    "pb = PerformanceBenchmark(pipe, data['test'], optim_type=optim_type)\n",
    "perf.update(pb.run(mapper=get_intents))"
   ]
  },
  {
   "cell_type": "code",
   "execution_count": 48,
   "metadata": {},
   "outputs": [
    {
     "data": {
      "text/plain": [
       "{'BERT baseline': {'size_mb': 418.1629457473755,\n",
       "  'avg_ms': 51.94768721237779,\n",
       "  'std_ms': 37.02247969711823,\n",
       "  'accuracy': 0.8672727272727273},\n",
       " 'DistilBERT': {'size_mb': 255.887375831604,\n",
       "  'avg_ms': 33.894889783114195,\n",
       "  'std_ms': 31.0773435447728,\n",
       "  'accuracy': 0.8623636363636363},\n",
       " 'Distillation': {'size_mb': 255.887375831604,\n",
       "  'avg_ms': 42.12866319343448,\n",
       "  'std_ms': 29.7106176489378,\n",
       "  'accuracy': 0.8894545454545455},\n",
       " 'Distillation+Quantization': {'size_mb': 132.3969964981079,\n",
       "  'avg_ms': 28.426045808009803,\n",
       "  'std_ms': 17.831509069216693,\n",
       "  'accuracy': 0.8954545454545455}}"
      ]
     },
     "execution_count": 48,
     "metadata": {},
     "output_type": "execute_result"
    }
   ],
   "source": [
    "perf"
   ]
  },
  {
   "cell_type": "code",
   "execution_count": 49,
   "metadata": {},
   "outputs": [],
   "source": [
    "dump_metrics(perf)"
   ]
  },
  {
   "cell_type": "code",
   "execution_count": 50,
   "metadata": {
    "collapsed": false,
    "jupyter": {
     "outputs_hidden": false
    },
    "pycharm": {
     "name": "#%%\n"
    }
   },
   "outputs": [
    {
     "data": {
      "image/png": "[encoded data removed]",
      "text/plain": [
       "<Figure size 432x288 with 1 Axes>"
      ]
     },
     "metadata": {
      "needs_background": "light"
     },
     "output_type": "display_data"
    }
   ],
   "source": [
    "plot_metrics(perf, optim_type)"
   ]
  }
 ],
 "metadata": {
  "kernelspec": {
   "display_name": "Python 3 (ipykernel)",
   "language": "python",
   "name": "python3"
  },
  "language_info": {
   "codemirror_mode": {
    "name": "ipython",
    "version": 3
   },
   "file_extension": ".py",
   "mimetype": "text/x-python",
   "name": "python",
   "nbconvert_exporter": "python",
   "pygments_lexer": "ipython3",
   "version": "3.9.13"
  }
 },
 "nbformat": 4,
 "nbformat_minor": 4
}
